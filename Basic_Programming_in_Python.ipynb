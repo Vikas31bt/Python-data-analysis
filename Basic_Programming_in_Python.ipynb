{
 "cells": [
  {
   "cell_type": "markdown",
   "metadata": {
    "collapsed": false,
    "deletable": false,
    "editable": false,
    "nbgrader": {
     "grade": false,
     "grade_id": "edb4d2",
     "locked": true,
     "schema_version": 3,
     "solution": false,
     "task": false
    }
   },
   "source": [
    "# Welcome to Assignment 1!\n",
    "\n",
    "Please read through the instructions in the file found on Blackboard, I'll be including them here as well, but the file will give you an overview of the assignment and the rubric will let you know how you will be marked. Please remember to comment your code! Use a different cell for each bullet point."
   ]
  },
  {
   "cell_type": "markdown",
   "metadata": {
    "collapsed": false,
    "deletable": false,
    "editable": false,
    "nbgrader": {
     "grade": false,
     "grade_id": "a709a6",
     "locked": true,
     "schema_version": 3,
     "solution": false,
     "task": false
    }
   },
   "source": [
    "## Task 1: Basic Python Operations\n",
    "1.\tDefine two variables, `x` and `y`, and assign them the values 15 and 7, respectively.\n",
    "2.\tCalculate and print the sum, difference, product, and quotient (result of division) of `x` and `y`.\n"
   ]
  },
  {
   "cell_type": "code",
   "execution_count": 1,
   "metadata": {
    "collapsed": false,
    "deletable": false,
    "nbgrader": {
     "checksum": "681ecbda27b226d4a494be64555d766a",
     "grade": false,
     "grade_id": "a6feb4",
     "locked": false,
     "remove": false,
     "schema_version": 3,
     "solution": true,
     "task": false
    }
   },
   "outputs": [
   ],
   "source": [
    "# This code will assign the value to both variables\n",
    "x = 15\n",
    "y = 7"
   ]
  },
  {
   "cell_type": "code",
   "execution_count": 2,
   "metadata": {
    "collapsed": false,
    "deletable": false,
    "nbgrader": {
     "checksum": "3fd7c69051b349b15d5a5de160875b26",
     "grade": false,
     "grade_id": "960b2f",
     "locked": false,
     "schema_version": 3,
     "solution": true,
     "task": false
    }
   },
   "outputs": [
    {
     "name": "stdout",
     "output_type": "stream",
     "text": [
      "Sum of the two variables is: 22\n",
      "Diffrence of the two variables is: 8\n",
      "Product of the two variables is: 105\n",
      "Quotient of the two variables is: 1\n"
     ]
    }
   ],
   "source": [
    "#This code will calculate and display the results for each operation\n",
    "print(\"Sum of the two variables is:\",(x+y))\n",
    "print(\"Diffrence of the two variables is:\",(x-y))\n",
    "print(\"Product of the two variables is:\",(x*y))\n",
    "print(\"Quotient of the two variables is:\",(x%y))"
   ]
  },
  {
   "cell_type": "markdown",
   "metadata": {
    "collapsed": false,
    "deletable": false,
    "editable": false,
    "nbgrader": {
     "grade": false,
     "grade_id": "d25ca0",
     "locked": true,
     "schema_version": 3,
     "solution": false,
     "task": false
    }
   },
   "source": [
    "## Task 2: Lists and Loops\n",
    "1.\tCreate a list named `data` containing the following elements: 24, 56, 73, 42, 18, 31, 77.\n",
    "2.\tUsing a loop, calculate and print the following statistics for the elements in the `data` list:  \n",
    "\ta.\tMean (average)  \n",
    "\tb.\tMaximum  \n",
    "\tc.\tMinimum  \n",
    "\td.\tRange (difference between maximum and minimum)  \n"
   ]
  },
  {
   "cell_type": "code",
   "execution_count": 61,
   "metadata": {
    "collapsed": false,
    "deletable": false,
    "nbgrader": {
     "checksum": "935b82a85c30d6ecd64efbe5b9cfc7be",
     "grade": false,
     "grade_id": "bc8498",
     "locked": false,
     "schema_version": 3,
     "solution": true,
     "task": false
    }
   },
   "outputs": [
    {
     "data": {
      "text/plain": [
       "7"
      ]
     },
     "execution_count": 61,
     "metadata": {
     },
     "output_type": "execute_result"
    }
   ],
   "source": [
    "# Create a list named data\n",
    "data = [24, 56, 73, 42, 18, 31, 77]\n",
    "len(data)"
   ]
  },
  {
   "cell_type": "code",
   "execution_count": 62,
   "metadata": {
    "collapsed": false,
    "deletable": false,
    "nbgrader": {
     "checksum": "0c171ad4b02124676049bf0d3444a1c1",
     "grade": false,
     "grade_id": "da214c",
     "locked": false,
     "schema_version": 3,
     "solution": true,
     "task": false
    }
   },
   "outputs": [
    {
     "name": "stdout",
     "output_type": "stream",
     "text": [
      "Mean: 45.857142857142854\n",
      "Maximum: 77\n",
      "Minimum: 18\n",
      "Range: 59\n"
     ]
    }
   ],
   "source": [
    "# Find Sum, Maximum and Minimum using inbuilt functions\n",
    "# Maximum = max(data)\n",
    "# Minimum = min(data)\n",
    "# Sum = sum(data)\n",
    "\n",
    "Sum = 0\n",
    "Maximum = data[0]  # Initialize maximum to the first element of data\n",
    "Minimum = data[0]  # Initialize mimimum to the first element of data\n",
    "\n",
    "# Calculate mean and find maximum and minimum using loop\n",
    "for element in data:\n",
    "    Sum += element\n",
    "    if element > Maximum:\n",
    "        Maximum = element\n",
    "    if element < Minimum:\n",
    "        Minimum = element\n",
    "        \n",
    "# Calculate range\n",
    "Range = Maximum - Minimum\n",
    "\n",
    "# Calculate mean\n",
    "Mean =  Sum/len(data)\n",
    "\n",
    "# Print the statistics\n",
    "print(\"Mean:\", Mean)\n",
    "print(\"Maximum:\", Maximum)\n",
    "print(\"Minimum:\", Minimum)\n",
    "print(\"Range:\", Range)"
   ]
  },
  {
   "cell_type": "markdown",
   "metadata": {
    "collapsed": false,
    "deletable": false,
    "editable": false,
    "nbgrader": {
     "grade": false,
     "grade_id": "12e756",
     "locked": true,
     "schema_version": 3,
     "solution": false,
     "task": false
    }
   },
   "source": [
    "## Task 3: Data Filtering and Analysis\n",
    "1.\tGiven the list `temperatures = [28, 32, 25, 30, 33, 27, 29, 31, 22, 35]`, write a code segment that filters and prints the temperatures that are above the average temperature of the list.  \n",
    "2.\tCalculate and print the number of temperatures that are even numbers.  \n"
   ]
  },
  {
   "cell_type": "code",
   "execution_count": 63,
   "metadata": {
    "collapsed": false,
    "deletable": false,
    "nbgrader": {
     "checksum": "05b3973b9943c537ee80accb17df269b",
     "grade": false,
     "grade_id": "9be2a3",
     "locked": false,
     "schema_version": 3,
     "solution": true,
     "task": false
    }
   },
   "outputs": [
    {
     "name": "stdout",
     "output_type": "stream",
     "text": [
      "32\n",
      "30\n",
      "33\n",
      "31\n",
      "35\n"
     ]
    }
   ],
   "source": [
    "temperatures = [28, 32, 25, 30, 33, 27, 29, 31, 22, 35]\n",
    "\n",
    "# Calculate the average temperature\n",
    "avg_temp = sum(temperatures) / len(temperatures)\n",
    " \n",
    "# Iterate through the temperatures and print those above the average\n",
    "for temp in temperatures:\n",
    "    if temp > avg_temp:\n",
    "        print(temp)"
   ]
  },
  {
   "cell_type": "code",
   "execution_count": 64,
   "metadata": {
    "collapsed": false,
    "deletable": false,
    "nbgrader": {
     "checksum": "f204b012c2b88a514386088096a3f50d",
     "grade": false,
     "grade_id": "546112",
     "locked": false,
     "schema_version": 3,
     "solution": true,
     "task": false
    }
   },
   "outputs": [
    {
     "name": "stdout",
     "output_type": "stream",
     "text": [
      "28\n",
      "32\n",
      "30\n",
      "22\n"
     ]
    }
   ],
   "source": [
    "# Iterate through the temperatures and print even numbers\n",
    "for temp in temperatures:\n",
    "    if temp % 2 == 0:\n",
    "        print(temp)"
   ]
  },
  {
   "cell_type": "markdown",
   "metadata": {
    "collapsed": false,
    "deletable": false,
    "editable": false,
    "nbgrader": {
     "grade": false,
     "grade_id": "e06b56",
     "locked": true,
     "schema_version": 3,
     "solution": false,
     "task": false
    }
   },
   "source": [
    "## Task 4: String Manipulation and Conditionals\n",
    "1.\tDefine a function named `analyze_sentence` that takes a sentence as input and does the following:  \n",
    "\ta.\tPrints the total number of characters in the sentence.  \n",
    "\tb.\tPrints the sentence in all uppercase.  \n",
    "\tc.\tDetermines if the sentence ends with a question mark. If it does, print \"Question detected!\" otherwise print \"Not a question.\"  \n",
    "\td.\tCount and print the number of words in the sentence.  \n",
    "Bonus: Can you make it so that the function won't work if x is not a string?\n"
   ]
  },
  {
   "cell_type": "code",
   "execution_count": 65,
   "metadata": {
    "collapsed": false,
    "deletable": false,
    "nbgrader": {
     "checksum": "1b916c8add02f44a5dd8abe7be9f5416",
     "grade": false,
     "grade_id": "343f0e",
     "locked": false,
     "schema_version": 3,
     "solution": true,
     "task": false
    }
   },
   "outputs": [
    {
     "name": "stdout",
     "output_type": "stream",
     "text": [
      "Total number of characters: 34\n",
      "Uppercase sentence: DID I COMPLETE THE ASSIGNMENT ONE?\n",
      "Question detected!\n",
      "Number of words in the sentence: 6\n"
     ]
    }
   ],
   "source": [
    "def analyze_sentence(sentence):\n",
    "    # a: Print the total number of characters\n",
    "    print(\"Total number of characters:\", len(sentence))\n",
    "    \n",
    "    # b: Print the sentence in all uppercase\n",
    "    print(\"Uppercase sentence:\", sentence.upper())\n",
    "    \n",
    "    # c: Check if the sentence ends with a question mark\n",
    "    if sentence.endswith(\"?\"):\n",
    "        print(\"Question detected!\")\n",
    "    else:\n",
    "        print(\"Not a question.\")\n",
    "    \n",
    "    # d: Count and print the number of words\n",
    "    print(\"Number of words in the sentence:\", len(sentence.split()))\n",
    "\n",
    "# call this function by providing the input\n",
    "sentence = \"Did I complete the assignment one?\"\n",
    "analyze_sentence(sentence)"
   ]
  },
  {
   "cell_type": "code",
   "execution_count": 66,
   "metadata": {
    "collapsed": false
   },
   "outputs": [
   ],
   "source": [
    "# if not isinstance(sentence, str) would be used to check if the sentence variable is not an instance of the string data type (str)"
   ]
  },
  {
   "cell_type": "code",
   "execution_count": 0,
   "metadata": {
    "collapsed": false
   },
   "outputs": [
   ],
   "source": [
   ]
  }
 ],
 "metadata": {
  "kernelspec": {
   "argv": [
    "/ext/jupyter/kernels/anaconda2022/launch.sh",
    "{connection_file}"
   ],
   "display_name": "Python 3 (Anaconda 2022)",
   "env": {
   },
   "language": "python",
   "metadata": {
    "cocalc": {
     "description": "Anaconda 2022.05 Python 3 environment",
     "priority": 5,
     "url": "https://www.anaconda.com/distribution/"
    }
   },
   "name": "anaconda2022",
   "resource_dir": "/ext/jupyter/kernels/anaconda2022"
  },
  "language_info": {
   "codemirror_mode": {
    "name": "ipython",
    "version": 3
   },
   "file_extension": ".py",
   "mimetype": "text/x-python",
   "name": "python",
   "nbconvert_exporter": "python",
   "pygments_lexer": "ipython3",
   "version": "3.9.15"
  },
  "nbgrader": {
   "__altered": false,
   "__hash": 269681261,
   "_root": {
    "entries": [
     [
      "size",
      6
     ],
     [
      "_root",
      {
       "entries": [
        [
         "size",
         6
        ],
        [
         "_root",
         {
          "entries": [
           [
            "size",
            6
           ],
           [
            "_root",
            {
             "entries": [
              [
               "size",
               1
              ],
              [
               "_root",
               {
                "entries": [
                 [
                  "cocalc_minimal_stubs",
                  false
                 ]
                ],
                "ownerID": {
                }
               }
              ],
              [
               "__ownerID",
               null
              ],
              [
               "__hash",
               -335098374
              ],
              [
               "__altered",
               false
              ],
              [
               "cocalc_minimal_stubs",
               false
              ]
             ],
             "ownerID": {
             }
            }
           ],
           [
            "__ownerID",
            null
           ],
           [
            "__hash",
            633336276
           ],
           [
            "__altered",
            false
           ],
           [
            "cocalc_minimal_stubs",
            false
           ]
          ],
          "ownerID": {
          }
         }
        ],
        [
         "__ownerID",
         null
        ],
        [
         "__hash",
         -341060574
        ],
        [
         "__altered",
         false
        ],
        [
         "cocalc_minimal_stubs",
         false
        ]
       ],
       "ownerID": {
       }
      }
     ],
     [
      "__ownerID",
      null
     ],
     [
      "__hash",
      462996227
     ],
     [
      "__altered",
      false
     ],
     [
      "cocalc_minimal_stubs",
      false
     ]
    ],
    "ownerID": {
    }
   },
   "cocalc_minimal_stubs": false,
   "size": 6
  }
 },
 "nbformat": 4,
 "nbformat_minor": 4
}