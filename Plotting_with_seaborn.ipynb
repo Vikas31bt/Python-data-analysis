{
 "cells": [
  {
   "cell_type": "markdown",
   "metadata": {
    "collapsed": false,
    "deletable": false,
    "editable": false,
    "nbgrader": {
     "grade": false,
     "grade_id": "46c05e",
     "locked": true,
     "schema_version": 3,
     "solution": false,
     "task": false
    }
   },
   "source": [
    "# Assignment 3: Plotting with Seaborn\n",
    "\n",
    "Now that you have familiarized yourselves with the basic python graphs, let's test what you know! This assignment is meant to three things:\n",
    "\n",
    "1. Can you design and apply an efficient method to return a value?\n",
    "2. Can you pick the right plot type to explore the question of interest?\n",
    "3. Can you interpret what your plot means? \n",
    "\n",
    "This assignment will consist of both coding questions and multiple choice questions as well. Topics in the assignment may be directly from lectures/practicals or might encourage you to look for new functions to accomplish the goal. Please ensure to read the questions carefully and to copy variable names and file paths to ensure no typos. As the assignment will be using autograder, it will mark typos as incorrect, and no part marks will be rewarded ... you have been warned. Make sure you also load all the packages required for the functions you are using. You will periodically see blank cells, do not move them or try to delete them as these are the grading cells. As always if you have any questions feel free to post on the discussion board or email both Vicki \\([vickimengyuan.zhang@humber.ca](mailto:vickimengyuan.zhang@humber.ca)\\) and Yeshoda \\([yeshoda.harry\\-paul@humber.ca](mailto:yeshoda.harry-paul@humber.ca)\\). Good luck!\n",
    "\n",
    "## Section 1: Methods in python (4 pts)\n",
    "\n",
    "While not necessarily aiding directly in the plotting process, we saw that methods helped us to organize our data. For the next few questions we will be using the `diamonds` dataset. Run the code below:\n",
    "\n",
    "```python {kernel=\"python3\"}\n",
    "import seaborn as sns\n",
    "sns.get_dataset_names()\n",
    "diamonds = sns.load_dataset(\"diamonds\")\n",
    "diamonds.head()\n",
    "```\n",
    "\n",
    "### Question 1.1 (1 pt)\n",
    "\n",
    "Design a function to calculate the volume of a square\\-based pyramid. Your function should take in 3 values, base length, base width and pyramid height. Make sure you account for missing or bad valuesCall your function  `diamonds_volume` \n",
    "\n"
   ]
  },
  {
   "cell_type": "code",
   "execution_count": 2,
   "metadata": {
    "collapsed": false,
    "deletable": false,
    "editable": false,
    "nbgrader": {
     "grade": false,
     "grade_id": "ab8339",
     "locked": true,
     "schema_version": 3,
     "solution": false,
     "task": false
    }
   },
   "outputs": [
   ],
   "source": [
    "import numpy as np\n",
    "import seaborn as sns\n",
    "import matplotlib.pyplot as plt\n"
   ]
  },
  {
   "cell_type": "code",
   "execution_count": 3,
   "metadata": {
    "collapsed": false,
    "deletable": false,
    "nbgrader": {
     "checksum": "e2a835b9f261bb51adfa8b9a2d5a7939",
     "grade": false,
     "grade_id": "1810c9",
     "locked": false,
     "schema_version": 3,
     "solution": true,
     "task": false
    }
   },
   "outputs": [
    {
     "name": "stdout",
     "output_type": "stream",
     "text": [
      "The volume of the pyramid is: 12.692295 cubic units\n"
     ]
    }
   ],
   "source": [
    "# YOUR CODE HERE\n",
    "def diamonds_volume(base_length, base_width, pyramid_height):\n",
    "    # Check for missing or bad values\n",
    "    if None in (base_length, base_width, pyramid_height) or any(val <= 0 for val in (base_length, base_width, pyramid_height)):\n",
    "        return None\n",
    "    \n",
    "    # Calculate and return the volume of the square-based pyramid\n",
    "    return (base_length * base_width * pyramid_height) / 3\n",
    "\n",
    "# Example usage:\n",
    "base_length = 4.05\n",
    "base_width = 4.07\n",
    "pyramid_height = 2.31\n",
    "\n",
    "result = diamonds_volume(base_length, base_width, pyramid_height)\n",
    "print(f\"The volume of the pyramid is: {result} cubic units\")"
   ]
  },
  {
   "cell_type": "code",
   "execution_count": 4,
   "metadata": {
    "collapsed": false,
    "deletable": false,
    "editable": false,
    "nbgrader": {
     "grade": true,
     "grade_id": "819894",
     "locked": true,
     "points": 1,
     "schema_version": 3,
     "solution": false,
     "task": false
    }
   },
   "outputs": [
   ],
   "source": [
    "# Don't mind this cell, it's for grading purposes only"
   ]
  },
  {
   "cell_type": "markdown",
   "metadata": {
    "collapsed": false,
    "deletable": false,
    "editable": false,
    "nbgrader": {
     "grade": false,
     "grade_id": "38c55d",
     "locked": true,
     "schema_version": 3,
     "solution": false,
     "task": false
    }
   },
   "source": [
    "### Question 1.2 (3 pts)\n",
    "\n",
    "Use your function to create a new column in the `diamonds` dataset called `volume` . \n",
    "\n",
    "_HINT:_ While we know that this can be done with just pandas logic we want you to try and find different ways of solving issues in code. Try and take a look at using `.apply()` and `lambda` \n"
   ]
  },
  {
   "cell_type": "code",
   "execution_count": 5,
   "metadata": {
    "collapsed": false,
    "deletable": false,
    "nbgrader": {
     "checksum": "88d7fd1161c7fbfd72ebb245173140c0",
     "grade": false,
     "grade_id": "4ea5b6",
     "locked": false,
     "schema_version": 3,
     "solution": true,
     "task": false
    }
   },
   "outputs": [
    {
     "name": "stdout",
     "output_type": "stream",
     "text": [
      "   carat      cut color clarity  depth  table  price     x     y     z  \\\n",
      "0   0.23    Ideal     E     SI2   61.5   55.0    326  3.95  3.98  2.43   \n",
      "1   0.21  Premium     E     SI1   59.8   61.0    326  3.89  3.84  2.31   \n",
      "2   0.23     Good     E     VS1   56.9   65.0    327  4.05  4.07  2.31   \n",
      "3   0.29  Premium     I     VS2   62.4   58.0    334  4.20  4.23  2.63   \n",
      "4   0.31     Good     J     SI2   63.3   58.0    335  4.34  4.35  2.75   \n",
      "\n",
      "      volume  \n",
      "0  12.734010  \n",
      "1  11.501952  \n",
      "2  12.692295  \n",
      "3  15.574860  \n",
      "4  17.305750  \n"
     ]
    }
   ],
   "source": [
    "# YOUR CODE HERE\n",
    "\n",
    "# Load the dataset\n",
    "diamonds = sns.load_dataset(\"diamonds\")\n",
    "\n",
    "# Create a new column 'volume' using apply and lambda\n",
    "diamonds['volume'] = diamonds.apply(lambda row: diamonds_volume(row['x'], row['y'], row['z']), axis=1)\n",
    "\n",
    "# Display the updated dataframe\n",
    "print(diamonds.head())"
   ]
  },
  {
   "cell_type": "code",
   "execution_count": 6,
   "metadata": {
    "collapsed": false,
    "deletable": false,
    "editable": false,
    "nbgrader": {
     "grade": true,
     "grade_id": "11d3b0",
     "locked": true,
     "points": 3,
     "remove": false,
     "schema_version": 3,
     "solution": false,
     "task": false
    }
   },
   "outputs": [
   ],
   "source": [
    "# Don't mind this cell, it's for grading purposes only"
   ]
  },
  {
   "cell_type": "markdown",
   "metadata": {
    "collapsed": false,
    "deletable": false,
    "editable": false,
    "nbgrader": {
     "grade": false,
     "grade_id": "6bf4dd",
     "locked": true,
     "schema_version": 3,
     "solution": false,
     "task": false
    }
   },
   "source": [
    "## Section 2: Exploring Questions \\(8 pts total\\)\n",
    "\n",
    "Here we will be using the same `diamonds` dataset to answer various questions. \n",
    "\n",
    "### Question 2.1 \\(2 pts\\)\n",
    "\n",
    "What is the relationship between `caret` and `volume`? Which plot do you think is best to explore this question? Store your answer in `question_2_1a`. What kind of relationship is it? Store a multiple choice letter in your variable `question_2_1b`\n",
    "\n",
    "a\\) Positively correlated\n",
    "\n",
    "b\\) Negatively correlated\n",
    "\n",
    "c\\) No correlation\n",
    "\n"
   ]
  },
  {
   "cell_type": "code",
   "execution_count": 36,
   "metadata": {
    "collapsed": false,
    "deletable": false,
    "nbgrader": {
     "checksum": "fb49b92b9f0c20adf22c9f69373205ba",
     "grade": false,
     "grade_id": "d9f88e",
     "locked": false,
     "schema_version": 3,
     "solution": true,
     "task": false
    }
   },
   "outputs": [
    {
     "data": {
      "image/png": "[encoded data removed]",
      "text/plain": "<Figure size 864x504 with 1 Axes>"
     },
     "metadata": {
      "image/png": {
       "height": 440,
       "width": 723
      },
      "needs_background": "light"
     }
    },
    {
     "name": "stdout",
     "output_type": "stream",
     "text": [
      "Pearson correlation coefficient: 0.98\n",
      "A scatter plot is best to explore the relationship between carat and volume.\n",
      "Positively correlated\n"
     ]
    }
   ],
   "source": [
    "# YOUR CODE HERE\n",
    "# Scatter plot to explore the relationship between carat and volume\n",
    "sns.scatterplot(x='carat', y='volume', data=diamonds)\n",
    "plt.title('Relationship between Carat and Volume')\n",
    "plt.xlabel('Carat')\n",
    "plt.ylabel('Volume')\n",
    "\n",
    "# Squeeze the y-axis\n",
    "plt.ylim(bottom=0, top=300)\n",
    "\n",
    "plt.show()\n",
    "\n",
    "# Drop rows with missing values\n",
    "diamonds_cleaned = diamonds.dropna(subset=['carat', 'volume'])\n",
    "\n",
    "# Calculate the Pearson correlation coefficient\n",
    "correlation_matrix = np.corrcoef(diamonds_cleaned['carat'], diamonds_cleaned['volume'])\n",
    "correlation_coefficient = correlation_matrix[0, 1]\n",
    "\n",
    "# Print the result\n",
    "print(f\"Pearson correlation coefficient: {round(correlation_coefficient, 2)}\")\n",
    "\n",
    "# Answers to the questions\n",
    "question_2_1a = \"A scatter plot is best to explore the relationship between carat and volume.\"\n",
    "question_2_1b = \"Positively correlated\"\n",
    "print(question_2_1a)\n",
    "print(question_2_1b)"
   ]
  },
  {
   "cell_type": "code",
   "execution_count": 0,
   "metadata": {
    "collapsed": false,
    "deletable": false,
    "editable": false,
    "nbgrader": {
     "grade": true,
     "grade_id": "2969d0",
     "locked": true,
     "points": 2,
     "schema_version": 3,
     "solution": false,
     "task": false
    }
   },
   "outputs": [
   ],
   "source": [
    "# Don't mind this cell, it's for grading purposes only"
   ]
  },
  {
   "cell_type": "markdown",
   "metadata": {
    "collapsed": false
   },
   "source": [
    "### Question 2.2 (4 pts)\n",
    "Let's look at some outliers. Label the top 5 highest volume points on your plot with their `cut`. Which `cut` type does the highest one belong to? Store your answer as a string in the variable `question_2_2`. \n",
    "\n",
    "*HINT* look for the `.annotate()` function "
   ]
  },
  {
   "cell_type": "code",
   "execution_count": 34,
   "metadata": {
    "collapsed": false,
    "deletable": false,
    "nbgrader": {
     "checksum": "9e3c717845b28c4fa7d54b26e7282c70",
     "grade": false,
     "grade_id": "f022e6",
     "locked": false,
     "schema_version": 3,
     "solution": true,
     "task": false
    }
   },
   "outputs": [
    {
     "data": {
      "image/png": "[encoded data removed]",
      "text/plain": "<Figure size 720x720 with 1 Axes>"
     },
     "metadata": {
      "image/png": {
       "height": 603,
       "width": 618
      },
      "needs_background": "light"
     }
    },
    {
     "name": "stdout",
     "output_type": "stream",
     "text": [
      "The highest volume point belongs to the cut type: Premium\n"
     ]
    }
   ],
   "source": [
    "# YOUR CODE HERE\n",
    "\n",
    "# Sorting the DataFrame by volume to identify the top 5 highest volume points\n",
    "top_volume_points = diamonds.nlargest(5, 'volume')\n",
    "\n",
    "\n",
    "# Scatter plot with annotations\n",
    "plt.figure(figsize=(10, 10))\n",
    "sns.scatterplot(x='carat', y='volume', data=diamonds)\n",
    "\n",
    "# Annotate the top 5 highest volume points with their cut types\n",
    "for index, row in top_volume_points.iterrows():\n",
    "    xytext = (0, -10) if index % 2 == 0 else (0, 10)\n",
    "    #If index is an even number, the annotation will be offset by (0, -10).\n",
    "    #If index is an odd number, the annotation will be offset by (0, 10).\n",
    "    plt.annotate(row['cut'], (row['carat'], row['volume']), textcoords=\"offset points\", xytext=xytext, ha='center', color='red')\n",
    "\n",
    "plt.title('Relationship between Carat and Volume with Top 5 Highest Volume Points Annotated')\n",
    "plt.xlabel('Carat')\n",
    "plt.ylabel('Volume')\n",
    "plt.show()\n",
    "\n",
    "\n",
    "# Identify the cut type of the highest volume point\n",
    "highest_volume_cut = top_volume_points['cut'].iloc[0]\n",
    "question_2_2 = f\"The highest volume point belongs to the cut type: {highest_volume_cut}\"\n",
    "print(question_2_2)"
   ]
  },
  {
   "cell_type": "code",
   "execution_count": 0,
   "metadata": {
    "collapsed": false,
    "deletable": false,
    "editable": false,
    "nbgrader": {
     "grade": true,
     "grade_id": "5d1cdc",
     "locked": true,
     "points": 4,
     "schema_version": 3,
     "solution": false,
     "task": false
    }
   },
   "outputs": [
   ],
   "source": [
    "# Don't mind this cell, it's for grading purposes only"
   ]
  },
  {
   "cell_type": "markdown",
   "metadata": {
    "collapsed": false,
    "deletable": false,
    "editable": false,
    "nbgrader": {
     "grade": false,
     "grade_id": "e708a9",
     "locked": true,
     "schema_version": 3,
     "solution": false,
     "task": false
    }
   },
   "source": [
    "### Question 2.3 (2 pts)\n",
    "You want to see the proportion of `cut`s for ranges of different `price`s or diamonds. What plot type might be best for this? Store your answer in `question_2_3`. Make a plot that goes from $0 to $2000. Set your bins to $100."
   ]
  },
  {
   "cell_type": "code",
   "execution_count": 37,
   "metadata": {
    "collapsed": false,
    "deletable": false,
    "nbgrader": {
     "checksum": "ab6768ae256846d69a4f6aed9a25b407",
     "grade": false,
     "grade_id": "8990d0",
     "locked": false,
     "schema_version": 3,
     "solution": true,
     "task": false
    }
   },
   "outputs": [
    {
     "data": {
      "image/png": "[encoded data removed]",
      "text/plain": "<Figure size 864x432 with 1 Axes>"
     },
     "metadata": {
      "image/png": {
       "height": 386,
       "width": 730
      },
      "needs_background": "light"
     }
    },
    {
     "name": "stdout",
     "output_type": "stream",
     "text": [
      "A stacked bar plot is best for visualizing the proportion of cuts for ranges of different prices.\n"
     ]
    }
   ],
   "source": [
    "# YOUR CODE HERE\n",
    "# Create a subset of the dataset for prices between $0 and $2000\n",
    "price_subset = diamonds[(diamonds['price'] >= 0) & (diamonds['price'] <= 2000)]\n",
    "\n",
    "# Create a stacked bar plot\n",
    "plt.figure(figsize=(12, 6))\n",
    "sns.histplot(data=price_subset, x='price', hue='cut', multiple='stack', bins=range(0, 2001, 100), palette='pastel')\n",
    "plt.title('Proportion of Cuts for Different Price Ranges')\n",
    "plt.xlabel('Price')\n",
    "plt.ylabel('Count')\n",
    "plt.show()\n",
    "\n",
    "# Store the answer\n",
    "question_2_3 = \"A stacked bar plot is best for visualizing the proportion of cuts for ranges of different prices.\"\n",
    "print(question_2_3)"
   ]
  },
  {
   "cell_type": "code",
   "execution_count": 0,
   "metadata": {
    "collapsed": false,
    "deletable": false,
    "editable": false,
    "nbgrader": {
     "grade": true,
     "grade_id": "c47e8a",
     "locked": true,
     "points": 2,
     "schema_version": 3,
     "solution": false,
     "task": false
    }
   },
   "outputs": [
   ],
   "source": [
    "# Don't mind this cell, it's for grading purposes only"
   ]
  },
  {
   "cell_type": "markdown",
   "metadata": {
    "collapsed": false,
    "deletable": false,
    "editable": false,
    "nbgrader": {
     "grade": false,
     "grade_id": "65217a",
     "locked": true,
     "schema_version": 3,
     "solution": false,
     "task": false
    }
   },
   "source": [
    "## Section 3: Interpretations (6 pts, 2 each)\n",
    "\n",
    "Here we will be looking at graphs from various papers. You will be tasked with making proper figure captions. Reminder that a proper figure caption should be descriptive yet concise. It needs to describe the data shown i.e. what are the axes, what do they mean etc, while also drawing attention to important features or patterns within the figure. You can also include light interpretations of the data. For example:\n",
    "\n",
    "<img src=\"figures/1.webp\"   width=\"310.656px\"  height=\"473.661px\"  style=\"object-fit:cover\"/>\n",
    "\n",
    "Here we see that there are shapes circles, squares and triangles, which most likely represent different things that are being tested let's assume species. There are also two figures with the same shapes so from here we can gather they are being tested in two conditions. Therefore, where can make a caption something like this:\n",
    "\n",
    "> \"In figure A, species represented by different shapes, all have about the same rate of growth until t=20h. After this point their growth differs significantly over time. By the end of the experiment the species represented by the circle had the highest cell concentration at 120x10<sup>5</sup> cells/mL while the other conditions hover around 80x10<sup>5</sup> cells/mL. However, in figure B we see that there is no significant changes in cell concentration between species\"\n",
    "\n",
    "Store your answer in the cells provided.\n",
    "\n",
    "### Question 3.1\n",
    "\n",
    "<img src=\"figures/2.png\" style=\"max-width:100%\" />\n",
    "\n"
   ]
  },
  {
   "cell_type": "markdown",
   "metadata": {
    "collapsed": false,
    "deletable": false,
    "nbgrader": {
     "cell_type": "markdown",
     "checksum": "c61d1bd5bfd05a30db4bfc3109ee5549",
     "grade": true,
     "grade_id": "2839cc",
     "locked": false,
     "points": 2,
     "schema_version": 3,
     "solution": true,
     "task": false
    }
   },
   "source": [
    "Figure 3.1: Impact of Media Conditions on Cell Growth Across Experimental Groups\n",
    "\n",
    "In Figure 3.1, the dark and light bars signify distinct experimental groups within each type of media ('TAP,' 'TAP Mod,' 'A+,' and 'A+ mod'). Dark bars for 'TAP' and 'TAP Mod' show concentrations near 120x10^5 cells/mL, while 'A+' records zero cells, and 'A+ mod' maintains approximately 5x10^5 cells/mL. Lighter bars hover around 90x10^5 cells/mL in 'TAP,' 115x10^5 cells/mL in 'TAP Mod,' 100x10^5 cells/mL in 'A+,' and 90x10^5 cells/mL in 'A+ mod.' 'TAP' and 'TAP Mod' media significantly impact cell proliferation within their respective experimental groups, in contrast to the subdued effect of 'A+' and 'A+ mod' media. These findings underscore the critical role of media conditions in shaping cell growth dynamics for each experimental group in different media.\n",
    "\n"
   ]
  },
  {
   "cell_type": "markdown",
   "metadata": {
    "collapsed": false,
    "deletable": false,
    "editable": false,
    "nbgrader": {
     "grade": false,
     "grade_id": "f335f5",
     "locked": true,
     "schema_version": 3,
     "solution": false,
     "task": false
    }
   },
   "source": [
    "## Question 3.2\n",
    "\n",
    "<img src=\"figures/3.png\"   width=\"794.825px\"  height=\"505.444px\"  style=\"object-fit:cover\"/>\n"
   ]
  },
  {
   "cell_type": "markdown",
   "metadata": {
    "collapsed": false,
    "deletable": false,
    "nbgrader": {
     "cell_type": "markdown",
     "checksum": "15bf45e9797d9da92b67bc5194119979",
     "grade": true,
     "grade_id": "edada6",
     "locked": false,
     "points": 2,
     "schema_version": 3,
     "solution": true,
     "task": false
    }
   },
   "source": [
    "Figure 3.2e: Sea Otter Abundance Over Time\n",
    "\n",
    "Figure 3.2e, illustrates the population changes of sea otters over several decades, capturing distinct phases: Pre-Otter Expansion, Otter Expansion, and Post-Otter Expansion. The observed increase in sea otter abundance suggests the impact of otter recolonization on the local environment.\n",
    "\n",
    "Figure 3.2f: Erosion Trends Over Time\n",
    "\n",
    "Figure 3.2f  illustrates the temporal trends in erosion over several decades. The data suggests potential long-term patterns in erosion dynamics.\n",
    "\n",
    "Figure 3.2g: Sea Otters' Dynamic Impact on Erosion Rates Over Time\n",
    "\n",
    "Figure 3.2g, illustrates the relationship between sea otter abundance and erosion rates. The varying erosion rates correspond to the presence and expansion of sea otters, providing insights into their potential impact on erosion dynamics.\n",
    "\n",
    "Figure 3.2h: Impact of Sea Otter Recolonization on Anticipated Erosion Rates Over Time\n",
    "\n",
    "The figure 3.2h demonstrates the correlation between sea otter abundance and the expected erosion rate. The data suggests a potential role of sea otters in mitigating erosion, emphasizing their importance in shaping the stability of ecosystems."
   ]
  },
  {
   "cell_type": "markdown",
   "metadata": {
    "collapsed": false
   },
   "source": [
    "## Question 3.3 \n",
    "\n",
    "<img src=\"figures/4.png\" style=\"max-width:100%\" />\n",
    "\n"
   ]
  },
  {
   "cell_type": "markdown",
   "metadata": {
    "collapsed": false,
    "deletable": false,
    "nbgrader": {
     "cell_type": "markdown",
     "checksum": "9605ab1930a1a1828c0319b624cd2daf",
     "grade": true,
     "grade_id": "367e0b",
     "locked": false,
     "points": 2,
     "schema_version": 3,
     "solution": true,
     "task": false
    }
   },
   "source": [
    "Figure 3.3: Comparative Analysis of Microbial Strains Reveals Divergent Growth Rate and Acetate Utilization Patterns\n",
    "\n",
    "In Figure 3.3, the growth dynamics of distinct microbial species are depicted, each represented by unique shapes. From the outset, these species exhibit diverse growth rates. Notably, after t=60h, their growth trajectories undergo significant divergence. At the conclusion of the experiment, the species denoted by the diamond shape demonstrates superior performance, achieving the highest cell concentration and maximum acetate absorption at 1.6x10^5 cells/mL and 0.01 mM, respectively. In contrast, alternative conditions maintain lower concentrations, approximately 0.2x10^5 cells/mL and 0.4x10^5 cells/mL, with acetate consumption rates of 0.01 mM and 0.02 mM. This comparative analysis highlights the intricate temporal dynamics and diverse acetate utilization strategies among the microbial strains.\n"
   ]
  },
  {
   "cell_type": "code",
   "execution_count": 0,
   "metadata": {
    "collapsed": false
   },
   "outputs": [
   ],
   "source": [
   ]
  },
  {
   "cell_type": "code",
   "execution_count": 0,
   "metadata": {
    "collapsed": false
   },
   "outputs": [
   ],
   "source": [
   ]
  }
 ],
 "metadata": {
  "kernelspec": {
   "argv": [
    "/usr/bin/python3",
    "-m",
    "ipykernel",
    "--HistoryManager.enabled=False",
    "--matplotlib=inline",
    "-c",
    "%config InlineBackend.figure_formats = set(['retina'])\nimport matplotlib; matplotlib.rcParams['figure.figsize'] = (12, 7)",
    "-f",
    "{connection_file}"
   ],
   "display_name": "Python 3 (system-wide)",
   "env": {
   },
   "language": "python",
   "metadata": {
    "cocalc": {
     "description": "Python 3 programming language",
     "priority": 100,
     "url": "https://www.python.org/"
    }
   },
   "name": "python3",
   "resource_dir": "/ext/jupyter/kernels/python3"
  },
  "nbgrader": {
   "__altered": false,
   "__hash": -120868733,
   "_root": {
    "entries": [
     [
      "size",
      5
     ],
     [
      "_root",
      {
       "entries": [
        [
         "size",
         5
        ],
        [
         "_root",
         {
          "entries": [
           [
            "size",
            6
           ],
           [
            "_root",
            {
             "entries": [
              [
               "size",
               1
              ],
              [
               "_root",
               {
                "entries": [
                 [
                  "cocalc_minimal_stubs",
                  false
                 ]
                ],
                "ownerID": {
                }
               }
              ],
              [
               "__ownerID",
               null
              ],
              [
               "__hash",
               -335098374
              ],
              [
               "__altered",
               false
              ],
              [
               "cocalc_minimal_stubs",
               false
              ]
             ],
             "ownerID": {
             }
            }
           ],
           [
            "__hash",
            633336276
           ],
           [
            "__altered",
            false
           ],
           [
            "cocalc_minimal_stubs",
            false
           ]
          ],
          "ownerID": {
          }
         }
        ],
        [
         "__hash",
         782104853
        ],
        [
         "__altered",
         false
        ],
        [
         "cocalc_minimal_stubs",
         false
        ]
       ],
       "ownerID": {
       }
      }
     ],
     [
      "__ownerID",
      null
     ],
     [
      "__hash",
      -267629558
     ],
     [
      "__altered",
      false
     ],
     [
      "cocalc_minimal_stubs",
      false
     ]
    ],
    "ownerID": {
    }
   },
   "cocalc_minimal_stubs": false,
   "size": 6
  }
 },
 "nbformat": 4,
 "nbformat_minor": 4
}