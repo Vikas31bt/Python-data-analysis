{
 "cells": [
  {
   "cell_type": "markdown",
   "metadata": {
    "collapsed": false,
    "deletable": false,
    "editable": false,
    "nbgrader": {
     "grade": false,
     "grade_id": "525bea",
     "locked": true,
     "schema_version": 3,
     "solution": false,
     "task": false
    }
   },
   "source": [
    "# Assignment 1: Statistical Interpretations\n",
    "\n",
    "Now that you have some stats tools under your belts, let's test and see how much you know! This assignment is meant to three things:\n",
    "\n",
    "1. Can you run some descriptive statistics?\n",
    "2. Can you pick the right test to answer the question of interest?\n",
    "3. Can you interpret what the result of your test means?\n",
    "\n",
    "This assignment will consist of both coding questions and multiple choice questions as well. Topics in the assignment may be directly from lectures/practicals or might encourage you to look for new functions to accomplish the goal. Please ensure to read the questions carefully and to copy variable names and file paths to ensure no typos. As the assignment will be using autograder, it will mark typos as incorrect, and no part marks will be rewarded ... you have been warned. Make sure you also load all the packages required for the functions you are using. You will periodically see blank cells, do not move them or try to delete them as these are the grading cells. As always if you have any questions feel free to post on the discussion board or email both Vicki \\([vickimengyuan.zhang@humber.ca](mailto:vickimengyuan.zhang@humber.ca)\\) and Yeshoda \\([yeshoda.harry\\-paul@humber.ca](mailto:yeshoda.harry-paul@humber.ca)\\). Good luck!\n"
   ]
  },
  {
   "cell_type": "markdown",
   "metadata": {
    "collapsed": false,
    "deletable": false,
    "editable": false,
    "nbgrader": {
     "grade": false,
     "grade_id": "7bafdb",
     "locked": true,
     "schema_version": 3,
     "solution": false,
     "task": false
    }
   },
   "source": [
    "---\n",
    "\n",
    "## Section 1: Descriptive Statistics\n",
    "\n",
    "As mentioned in class, descriptive statistics are a good way to assess your data and find patterns of interest that may be worth investigating further. Here we are going to play with some descriptive statistics.\n",
    "\n",
    "### Question 1 (3 pts total)\n",
    "\n",
    "Use the `trees` dataset for the next few questions.\n",
    "\n",
    "#### Question 1a (1 pts)\n",
    "\n",
    "Which of the variables in the dataset has the largest spread of data? Store the answer in the variable `question_1a` as a string, for example: `question_1a <- \"Answer\"`.\n",
    "\n",
    "#### Question 1b (1 pts)\n",
    "\n",
    "Which of the variables in the dataset has the smallest difference between the median and the mean?"
   ]
  },
  {
   "cell_type": "code",
   "execution_count": 3,
   "metadata": {
    "collapsed": false,
    "deletable": false,
    "nbgrader": {
     "cell_type": "code",
     "checksum": "39c717ac7ee633cd5dc04942eb5106bd",
     "grade": false,
     "grade_id": "a5c230",
     "locked": false,
     "remove": false,
     "schema_version": 3,
     "solution": true,
     "task": false
    }
   },
   "outputs": [
    {
     "name": "stdout",
     "output_type": "stream",
     "text": [
      "Answer for Question 1a: Volume \n"
     ]
    },
    {
     "name": "stdout",
     "output_type": "stream",
     "text": [
      "Answer for Question 1b: Height \n"
     ]
    }
   ],
   "source": [
    "# Identify the variable with the largest spread\n",
    "spread_values <- sapply(trees, sd) #The sapply() function is used to apply the sd() (standard deviation) function to each column of the 'trees' dataset.\n",
    "question_1a <- names(spread_values[which.max(spread_values)])\n",
    "\n",
    "#Identify the variable with the smallest difference between median and mean\n",
    "difference_median_mean <- sapply(trees, function(x) abs(median(x) - mean(x))) #sapply() is used to apply a function to each column of the 'trees' dataset. In this case, the function calculates the absolute difference between the median and mean for each column and stores the results in the median_mean_diff vector.\n",
    "question_1b <- names(difference_median_mean[which.min(difference_median_mean)])\n",
    "\n",
    "# Print the answers\n",
    "cat(\"Answer for Question 1a:\", question_1a, \"\\n\")\n",
    "cat(\"Answer for Question 1b:\", question_1b, \"\\n\")"
   ]
  },
  {
   "cell_type": "code",
   "execution_count": 0,
   "metadata": {
    "collapsed": false,
    "deletable": false,
    "editable": false,
    "nbgrader": {
     "grade": true,
     "grade_id": "fed028",
     "locked": true,
     "points": 2,
     "remove": false,
     "schema_version": 3,
     "solution": false,
     "task": false
    }
   },
   "outputs": [
   ],
   "source": [
   ]
  },
  {
   "cell_type": "markdown",
   "metadata": {
    "collapsed": false,
    "deletable": false,
    "editable": false,
    "nbgrader": {
     "grade": false,
     "grade_id": "c3e778",
     "locked": true,
     "schema_version": 3,
     "solution": false,
     "task": false
    }
   },
   "source": [
    "#### Question 1c \\(1 pt\\)\n",
    "\n",
    "Continue using the `trees` dataset.\n",
    "\n",
    "```{kernel = \"ir\"}\n",
    "head(trees)\n",
    "```\n",
    "\n",
    "Determine which of the two variables has the highest significant correlation -- what is the value of their correlation? Round your answer to two decimal places, and then store your answer in `question_1c` as a number.\n"
   ]
  },
  {
   "cell_type": "code",
   "execution_count": 4,
   "metadata": {
    "collapsed": false
   },
   "outputs": [
    {
     "name": "stdout",
     "output_type": "stream",
     "text": [
      "Answer for Question 1c: The value of Girth and Volume correlation (rounded to two decimal places) is: 0.97"
     ]
    }
   ],
   "source": [
    "# Calculate the correlation matrix for all pairs of variables\n",
    "cor_matrix <- cor(trees)\n",
    "\n",
    "# Find the row and column indices of the pair with the highest correlation\n",
    "max_corr_index <- which(cor_matrix == max(cor_matrix[upper.tri(cor_matrix, diag = FALSE)], na.rm = TRUE), arr.ind = TRUE)\n",
    "\n",
    "# Get the names of the variables with the highest correlation\n",
    "variable_names <- colnames(cor_matrix)[max_corr_index[, \"col\"]]\n",
    "\n",
    "# Store the answer in the variable question_1c\n",
    "question_1c <- list(names = variable_names, correlation = round(max(cor_matrix[upper.tri(cor_matrix, diag = FALSE)], na.rm = TRUE), 2))\n",
    "\n",
    "# Print the result\n",
    "cat(\"Answer for Question 1c: The value of\", variable_names[1], \"and\", variable_names[2], \"correlation (rounded to two decimal places) is:\", question_1c$correlation)"
   ]
  },
  {
   "cell_type": "code",
   "execution_count": 5,
   "metadata": {
    "collapsed": false
   },
   "outputs": [
    {
     "name": "stdout",
     "output_type": "stream",
     "text": [
      "\n",
      "\tPearson's product-moment correlation\n",
      "\n",
      "data:  trees$Girth and trees$Volume\n",
      "t = 20.478, df = 29, p-value < 2.2e-16\n",
      "alternative hypothesis: true correlation is not equal to 0\n",
      "95 percent confidence interval:\n",
      " 0.9322519 0.9841887\n",
      "sample estimates:\n",
      "      cor \n",
      "0.9671194 \n",
      "\n"
     ]
    }
   ],
   "source": [
    "# Perform the correlation test between Girth and Volume\n",
    "cor_test_girth_volume <- cor.test(x = trees$Girth, y = trees$Volume, method = \"pearson\")\n",
    "\n",
    "# Print the correlation test results\n",
    "print(cor_test_girth_volume) \n"
   ]
  },
  {
   "cell_type": "markdown",
   "metadata": {
    "collapsed": false,
    "deletable": false,
    "editable": false,
    "nbgrader": {
     "grade": false,
     "grade_id": "c3e778",
     "locked": true,
     "schema_version": 3,
     "solution": false,
     "task": false
    }
   },
   "source": [
    "#### Question 1c \\(1 pt\\)\n",
    "\n",
    "Continue using the `trees` dataset.\n",
    "\n",
    "```{kernel = \"ir\"}\n",
    "head(trees)\n",
    "```\n",
    "\n",
    "Determine which of the two variables has the highest significant correlation -- what is the value of their correlation? Round your answer to two decimal places, and then store your answer in `question_1c` as a number.\n"
   ]
  },
  {
   "cell_type": "markdown",
   "metadata": {
    "collapsed": false,
    "deletable": false,
    "nbgrader": {
     "cell_type": "code",
     "checksum": "ee25e63697bb7ec65894573ef8bff0a9",
     "grade": false,
     "grade_id": "fc00aa",
     "locked": false,
     "schema_version": 3,
     "solution": true,
     "task": false
    }
   },
   "source": [
    "\n",
    "A p-value less than alpha (0.05),where p < 0.05, and r = 0.967 (correlation coefficient) means that Girth and Volume has the highest significant correlation.\n"
   ]
  },
  {
   "cell_type": "code",
   "execution_count": 0,
   "metadata": {
    "collapsed": false,
    "deletable": false,
    "editable": false,
    "nbgrader": {
     "grade": true,
     "grade_id": "82dc5d",
     "locked": true,
     "points": 1,
     "schema_version": 3,
     "solution": false,
     "task": false
    }
   },
   "outputs": [
   ],
   "source": [
   ]
  },
  {
   "cell_type": "markdown",
   "metadata": {
    "collapsed": false,
    "deletable": false,
    "editable": false,
    "nbgrader": {
     "grade": false,
     "grade_id": "c5ea0f",
     "locked": true,
     "schema_version": 3,
     "solution": false,
     "task": false
    }
   },
   "source": [
    "---\n",
    "\n",
    "## Section 2: Deciding Tests\n",
    "\n",
    "In this section, you will have to decide which test is best to use to answer the question provided. Don't forget to check if the assumptions are met!\n",
    "\n",
    "### Question 2 (3 pts total)\n",
    "\n",
    "You will be using the data from the `OrchardSprays` to answer the following questions.\n",
    "\n",
    "```{kernel = \"ir\"}\n",
    "head(OrchardSprays)\n",
    "```\n",
    "\n",
    "#### Question 2 Part 1 (1.5 pts)\n",
    "\n",
    "Given the data you've imported, what test would be best for testing each of the following below? Make sure to investigate the data frame, and then save your answer as an object, for example:\n",
    "`question2a <- \"linear model\"`\n",
    "\n",
    "- \\(A\\) Is the data for each treatment normally distributed? Store your answer as a string in the variable `question2_1a`\n",
    "- \\(B\\) What is the effect of the treatment on the decrease in the solution of the volume? Store your answer as a string in the variable `question2_1b`\n",
    "- \\(C\\) For only the cells on row 1, what is the difference in the decrease in the solution between treatment A and treatment H? Store your answer as a string in the variable `question2_1c`. Hint: consider whether each row or column have independent cells of solution or not.\n",
    "\n"
   ]
  },
  {
   "cell_type": "markdown",
   "metadata": {
    "collapsed": false,
    "deletable": false,
    "editable": false,
    "nbgrader": {
     "grade": false,
     "grade_id": "c3e778",
     "locked": true,
     "schema_version": 3,
     "solution": false,
     "task": false
    }
   },
   "source": [
    "#### Question 1c \\(1 pt\\)\n",
    "\n",
    "Continue using the `trees` dataset.\n",
    "\n",
    "```{kernel = \"ir\"}\n",
    "head(trees)\n",
    "```\n",
    "\n",
    "Determine which of the two variables has the highest significant correlation -- what is the value of their correlation? Round your answer to two decimal places, and then store your answer in `question_1c` as a number.\n"
   ]
  },
  {
   "cell_type": "code",
   "execution_count": 6,
   "metadata": {
    "collapsed": false,
    "deletable": false,
    "nbgrader": {
     "cell_type": "code",
     "checksum": "fcb21d287b5e50726b184e08df7fa702",
     "grade": false,
     "grade_id": "51ba60",
     "locked": false,
     "schema_version": 3,
     "solution": true,
     "task": false
    }
   },
   "outputs": [
    {
     "name": "stdout",
     "output_type": "stream",
     "text": [
      "Answer for Question_2 Part_1 A: The data for each treatment is not normally distributed \n"
     ]
    }
   ],
   "source": [
    "# Shapiro-Wilk test for normality for each treatment group\n",
    "shapiro_by_treatment <- tapply(OrchardSprays$decrease, OrchardSprays$treatment, shapiro.test) #tapply is used to apply the shapiro.test function to the \"decrease\" variable, grouped by the \"treatment\" variable.\n",
    "\n",
    "# Check if all p-values are above 0.05\n",
    "all_normal <- all(sapply(shapiro_by_treatment, function(x) x$p.value > 0.05)) #sapply applies a function to each element of the shapiro_by_treatment list, extracting the p-values from the test results.\n",
    "\n",
    "# Store the answer in the variable question_2_1a\n",
    "question2_1a <- ifelse(all_normal, \"The data for each treatment is normally distributed\", \"The data for each treatment is not normally distributed\")\n",
    "\n",
    "#print the results\n",
    "cat(\"Answer for Question_2 Part_1 A:\", question2_1a, \"\\n\")"
   ]
  },
  {
   "cell_type": "markdown",
   "metadata": {
    "collapsed": false
   },
   "source": [
    "The Shapiro-Wilk normality test was applied to eight distinct treatment groups (A to H) within the dataset. For groups B, D, F, and G, the obtained p-values exceeded the commonly used significance level of 0.05. This indicates that there is insufficient evidence to reject the null hypothesis, suggesting that the data in these groups is not significantly different from a normal distribution. On the contrary, groups A, C, E, and H exhibited p-values less than or equal to 0.05, providing evidence to reject the null hypothesis. Therefore, it can be inferred that the data in these groups deviates significantly from a normal distribution."
   ]
  },
  {
   "cell_type": "code",
   "execution_count": 7,
   "metadata": {
    "collapsed": false
   },
   "outputs": [
    {
     "name": "stdout",
     "output_type": "stream",
     "text": [
      "Answer for Question 2 Part_1 B: Kruskal-Wallis: There is a significant effect of treatment on the decrease in the solution of the volume (H = 48.874, p = 2.402e-08) \n"
     ]
    }
   ],
   "source": [
    "# Perfoem Kruskal-Wallis test for non-normally distributed data\n",
    "kruskal_result <- kruskal.test(decrease ~ treatment, data = OrchardSprays)\n",
    "\n",
    "# Check if the p-value is below 0.05\n",
    "non_normal_test_result <- ifelse(kruskal_result$p.value < 0.05, \"There is a significant effect of treatment on the decrease in the solution of the volume\", \"There is no significant effect of treatment on the decrease in the solution of the volume\")\n",
    "\n",
    "# Store the answer in the variable question_2_1b\n",
    "question2_1b <- paste(\"Kruskal-Wallis:\", non_normal_test_result, \"(H = 48.874, p = 2.402e-08)\")\n",
    "\n",
    "# Print the results\n",
    "cat(\"Answer for Question 2 Part_1 B:\", question2_1b, \"\\n\")\n",
    "                         "
   ]
  },
  {
   "cell_type": "code",
   "execution_count": 8,
   "metadata": {
    "collapsed": false
   },
   "outputs": [
    {
     "name": "stdout",
     "output_type": "stream",
     "text": [
      "Answer for Part_1 C: The difference in the decrease in solution between treatment A and treatment H in row 1 is: -118 \n"
     ]
    }
   ],
   "source": [
    "# Subset the data for only row 1\n",
    "row1_data <- subset(OrchardSprays, rowpos == 1)\n",
    "\n",
    "# Extract the decrease values for treatment A and treatment H in row 1\n",
    "decrease_A <- row1_data$decrease[row1_data$treatment == \"A\"]\n",
    "decrease_H <- row1_data$decrease[row1_data$treatment == \"H\"]\n",
    "\n",
    "# Calculate the difference\n",
    "difference_decrease_AH <- decrease_A - decrease_H\n",
    "\n",
    "# Store the answer in the variable question_2_1c\n",
    "question2_1c <- paste(\"The difference in the decrease in solution between treatment A and treatment H in row 1 is:\", difference_decrease_AH)\n",
    "\n",
    "# Print the results\n",
    "cat(\"Answer for Part_1 C:\", question2_1c, \"\\n\")"
   ]
  },
  {
   "cell_type": "code",
   "execution_count": 0,
   "metadata": {
    "collapsed": false,
    "deletable": false,
    "editable": false,
    "nbgrader": {
     "grade": true,
     "grade_id": "40e83b",
     "locked": true,
     "points": 1.5,
     "schema_version": 3,
     "solution": false,
     "task": false
    }
   },
   "outputs": [
   ],
   "source": [
   ]
  },
  {
   "cell_type": "markdown",
   "metadata": {
    "collapsed": false
   },
   "source": [
    "#### Question 2 Part 2 (1.5 pts)\n",
    "\n",
    "You consider the question in (B) the most interesting: What is the effect of the treatment on the decrease in the solution of the volume? Run the test appropriate test and save it into `question2_2`. If you need to run a post-hoc test, save it into `question2_3`.\n",
    "\n"
   ]
  },
  {
   "cell_type": "code",
   "execution_count": 9,
   "metadata": {
    "collapsed": false,
    "deletable": false,
    "nbgrader": {
     "cell_type": "code",
     "checksum": "5f8a9fa798f7909998dd99e21c5eeb5a",
     "grade": false,
     "grade_id": "e034b8",
     "locked": false,
     "schema_version": 3,
     "solution": true,
     "task": false
    }
   },
   "outputs": [
    {
     "name": "stdout",
     "output_type": "stream",
     "text": [
      "\n",
      "\tKruskal-Wallis rank sum test\n",
      "\n",
      "data:  decrease by treatment\n",
      "Kruskal-Wallis chi-squared = 48.874, df = 7, p-value = 2.402e-08\n",
      "\n"
     ]
    },
    {
     "name": "stdout",
     "output_type": "stream",
     "text": [
      "Answer for Part 2_2: Kruskal-Wallis test result for the effect of treatment on decrease is significant \n"
     ]
    }
   ],
   "source": [
    "# Perform Kruskal-Wallis test for non-normally distributed data\n",
    "kruskal_result <- kruskal.test(decrease ~ treatment, data = OrchardSprays)\n",
    "\n",
    "# Print the result\n",
    "print(kruskal_result)\n",
    "\n",
    "# Check if the p-value is below 0.05\n",
    "non_normal_test_result <- ifelse(kruskal_result$p.value < 0.05, \"significant\", \"not significant\")\n",
    "\n",
    "# Store the answer in the variable question_2_2\n",
    "question2_2 <- paste(\"Kruskal-Wallis test result for the effect of treatment on decrease is\", non_normal_test_result)\n",
    "\n",
    "# Print the results\n",
    "cat(\"Answer for Part 2_2:\", question2_2, \"\\n\")"
   ]
  },
  {
   "cell_type": "markdown",
   "metadata": {
    "collapsed": false
   },
   "source": [
    "Conducted a Kruskal\\-Wallis rank sum test to examine the effect of treatment on the decrease in solution volume. From the output, we can see that there is a significant difference between at least one treatment group \\(H = 48.874, p = 2.402e\\-08\\), but which one? We need to use the post\\-hoc test called the Dunn test to test pairwise differences while controlling for the multiple comparisons.\n"
   ]
  },
  {
   "cell_type": "code",
   "execution_count": 0,
   "metadata": {
    "collapsed": false,
    "deletable": false,
    "editable": false,
    "nbgrader": {
     "grade": true,
     "grade_id": "f843c1",
     "locked": true,
     "points": 1.5,
     "remove": false,
     "schema_version": 3,
     "solution": false,
     "task": false
    }
   },
   "outputs": [
   ],
   "source": [
   ]
  },
  {
   "cell_type": "code",
   "execution_count": 10,
   "metadata": {
    "collapsed": false
   },
   "outputs": [
    {
     "name": "stdout",
     "output_type": "stream",
     "text": [
      "Answer for Part 2_3:\n"
     ]
    },
    {
     "name": "stdout",
     "output_type": "stream",
     "text": [
      "\n",
      "\tPairwise comparisons using Wilcoxon rank sum test with continuity correction \n",
      "\n",
      "data:  OrchardSprays$decrease and OrchardSprays$treatment \n",
      "\n",
      "  A     B     C     D     E     F     G    \n",
      "B 1.000 -     -     -     -     -     -    \n",
      "C 0.037 0.076 -     -     -     -     -    \n",
      "D 0.026 0.026 1.000 -     -     -     -    \n",
      "E 0.026 0.026 0.131 0.503 -     -     -    \n",
      "F 0.026 0.026 0.131 0.665 1.000 -     -    \n",
      "G 0.025 0.026 0.379 0.206 1.000 1.000 -    \n",
      "H 0.025 0.026 0.150 0.026 1.000 1.000 1.000\n",
      "\n",
      "P value adjustment method: bonferroni \n"
     ]
    }
   ],
   "source": [
    "# Perform pairwise Wilcoxon test for post-hoc analysis\n",
    "suppressWarnings({pairwise_result <- pairwise.wilcox.test(OrchardSprays$decrease, OrchardSprays$treatment, p.adjust.method = \"bonferroni\")})\n",
    "\n",
    "# Store the answer in the variable question_2_3\n",
    "question2_3 <- pairwise_result\n",
    "\n",
    "# Print the result\n",
    "cat(\"Answer for Part 2_3:\\n\")\n",
    "print(question2_3)"
   ]
  },
  {
   "cell_type": "markdown",
   "metadata": {
    "collapsed": false
   },
   "source": [
    "Wanted to perform a post\\-hoc Dunn's test using dunn.test but was getting some errors in installation so pairwise comparisons were performed using the Wilcoxon rank sum test with continuity correction to assess differences in the decrease variable among treatments \\(A to H\\) in the OrchardSprays dataset. The resulting matrix displays adjusted p\\-values, where values below the significance level indicate significant differences. The Bonferroni correction was applied, revealing significant differences between treatments A and C, as well as treatments D and H. This post\\-hoc analysis provides detailed insights into specific treatment pairs contributing to the overall observed effect in the Kruskal\\-Wallis test.\n"
   ]
  },
  {
   "cell_type": "markdown",
   "metadata": {
    "collapsed": false,
    "deletable": false,
    "editable": false,
    "nbgrader": {
     "grade": false,
     "grade_id": "c3e778",
     "locked": true,
     "schema_version": 3,
     "solution": false,
     "task": false
    }
   },
   "source": [
    "#### Question 1c \\(1 pt\\)\n",
    "\n",
    "Continue using the `trees` dataset.\n",
    "\n",
    "```{kernel = \"ir\"}\n",
    "head(trees)\n",
    "```\n",
    "\n",
    "Determine which of the two variables has the highest significant correlation -- what is the value of their correlation? Round your answer to two decimal places, and then store your answer in `question_1c` as a number.\n"
   ]
  },
  {
   "cell_type": "markdown",
   "metadata": {
    "collapsed": false,
    "deletable": false,
    "editable": false,
    "nbgrader": {
     "grade": false,
     "grade_id": "7b6146",
     "locked": true,
     "schema_version": 3,
     "solution": false,
     "task": false
    }
   },
   "source": [
    "---\n",
    "\n",
    "### Question 3 (2 pts total)\n",
    "\n",
    "Consider the `toothgrowth` dataset below. What would be the best design formula to test the effect of the delivery methods (`supp`) on toothgrowth? What about the effect of orange juice (`OJ`) at 0.5mg/day? Assume you're using a `DESeq2` style design formula. Store your answer as a string in `question_3a` and `question_3b`respectively. \n",
    "\n",
    "```r {kernel=\"ir\"}\n",
    "data(\"ToothGrowth\")\n",
    "head(ToothGrowth)\n",
    "```\n",
    "\n"
   ]
  },
  {
   "cell_type": "code",
   "execution_count": 4,
   "metadata": {
    "collapsed": false,
    "deletable": false,
    "nbgrader": {
     "cell_type": "code",
     "checksum": "4abaebdce4aeba0d10fa6e7324b69d97",
     "grade": false,
     "grade_id": "548819",
     "locked": false,
     "schema_version": 3,
     "solution": true,
     "task": false
    }
   },
   "outputs": [
    {
     "name": "stdout",
     "output_type": "stream",
     "text": [
      "3a: Design formula for the effect of delivery methods (supp) on toothgrowth: ~ supp \n"
     ]
    },
    {
     "name": "stdout",
     "output_type": "stream",
     "text": [
      "3b: Design formula for the effect of orange juice (OJ) at 0.5mg/day: ~ supp + dose + supp:dose \n"
     ]
    }
   ],
   "source": [
    "# Design formula for testing the effect of delivery methods (supp) on toothgrowth\n",
    "question_3a <- ~ supp\n",
    "\n",
    "# Design formula for testing the effect of orange juice (OJ) at 0.5mg/day\n",
    "question_3b <- ~ supp + dose + supp:dose\n",
    "\n",
    "# Print the results\n",
    "cat(\"3a: Design formula for the effect of delivery methods (supp) on toothgrowth:\", as.character(question_3a), \"\\n\")\n",
    "cat(\"3b: Design formula for the effect of orange juice (OJ) at 0.5mg/day:\", as.character(question_3b), \"\\n\")"
   ]
  },
  {
   "cell_type": "code",
   "execution_count": 0,
   "metadata": {
    "collapsed": false,
    "deletable": false,
    "editable": false,
    "nbgrader": {
     "grade": true,
     "grade_id": "9d266e",
     "locked": true,
     "points": 2,
     "remove": false,
     "schema_version": 3,
     "solution": false,
     "task": false
    }
   },
   "outputs": [
   ],
   "source": [
   ]
  },
  {
   "cell_type": "markdown",
   "metadata": {
    "collapsed": false,
    "deletable": false,
    "editable": false,
    "nbgrader": {
     "grade": false,
     "grade_id": "81fab6",
     "locked": true,
     "schema_version": 3,
     "solution": false,
     "task": false
    }
   },
   "source": [
    "---\n",
    "\n",
    "## Section 3: Interpretation\n",
    "\n",
    "#### \\(2 pts total\\)\n",
    "\n",
    "In this section, you will be given a snippet from a paper and it will be your job to determine:\n",
    "\n",
    "1. What test did they conduct? Store your answers in `question_4a`.\n",
    "2. Were their results significant or not? Store your answer as \"Y\" for yes, or \"N\" for no in `question_4b`.\n",
    "3. What do the results mean for their study? Interpret.\n",
    "\n",
    "> _Chlamydomonas_ growth rate plateaued around 35°C but was largely reduced at 40°C. Chlamydomonas cells \\(CC\\-1690, 21gr, wildtype\\) were grown in photobioreactors \\(PBRs\\) in Tris\\-acetate\\-phosphate \\(TAP\\) medium under turbidostatic conditions at different temperatures with a light intensity of 100 µmol photons m−2 s−1 and constantly bubbling of air. Relative growth rates were calculated based on the cycling of OD680, see Supplementary Fig. 1 and methods for details. OD680 is proportional to total chlorophyll content in unit of µg chlorophyll mL−1. Each temperature treatment was conducted in an individual PBR. Mean ± SE, n = 3 biological replicates. Statistical analyses were performed using two\\-tailed t\\-test assuming unequal variance by comparing treated samples with pre\\-heat or 30°C with 35°C \\(\\*, p &lt; 0.05, the colors of asterisks match the treatment conditions\\). Not significant, ns.\n",
    ">\n",
    "> <img src=\".Statistical_Interpretations-GOOD.ipynb.upload/Screenshot 2024-01-23 at 11.20.09 PM.png\"   width=\"507.219px\"  height=\"300.602px\"  style=\"object-fit:cover\"/>\n",
    "\n",
    "<span style='color:#d9e3f0'>Taken from: https://www.nature.com/articles/s42003\\-022\\-03359\\-z</span>"
   ]
  },
  {
   "cell_type": "code",
   "execution_count": 1,
   "metadata": {
    "collapsed": false,
    "deletable": false,
    "nbgrader": {
     "cell_type": "code",
     "checksum": "f6a154cdf5318e62c38787994d5f2b4d",
     "grade": false,
     "grade_id": "cd3240",
     "locked": false,
     "schema_version": 3,
     "solution": true,
     "task": false
    }
   },
   "outputs": [
    {
     "name": "stdout",
     "output_type": "stream",
     "text": [
      "Question 4a: What test did they conduct?\n"
     ]
    },
    {
     "name": "stdout",
     "output_type": "stream",
     "text": [
      "Welch's test \n",
      "\n"
     ]
    },
    {
     "name": "stdout",
     "output_type": "stream",
     "text": [
      "Question 4b: Were their results significant or not?\n"
     ]
    },
    {
     "name": "stdout",
     "output_type": "stream",
     "text": [
      "Results were significant:  Yes \n"
     ]
    }
   ],
   "source": [
    "# Question 4a: What test did they conduct?\n",
    "question_4a <- \"Welch's test\"\n",
    "\n",
    "# Question 4b: Were their results significant or not?\n",
    "question_4b <- \"Y\"  # Yes, their results were significant (indicated by * in the text)\n",
    "\n",
    "# Print the results\n",
    "cat(\"Question 4a: What test did they conduct?\\n\")\n",
    "cat(question_4a, \"\\n\\n\")\n",
    "\n",
    "cat(\"Question 4b: Were their results significant or not?\\n\")\n",
    "cat(\"Results were significant: \", ifelse(question_4b == \"Y\", \"Yes\", \"No\"), \"\\n\")"
   ]
  },
  {
   "cell_type": "markdown",
   "metadata": {
    "collapsed": false,
    "deletable": false,
    "nbgrader": {
     "cell_type": "markdown",
     "checksum": "f27742335797dc026e64b50339ac23d9",
     "grade": true,
     "grade_id": "7a3397",
     "locked": false,
     "points": 1,
     "remove": false,
     "schema_version": 3,
     "solution": true,
     "task": false
    }
   },
   "source": [
    "What do the results mean for their study?\n",
    "\n",
    "The results suggests that there are significant differences in Chlamydomonas growth rates at different temperatures. Specifically, Chlamydomonas growth rate plateaued around 35°C but was largely reduced at 40°C. The use of  Welch's test  indicates a comparison between treated samples with pre\\-heat \\(30°C\\) and 35°C. The statistical significance suggests that the observed differences in growth rates are unlikely due to random chance alone. It implies that temperature conditions significantly influence the growth rates of Chlamydomonas cells. \n"
   ]
  },
  {
   "cell_type": "code",
   "execution_count": 0,
   "metadata": {
    "collapsed": false,
    "deletable": false,
    "editable": false,
    "nbgrader": {
     "grade": true,
     "grade_id": "066c07",
     "locked": true,
     "points": 1,
     "schema_version": 3,
     "solution": false,
     "task": false
    }
   },
   "outputs": [
   ],
   "source": [
   ]
  },
  {
   "cell_type": "code",
   "execution_count": 0,
   "metadata": {
    "collapsed": false
   },
   "outputs": [
   ],
   "source": [
   ]
  }
 ],
 "metadata": {
  "kernelspec": {
   "argv": [
    "/usr/bin/R",
    "-e",
    "IRkernel::main()",
    "--args",
    "{connection_file}"
   ],
   "display_name": "R (system-wide)",
   "env": {
   },
   "language": "r",
   "metadata": {
    "cocalc": {
     "description": "R statistical programming language",
     "priority": 10,
     "url": "https://www.r-project.org/"
    }
   },
   "name": "ir",
   "resource_dir": "/ext/jupyter/kernels/ir"
  },
  "language_info": {
   "codemirror_mode": "r",
   "file_extension": ".r",
   "mimetype": "text/x-r-source",
   "name": "R",
   "pygments_lexer": "r",
   "version": "4.3.2"
  },
  "nbgrader": {
   "__altered": false,
   "__hash": 155654553,
   "_root": {
    "entries": [
     [
      "size",
      5
     ],
     [
      "_root",
      {
       "entries": [
        [
         "size",
         5
        ],
        [
         "_root",
         {
          "entries": [
           [
            "size",
            5
           ],
           [
            "_root",
            {
             "entries": [
              [
               "size",
               5
              ],
              [
               "_root",
               {
                "entries": [
                 [
                  "size",
                  6
                 ],
                 [
                  "_root",
                  {
                   "entries": [
                    [
                     "size",
                     6
                    ],
                    [
                     "_root",
                     {
                      "entries": [
                       [
                        "size",
                        6
                       ],
                       [
                        "_root",
                        {
                         "entries": [
                          [
                           "size",
                           5
                          ],
                          [
                           "_root",
                           {
                            "entries": [
                             [
                              "__altered",
                              false
                             ],
                             [
                              "__hash",
                              465620093
                             ],
                             [
                              "_root",
                              {
                               "entries": [
                                [
                                 "size",
                                 6
                                ],
                                [
                                 "_root",
                                 {
                                  "entries": [
                                   [
                                    "size",
                                    5
                                   ],
                                   [
                                    "_root",
                                    {
                                     "entries": [
                                      [
                                       "size",
                                       5
                                      ],
                                      [
                                       "_root",
                                       {
                                        "entries": [
                                         [
                                          "__altered",
                                          false
                                         ],
                                         [
                                          "__hash",
                                          -461299913
                                         ],
                                         [
                                          "_root",
                                          {
                                           "entries": [
                                            [
                                             "__altered",
                                             false
                                            ],
                                            [
                                             "_root",
                                             {
                                              "entries": [
                                               [
                                                "cocalc_minimal_stubs",
                                                false
                                               ]
                                              ],
                                              "ownerID": {
                                              }
                                             }
                                            ],
                                            [
                                             "cocalc_minimal_stubs",
                                             false
                                            ],
                                            [
                                             "size",
                                             1
                                            ]
                                           ],
                                           "ownerID": {
                                           }
                                          }
                                         ],
                                         [
                                          "cocalc_minimal_stubs",
                                          false
                                         ],
                                         [
                                          "size",
                                          4
                                         ]
                                        ],
                                        "ownerID": {
                                        }
                                       }
                                      ],
                                      [
                                       "__hash",
                                       957194498
                                      ],
                                      [
                                       "__altered",
                                       false
                                      ],
                                      [
                                       "cocalc_minimal_stubs",
                                       false
                                      ]
                                     ],
                                     "ownerID": {
                                     }
                                    }
                                   ],
                                   [
                                    "__ownerID",
                                    null
                                   ],
                                   [
                                    "__hash",
                                    504359738
                                   ],
                                   [
                                    "__altered",
                                    false
                                   ],
                                   [
                                    "cocalc_minimal_stubs",
                                    false
                                   ]
                                  ],
                                  "ownerID": {
                                  }
                                 }
                                ],
                                [
                                 "__hash",
                                 184565775
                                ],
                                [
                                 "__altered",
                                 false
                                ],
                                [
                                 "cocalc_minimal_stubs",
                                 false
                                ]
                               ],
                               "ownerID": {
                               }
                              }
                             ],
                             [
                              "cocalc_minimal_stubs",
                              false
                             ],
                             [
                              "size",
                              5
                             ]
                            ],
                            "ownerID": {
                            }
                           }
                          ],
                          [
                           "__ownerID",
                           null
                          ],
                          [
                           "__hash",
                           -901683381
                          ],
                          [
                           "__altered",
                           false
                          ],
                          [
                           "cocalc_minimal_stubs",
                           false
                          ]
                         ],
                         "ownerID": {
                         }
                        }
                       ],
                       [
                        "__ownerID",
                        null
                       ],
                       [
                        "__hash",
                        829198706
                       ],
                       [
                        "__altered",
                        false
                       ],
                       [
                        "cocalc_minimal_stubs",
                        false
                       ]
                      ],
                      "ownerID": {
                      }
                     }
                    ],
                    [
                     "__ownerID",
                     null
                    ],
                    [
                     "__hash",
                     675435884
                    ],
                    [
                     "__altered",
                     false
                    ],
                    [
                     "cocalc_minimal_stubs",
                     true
                    ]
                   ],
                   "ownerID": {
                   }
                  }
                 ],
                 [
                  "__hash",
                  -650373136
                 ],
                 [
                  "__altered",
                  false
                 ],
                 [
                  "cocalc_minimal_stubs",
                  false
                 ]
                ],
                "ownerID": {
                }
               }
              ],
              [
               "__hash",
               -403345663
              ],
              [
               "__altered",
               false
              ],
              [
               "cocalc_minimal_stubs",
               false
              ]
             ],
             "ownerID": {
             }
            }
           ],
           [
            "__hash",
            981156106
           ],
           [
            "__altered",
            false
           ],
           [
            "cocalc_minimal_stubs",
            false
           ]
          ],
          "ownerID": {
          }
         }
        ],
        [
         "__hash",
         924454827
        ],
        [
         "__altered",
         false
        ],
        [
         "cocalc_minimal_stubs",
         false
        ]
       ],
       "ownerID": {
       }
      }
     ],
     [
      "__hash",
      1066266464
     ],
     [
      "__altered",
      false
     ],
     [
      "cocalc_minimal_stubs",
      false
     ]
    ],
    "ownerID": {
    }
   },
   "cocalc_minimal_stubs": false,
   "size": 5
  }
 },
 "nbformat": 4,
 "nbformat_minor": 4
}