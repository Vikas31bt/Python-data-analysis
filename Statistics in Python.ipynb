{
 "cells": [
  {
   "cell_type": "markdown",
   "metadata": {
    "collapsed": false
   },
   "source": [
    "# Statistics in Python  \n",
    "Now we've already seen how libraries like `numpy` and `pandas` have functions for finding the `mean`, `median` etc. but what if you wanted to do something more? What about running some statisitical tests? It would be great if the wonderful and smart developers over at Python had already coded some libraries that implement those useful functions so people like you and me don't have to and can rest assured that the functions that we're using have been tried and tested by many people before us. Luckily they have!  \n",
    "\n",
    "\n",
    "`scipy` and `statsmodels` are powerful Python libraries used for scientific and statistical computations. In this tutorial, I'll introduce you to the basic functionality of both libraries.  "
   ]
  },
  {
   "cell_type": "code",
   "execution_count": 3,
   "metadata": {
    "collapsed": false
   },
   "outputs": [
    {
     "name": "stdout",
     "output_type": "stream",
     "text": [
      "Defaulting to user installation because normal site-packages is not writeable\r\n"
     ]
    },
    {
     "name": "stdout",
     "output_type": "stream",
     "text": [
      "Requirement already satisfied: scipy in /usr/local/lib/python3.10/dist-packages (1.10.1)\r\n",
      "Requirement already satisfied: statsmodels in /usr/local/lib/python3.10/dist-packages (0.14.0)\r\n"
     ]
    },
    {
     "name": "stdout",
     "output_type": "stream",
     "text": [
      "Requirement already satisfied: numpy<1.27.0,>=1.19.5 in /usr/local/lib/python3.10/dist-packages (from scipy) (1.22.4)\r\n"
     ]
    },
    {
     "name": "stdout",
     "output_type": "stream",
     "text": [
      "Requirement already satisfied: pandas>=1.0 in /usr/local/lib/python3.10/dist-packages (from statsmodels) (2.0.3)\r\n",
      "Requirement already satisfied: patsy>=0.5.2 in /usr/lib/python3/dist-packages (from statsmodels) (0.5.2)\r\n",
      "Requirement already satisfied: packaging>=21.3 in /usr/local/lib/python3.10/dist-packages (from statsmodels) (23.0)\r\n"
     ]
    },
    {
     "name": "stdout",
     "output_type": "stream",
     "text": [
      "Requirement already satisfied: python-dateutil>=2.8.2 in /usr/local/lib/python3.10/dist-packages (from pandas>=1.0->statsmodels) (2.8.2)\r\n",
      "Requirement already satisfied: pytz>=2020.1 in /usr/local/lib/python3.10/dist-packages (from pandas>=1.0->statsmodels) (2023.3.post1)\r\n",
      "Requirement already satisfied: tzdata>=2022.1 in /usr/local/lib/python3.10/dist-packages (from pandas>=1.0->statsmodels) (2023.3)\r\n"
     ]
    },
    {
     "name": "stdout",
     "output_type": "stream",
     "text": [
      "Requirement already satisfied: six>=1.5 in /usr/local/lib/python3.10/dist-packages (from python-dateutil>=2.8.2->pandas>=1.0->statsmodels) (1.16.0)\r\n"
     ]
    }
   ],
   "source": [
    "!pip install scipy statsmodels #check we have them!"
   ]
  },
  {
   "cell_type": "markdown",
   "metadata": {
    "collapsed": false
   },
   "source": [
    "## SciPy"
   ]
  },
  {
   "cell_type": "code",
   "execution_count": 3,
   "metadata": {
    "collapsed": false
   },
   "outputs": [
   ],
   "source": [
    "import scipy\n",
    "import scipy.stats as ss #we can import the module we want! SciPy has many modules!"
   ]
  },
  {
   "cell_type": "markdown",
   "metadata": {
    "collapsed": false
   },
   "source": [
    "We are going to perform a t-test using `scipy`!  \n",
    "\n",
    "\n",
    "A t-test is a statistical test used to compare the means of two groups and determine if they are significantly different from each other. It's a fundamental tool in statistics, often used to assess whether an observed difference between two groups is likely due to a real effect or if it could have occurred by random chance. We will cover this and more in Week 9!"
   ]
  },
  {
   "cell_type": "code",
   "execution_count": 4,
   "metadata": {
    "collapsed": false
   },
   "outputs": [
    {
     "name": "stdout",
     "output_type": "stream",
     "text": [
      "T-statistic: -4.0\n",
      "P-value: 0.003949772803445322\n"
     ]
    }
   ],
   "source": [
    "# run a t-test\n",
    "\n",
    "data1 = [3, 4, 5, 6, 7]\n",
    "data2 = [7, 8, 9, 10, 11]\n",
    "\n",
    "t_stat, p_value = ss.ttest_ind(data1, data2)\n",
    "print(\"T-statistic:\", t_stat)\n",
    "print(\"P-value:\", p_value)"
   ]
  },
  {
   "cell_type": "code",
   "execution_count": 6,
   "metadata": {
    "collapsed": false
   },
   "outputs": [
   ],
   "source": [
    "#help(ss.ttest_ind)"
   ]
  },
  {
   "cell_type": "markdown",
   "metadata": {
    "collapsed": false
   },
   "source": [
    "## Statsmodels"
   ]
  },
  {
   "cell_type": "code",
   "execution_count": 7,
   "metadata": {
    "collapsed": false
   },
   "outputs": [
   ],
   "source": [
    "import statsmodels.api as sm"
   ]
  },
  {
   "cell_type": "markdown",
   "metadata": {
    "collapsed": false
   },
   "source": [
    "We can a simple linear regression using `statsmodels`! (We can also do a multiple linear regression!)"
   ]
  },
  {
   "cell_type": "code",
   "execution_count": 8,
   "metadata": {
    "collapsed": false
   },
   "outputs": [
    {
     "name": "stdout",
     "output_type": "stream",
     "text": [
      "                            OLS Regression Results                            \n",
      "==============================================================================\n",
      "Dep. Variable:                      y   R-squared:                       0.299\n",
      "Model:                            OLS   Adj. R-squared:                  0.263\n",
      "Method:                 Least Squares   F-statistic:                     8.123\n",
      "Date:                Thu, 12 Oct 2023   Prob (F-statistic):             0.0102\n",
      "Time:                        00:33:37   Log-Likelihood:                -60.255\n",
      "No. Observations:                  21   AIC:                             124.5\n",
      "Df Residuals:                      19   BIC:                             126.6\n",
      "Df Model:                           1                                         \n",
      "Covariance Type:            nonrobust                                         \n",
      "==============================================================================\n",
      "                 coef    std err          t      P>|t|      [0.025      0.975]\n",
      "------------------------------------------------------------------------------\n",
      "const          4.4372      1.641      2.705      0.014       1.004       7.871\n",
      "x1             0.4307      0.151      2.850      0.010       0.114       0.747\n",
      "==============================================================================\n",
      "Omnibus:                        2.637   Durbin-Watson:                   1.773\n",
      "Prob(Omnibus):                  0.268   Jarque-Bera (JB):                1.069\n",
      "Skew:                          -0.055   Prob(JB):                        0.586\n",
      "Kurtosis:                       4.100   Cond. No.                         18.3\n",
      "==============================================================================\n",
      "\n",
      "Notes:\n",
      "[1] Standard Errors assume that the covariance matrix of the errors is correctly specified.\n"
     ]
    }
   ],
   "source": [
    "# Sample data\n",
    "x = [1, 2, 3, 4, 5, 13, 4, 6, 10, 12, 13, 13, 15, 1, 1, 22, 4, 15, 16, 20, 3]\n",
    "y = [2, 3, 5, 4, 6, 14, 7, 8, 11, 13, 12, 6, 7, 7, 7, 12, 4, 21, 18, 2, 3]\n",
    "\n",
    "# Add a constant for the intercept term\n",
    "x = sm.add_constant(x)\n",
    "\n",
    "model = sm.OLS(y, x).fit() # function for Linear Regression or Ordinary Least Squares\n",
    "print(model.summary())"
   ]
  },
  {
   "cell_type": "markdown",
   "metadata": {
    "collapsed": false
   },
   "source": [
    "We can also use `statsmodels` to a Logistic Regression"
   ]
  },
  {
   "cell_type": "code",
   "execution_count": 9,
   "metadata": {
    "collapsed": false
   },
   "outputs": [
    {
     "name": "stdout",
     "output_type": "stream",
     "text": [
      "Optimization terminated successfully.\n",
      "         Current function value: 0.651861\n",
      "         Iterations 5\n",
      "                           Logit Regression Results                           \n",
      "==============================================================================\n",
      "Dep. Variable:                      y   No. Observations:                   21\n",
      "Model:                          Logit   Df Residuals:                       19\n",
      "Method:                           MLE   Df Model:                            1\n",
      "Date:                Thu, 12 Oct 2023   Pseudo R-squ.:                 0.05802\n",
      "Time:                        00:35:52   Log-Likelihood:                -13.689\n",
      "converged:                       True   LL-Null:                       -14.532\n",
      "Covariance Type:            nonrobust   LLR p-value:                    0.1941\n",
      "==============================================================================\n",
      "                 coef    std err          z      P>|z|      [0.025      0.975]\n",
      "------------------------------------------------------------------------------\n",
      "const          1.0532      0.896      1.175      0.240      -0.704       2.810\n",
      "x1            -0.1284      0.106     -1.215      0.225      -0.336       0.079\n",
      "==============================================================================\n"
     ]
    }
   ],
   "source": [
    "# Sample data\n",
    "x = [1, 2, 3, 4, 5, 4, 5, 13, 4, 6, 10, 12, 13, 12, 6, 7, 7, 7, 12, 4, 21,]\n",
    "y = [0, 0, 1, 1, 1, 0, 0, 0, 1, 1, 1, 0, 1, 0, 1, 0, 1, 1, 0, 1, 0]\n",
    "\n",
    "# Add a constant for the intercept term\n",
    "x = sm.add_constant(x)\n",
    "\n",
    "logit_model = sm.Logit(y, x).fit() # function for Logistic Regression\n",
    "print(logit_model.summary())"
   ]
  }
 ],
 "metadata": {
  "kernelspec": {
   "argv": [
    "/usr/bin/python3",
    "-m",
    "ipykernel",
    "--HistoryManager.enabled=False",
    "--matplotlib=inline",
    "-c",
    "%config InlineBackend.figure_formats = set(['retina'])\nimport matplotlib; matplotlib.rcParams['figure.figsize'] = (12, 7)",
    "-f",
    "{connection_file}"
   ],
   "display_name": "Python 3 (system-wide)",
   "env": {
   },
   "language": "python",
   "metadata": {
    "cocalc": {
     "description": "Python 3 programming language",
     "priority": 100,
     "url": "https://www.python.org/"
    }
   },
   "name": "python3",
   "resource_dir": "/ext/jupyter/kernels/python3"
  },
  "language_info": {
   "codemirror_mode": {
    "name": "ipython",
    "version": 3
   },
   "file_extension": ".py",
   "mimetype": "text/x-python",
   "name": "python",
   "nbconvert_exporter": "python",
   "pygments_lexer": "ipython3",
   "version": "3.10.12"
  }
 },
 "nbformat": 4,
 "nbformat_minor": 4
}