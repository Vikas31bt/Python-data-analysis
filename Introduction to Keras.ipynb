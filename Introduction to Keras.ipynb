{
 "cells": [
  {
   "cell_type": "markdown",
   "metadata": {
    "collapsed": false
   },
   "source": [
    "# Introduction to Keras  \n",
    "\n",
    "We're finally getting to create Neural Networks with Python!! \\(cheers and applause\\)  \n",
    "In this tutorial, we're going to see Keras, a high\\-level neural networks Application Programming Interface \\(API\\) in Python \\(and I believe in R too!\\). Keras takes away a lot of the grunt work i.e. creating a class and making sure you have the right attributes, methods and they all play nicely with one another etc. and let's you get directly into the good stuff! Keras has a lot of classes \\(Python objects\\) that allow you to quickly get started with your first Neural Network. Each type of Neural Network \\(Feed Forward, Convolutional etc.\\) has their own classes that can be called as part of a larger model.\n",
    "\n",
    "Since Keras deals with all the heavy math and stats on the backend, you don't need to worry about it. You just tell it what kind of layers you want and specify other things like the loss function and away you go. So let's get started!\n",
    "\n"
   ]
  },
  {
   "cell_type": "code",
   "execution_count": 3,
   "metadata": {
    "collapsed": false
   },
   "outputs": [
    {
     "name": "stderr",
     "output_type": "stream",
     "text": [
      "2023-11-16 00:53:48.333933: I tensorflow/core/util/port.cc:110] oneDNN custom operations are on. You may see slightly different numerical results due to floating-point round-off errors from different computation orders. To turn them off, set the environment variable `TF_ENABLE_ONEDNN_OPTS=0`.\n",
      "2023-11-16 00:53:48.337981: I tensorflow/tsl/cuda/cudart_stub.cc:28] Could not find cuda drivers on your machine, GPU will not be used.\n",
      "2023-11-16 00:53:50.253715: I tensorflow/tsl/cuda/cudart_stub.cc:28] Could not find cuda drivers on your machine, GPU will not be used.\n",
      "2023-11-16 00:53:50.291753: I tensorflow/core/platform/cpu_feature_guard.cc:182] This TensorFlow binary is optimized to use available CPU instructions in performance-critical operations.\n",
      "To enable the following instructions: AVX2 AVX512F AVX512_VNNI FMA, in other operations, rebuild TensorFlow with the appropriate compiler flags.\n"
     ]
    },
    {
     "name": "stderr",
     "output_type": "stream",
     "text": [
      "2023-11-16 00:53:54.757097: W tensorflow/compiler/tf2tensorrt/utils/py_utils.cc:38] TF-TRT Warning: Could not find TensorRT\n"
     ]
    }
   ],
   "source": [
    "import numpy as np\n",
    "import matplotlib.pyplot as plt\n",
    "from keras.models import Sequential\n",
    "from keras.layers import Dense\n",
    "from keras.utils import plot_model\n",
    "import pandas as pd\n",
    "from sklearn.preprocessing import StandardScaler\n",
    "from sklearn.model_selection import train_test_split"
   ]
  },
  {
   "cell_type": "markdown",
   "metadata": {
    "collapsed": false
   },
   "source": [
    "Notice how when you imported Keras, you see a bunch of `tensorflow` warnings - that's because Keras has a `tensorflow` backend (`tensorflow` and `PyTorch` are essentially the same thing but made by different companies - these have a bit more of a lower level function but more on this later!).   \n",
    "We've also imported a bunch of things from Keras and made use of 3 different modules - `models`, `layers` and `utils`.  \n",
    "1. `models` - this is the module in Keras where the different types of models reside. `Sequential` tells Keras that you want to create a network that has a _sequential_ stack of linear layers.  \n",
    "2. `layers` - this module is where the different kinds of layers are. Layers are the basic building blocks of neural networks in Keras. We've imported the `Dense` layer from this module, because we want to create our standard _densely_ connected layers or fully connected layers.   \n",
    "3. `utils` - this is where you will find functions for any other purposes like plotting (this the other _utilities_ module).  \n",
    "\n",
    "\n",
    "\n",
    "Now let's get some data and start defining the model!"
   ]
  },
  {
   "cell_type": "code",
   "execution_count": 4,
   "metadata": {
    "collapsed": false
   },
   "outputs": [
    {
     "data": {
      "text/html": [
       "<div>\n",
       "<style scoped>\n",
       "    .dataframe tbody tr th:only-of-type {\n",
       "        vertical-align: middle;\n",
       "    }\n",
       "\n",
       "    .dataframe tbody tr th {\n",
       "        vertical-align: top;\n",
       "    }\n",
       "\n",
       "    .dataframe thead th {\n",
       "        text-align: right;\n",
       "    }\n",
       "</style>\n",
       "<table border=\"1\" class=\"dataframe\">\n",
       "  <thead>\n",
       "    <tr style=\"text-align: right;\">\n",
       "      <th></th>\n",
       "      <th>Sample_name</th>\n",
       "      <th>Betacatenin</th>\n",
       "      <th>CAIX</th>\n",
       "      <th>CD20</th>\n",
       "      <th>CD3</th>\n",
       "      <th>CD44</th>\n",
       "      <th>CD45</th>\n",
       "      <th>CD68</th>\n",
       "      <th>CK14</th>\n",
       "      <th>CK19</th>\n",
       "      <th>...</th>\n",
       "      <th>Vimentin</th>\n",
       "      <th>cPARPcCasp3</th>\n",
       "      <th>mTOR</th>\n",
       "      <th>p53</th>\n",
       "      <th>pERK12</th>\n",
       "      <th>pHH3</th>\n",
       "      <th>pS6</th>\n",
       "      <th>panCK</th>\n",
       "      <th>vWFCD31</th>\n",
       "      <th>ER_status</th>\n",
       "    </tr>\n",
       "  </thead>\n",
       "  <tbody>\n",
       "    <tr>\n",
       "      <th>0</th>\n",
       "      <td>MB0000_1_527</td>\n",
       "      <td>0.257119</td>\n",
       "      <td>0.099919</td>\n",
       "      <td>0.053080</td>\n",
       "      <td>0.068505</td>\n",
       "      <td>1.538144</td>\n",
       "      <td>0.237508</td>\n",
       "      <td>0.308845</td>\n",
       "      <td>0.041682</td>\n",
       "      <td>0.202937</td>\n",
       "      <td>...</td>\n",
       "      <td>0.236465</td>\n",
       "      <td>0.652936</td>\n",
       "      <td>0.127962</td>\n",
       "      <td>0.047303</td>\n",
       "      <td>0.147692</td>\n",
       "      <td>0.125508</td>\n",
       "      <td>0.079349</td>\n",
       "      <td>0.304568</td>\n",
       "      <td>0.328876</td>\n",
       "      <td>pos</td>\n",
       "    </tr>\n",
       "    <tr>\n",
       "      <th>1</th>\n",
       "      <td>MB0002_1_345</td>\n",
       "      <td>0.430766</td>\n",
       "      <td>0.165873</td>\n",
       "      <td>0.096097</td>\n",
       "      <td>0.044206</td>\n",
       "      <td>1.876108</td>\n",
       "      <td>0.116108</td>\n",
       "      <td>0.077916</td>\n",
       "      <td>0.051861</td>\n",
       "      <td>0.799009</td>\n",
       "      <td>...</td>\n",
       "      <td>0.083412</td>\n",
       "      <td>0.800771</td>\n",
       "      <td>0.219092</td>\n",
       "      <td>0.083990</td>\n",
       "      <td>0.154308</td>\n",
       "      <td>0.225958</td>\n",
       "      <td>0.339222</td>\n",
       "      <td>1.398314</td>\n",
       "      <td>0.324076</td>\n",
       "      <td>pos</td>\n",
       "    </tr>\n",
       "    <tr>\n",
       "      <th>2</th>\n",
       "      <td>MB0005_1_211</td>\n",
       "      <td>0.663028</td>\n",
       "      <td>0.366170</td>\n",
       "      <td>0.151895</td>\n",
       "      <td>0.094433</td>\n",
       "      <td>1.898584</td>\n",
       "      <td>0.255871</td>\n",
       "      <td>0.230951</td>\n",
       "      <td>0.072975</td>\n",
       "      <td>0.559487</td>\n",
       "      <td>...</td>\n",
       "      <td>0.151438</td>\n",
       "      <td>1.375195</td>\n",
       "      <td>0.351046</td>\n",
       "      <td>0.127931</td>\n",
       "      <td>0.578319</td>\n",
       "      <td>0.383990</td>\n",
       "      <td>0.268074</td>\n",
       "      <td>2.224326</td>\n",
       "      <td>0.754883</td>\n",
       "      <td>pos</td>\n",
       "    </tr>\n",
       "    <tr>\n",
       "      <th>3</th>\n",
       "      <td>MB0010_1_420</td>\n",
       "      <td>0.686098</td>\n",
       "      <td>0.345356</td>\n",
       "      <td>0.174362</td>\n",
       "      <td>0.115452</td>\n",
       "      <td>1.565233</td>\n",
       "      <td>0.219034</td>\n",
       "      <td>0.116244</td>\n",
       "      <td>0.094914</td>\n",
       "      <td>0.153581</td>\n",
       "      <td>...</td>\n",
       "      <td>0.158320</td>\n",
       "      <td>1.194323</td>\n",
       "      <td>0.320252</td>\n",
       "      <td>0.137204</td>\n",
       "      <td>0.128519</td>\n",
       "      <td>0.333312</td>\n",
       "      <td>0.282119</td>\n",
       "      <td>0.485657</td>\n",
       "      <td>0.518680</td>\n",
       "      <td>pos</td>\n",
       "    </tr>\n",
       "    <tr>\n",
       "      <th>4</th>\n",
       "      <td>MB0013_1_371</td>\n",
       "      <td>0.603125</td>\n",
       "      <td>0.483254</td>\n",
       "      <td>0.301242</td>\n",
       "      <td>0.132543</td>\n",
       "      <td>2.876632</td>\n",
       "      <td>0.315426</td>\n",
       "      <td>0.137286</td>\n",
       "      <td>0.118034</td>\n",
       "      <td>0.578791</td>\n",
       "      <td>...</td>\n",
       "      <td>0.061375</td>\n",
       "      <td>1.350407</td>\n",
       "      <td>0.390461</td>\n",
       "      <td>0.173882</td>\n",
       "      <td>0.189328</td>\n",
       "      <td>0.342457</td>\n",
       "      <td>0.248364</td>\n",
       "      <td>1.554852</td>\n",
       "      <td>0.627247</td>\n",
       "      <td>pos</td>\n",
       "    </tr>\n",
       "  </tbody>\n",
       "</table>\n",
       "<p>5 rows × 39 columns</p>\n",
       "</div>"
      ],
      "text/plain": [
       "    Sample_name  Betacatenin      CAIX      CD20       CD3      CD44  \\\n",
       "0  MB0000_1_527     0.257119  0.099919  0.053080  0.068505  1.538144   \n",
       "1  MB0002_1_345     0.430766  0.165873  0.096097  0.044206  1.876108   \n",
       "2  MB0005_1_211     0.663028  0.366170  0.151895  0.094433  1.898584   \n",
       "3  MB0010_1_420     0.686098  0.345356  0.174362  0.115452  1.565233   \n",
       "4  MB0013_1_371     0.603125  0.483254  0.301242  0.132543  2.876632   \n",
       "\n",
       "       CD45      CD68      CK14      CK19  ...  Vimentin  cPARPcCasp3  \\\n",
       "0  0.237508  0.308845  0.041682  0.202937  ...  0.236465     0.652936   \n",
       "1  0.116108  0.077916  0.051861  0.799009  ...  0.083412     0.800771   \n",
       "2  0.255871  0.230951  0.072975  0.559487  ...  0.151438     1.375195   \n",
       "3  0.219034  0.116244  0.094914  0.153581  ...  0.158320     1.194323   \n",
       "4  0.315426  0.137286  0.118034  0.578791  ...  0.061375     1.350407   \n",
       "\n",
       "       mTOR       p53    pERK12      pHH3       pS6     panCK   vWFCD31  \\\n",
       "0  0.127962  0.047303  0.147692  0.125508  0.079349  0.304568  0.328876   \n",
       "1  0.219092  0.083990  0.154308  0.225958  0.339222  1.398314  0.324076   \n",
       "2  0.351046  0.127931  0.578319  0.383990  0.268074  2.224326  0.754883   \n",
       "3  0.320252  0.137204  0.128519  0.333312  0.282119  0.485657  0.518680   \n",
       "4  0.390461  0.173882  0.189328  0.342457  0.248364  1.554852  0.627247   \n",
       "\n",
       "   ER_status  \n",
       "0        pos  \n",
       "1        pos  \n",
       "2        pos  \n",
       "3        pos  \n",
       "4        pos  \n",
       "\n",
       "[5 rows x 39 columns]"
      ]
     },
     "execution_count": 4,
     "metadata": {
     },
     "output_type": "execute_result"
    }
   ],
   "source": [
    "data = pd.read_csv(\"sample_data.tsv\", sep='\\t')\n",
    "\n",
    "data.head()"
   ]
  },
  {
   "cell_type": "code",
   "execution_count": 5,
   "metadata": {
    "collapsed": false
   },
   "outputs": [
    {
     "data": {
      "text/html": [
       "<div>\n",
       "<style scoped>\n",
       "    .dataframe tbody tr th:only-of-type {\n",
       "        vertical-align: middle;\n",
       "    }\n",
       "\n",
       "    .dataframe tbody tr th {\n",
       "        vertical-align: top;\n",
       "    }\n",
       "\n",
       "    .dataframe thead th {\n",
       "        text-align: right;\n",
       "    }\n",
       "</style>\n",
       "<table border=\"1\" class=\"dataframe\">\n",
       "  <thead>\n",
       "    <tr style=\"text-align: right;\">\n",
       "      <th></th>\n",
       "      <th>Sample_name</th>\n",
       "      <th>Betacatenin</th>\n",
       "      <th>CAIX</th>\n",
       "      <th>CD20</th>\n",
       "      <th>CD3</th>\n",
       "      <th>CD44</th>\n",
       "      <th>CD45</th>\n",
       "      <th>CD68</th>\n",
       "      <th>CK14</th>\n",
       "      <th>CK19</th>\n",
       "      <th>...</th>\n",
       "      <th>cPARPcCasp3</th>\n",
       "      <th>mTOR</th>\n",
       "      <th>p53</th>\n",
       "      <th>pERK12</th>\n",
       "      <th>pHH3</th>\n",
       "      <th>pS6</th>\n",
       "      <th>panCK</th>\n",
       "      <th>vWFCD31</th>\n",
       "      <th>ER_status</th>\n",
       "      <th>target</th>\n",
       "    </tr>\n",
       "  </thead>\n",
       "  <tbody>\n",
       "    <tr>\n",
       "      <th>0</th>\n",
       "      <td>MB0000_1_527</td>\n",
       "      <td>0.257119</td>\n",
       "      <td>0.099919</td>\n",
       "      <td>0.053080</td>\n",
       "      <td>0.068505</td>\n",
       "      <td>1.538144</td>\n",
       "      <td>0.237508</td>\n",
       "      <td>0.308845</td>\n",
       "      <td>0.041682</td>\n",
       "      <td>0.202937</td>\n",
       "      <td>...</td>\n",
       "      <td>0.652936</td>\n",
       "      <td>0.127962</td>\n",
       "      <td>0.047303</td>\n",
       "      <td>0.147692</td>\n",
       "      <td>0.125508</td>\n",
       "      <td>0.079349</td>\n",
       "      <td>0.304568</td>\n",
       "      <td>0.328876</td>\n",
       "      <td>pos</td>\n",
       "      <td>1</td>\n",
       "    </tr>\n",
       "    <tr>\n",
       "      <th>1</th>\n",
       "      <td>MB0002_1_345</td>\n",
       "      <td>0.430766</td>\n",
       "      <td>0.165873</td>\n",
       "      <td>0.096097</td>\n",
       "      <td>0.044206</td>\n",
       "      <td>1.876108</td>\n",
       "      <td>0.116108</td>\n",
       "      <td>0.077916</td>\n",
       "      <td>0.051861</td>\n",
       "      <td>0.799009</td>\n",
       "      <td>...</td>\n",
       "      <td>0.800771</td>\n",
       "      <td>0.219092</td>\n",
       "      <td>0.083990</td>\n",
       "      <td>0.154308</td>\n",
       "      <td>0.225958</td>\n",
       "      <td>0.339222</td>\n",
       "      <td>1.398314</td>\n",
       "      <td>0.324076</td>\n",
       "      <td>pos</td>\n",
       "      <td>1</td>\n",
       "    </tr>\n",
       "    <tr>\n",
       "      <th>2</th>\n",
       "      <td>MB0005_1_211</td>\n",
       "      <td>0.663028</td>\n",
       "      <td>0.366170</td>\n",
       "      <td>0.151895</td>\n",
       "      <td>0.094433</td>\n",
       "      <td>1.898584</td>\n",
       "      <td>0.255871</td>\n",
       "      <td>0.230951</td>\n",
       "      <td>0.072975</td>\n",
       "      <td>0.559487</td>\n",
       "      <td>...</td>\n",
       "      <td>1.375195</td>\n",
       "      <td>0.351046</td>\n",
       "      <td>0.127931</td>\n",
       "      <td>0.578319</td>\n",
       "      <td>0.383990</td>\n",
       "      <td>0.268074</td>\n",
       "      <td>2.224326</td>\n",
       "      <td>0.754883</td>\n",
       "      <td>pos</td>\n",
       "      <td>1</td>\n",
       "    </tr>\n",
       "    <tr>\n",
       "      <th>3</th>\n",
       "      <td>MB0010_1_420</td>\n",
       "      <td>0.686098</td>\n",
       "      <td>0.345356</td>\n",
       "      <td>0.174362</td>\n",
       "      <td>0.115452</td>\n",
       "      <td>1.565233</td>\n",
       "      <td>0.219034</td>\n",
       "      <td>0.116244</td>\n",
       "      <td>0.094914</td>\n",
       "      <td>0.153581</td>\n",
       "      <td>...</td>\n",
       "      <td>1.194323</td>\n",
       "      <td>0.320252</td>\n",
       "      <td>0.137204</td>\n",
       "      <td>0.128519</td>\n",
       "      <td>0.333312</td>\n",
       "      <td>0.282119</td>\n",
       "      <td>0.485657</td>\n",
       "      <td>0.518680</td>\n",
       "      <td>pos</td>\n",
       "      <td>1</td>\n",
       "    </tr>\n",
       "    <tr>\n",
       "      <th>4</th>\n",
       "      <td>MB0013_1_371</td>\n",
       "      <td>0.603125</td>\n",
       "      <td>0.483254</td>\n",
       "      <td>0.301242</td>\n",
       "      <td>0.132543</td>\n",
       "      <td>2.876632</td>\n",
       "      <td>0.315426</td>\n",
       "      <td>0.137286</td>\n",
       "      <td>0.118034</td>\n",
       "      <td>0.578791</td>\n",
       "      <td>...</td>\n",
       "      <td>1.350407</td>\n",
       "      <td>0.390461</td>\n",
       "      <td>0.173882</td>\n",
       "      <td>0.189328</td>\n",
       "      <td>0.342457</td>\n",
       "      <td>0.248364</td>\n",
       "      <td>1.554852</td>\n",
       "      <td>0.627247</td>\n",
       "      <td>pos</td>\n",
       "      <td>1</td>\n",
       "    </tr>\n",
       "  </tbody>\n",
       "</table>\n",
       "<p>5 rows × 40 columns</p>\n",
       "</div>"
      ],
      "text/plain": [
       "    Sample_name  Betacatenin      CAIX      CD20       CD3      CD44  \\\n",
       "0  MB0000_1_527     0.257119  0.099919  0.053080  0.068505  1.538144   \n",
       "1  MB0002_1_345     0.430766  0.165873  0.096097  0.044206  1.876108   \n",
       "2  MB0005_1_211     0.663028  0.366170  0.151895  0.094433  1.898584   \n",
       "3  MB0010_1_420     0.686098  0.345356  0.174362  0.115452  1.565233   \n",
       "4  MB0013_1_371     0.603125  0.483254  0.301242  0.132543  2.876632   \n",
       "\n",
       "       CD45      CD68      CK14      CK19  ...  cPARPcCasp3      mTOR  \\\n",
       "0  0.237508  0.308845  0.041682  0.202937  ...     0.652936  0.127962   \n",
       "1  0.116108  0.077916  0.051861  0.799009  ...     0.800771  0.219092   \n",
       "2  0.255871  0.230951  0.072975  0.559487  ...     1.375195  0.351046   \n",
       "3  0.219034  0.116244  0.094914  0.153581  ...     1.194323  0.320252   \n",
       "4  0.315426  0.137286  0.118034  0.578791  ...     1.350407  0.390461   \n",
       "\n",
       "        p53    pERK12      pHH3       pS6     panCK   vWFCD31  ER_status  \\\n",
       "0  0.047303  0.147692  0.125508  0.079349  0.304568  0.328876        pos   \n",
       "1  0.083990  0.154308  0.225958  0.339222  1.398314  0.324076        pos   \n",
       "2  0.127931  0.578319  0.383990  0.268074  2.224326  0.754883        pos   \n",
       "3  0.137204  0.128519  0.333312  0.282119  0.485657  0.518680        pos   \n",
       "4  0.173882  0.189328  0.342457  0.248364  1.554852  0.627247        pos   \n",
       "\n",
       "   target  \n",
       "0       1  \n",
       "1       1  \n",
       "2       1  \n",
       "3       1  \n",
       "4       1  \n",
       "\n",
       "[5 rows x 40 columns]"
      ]
     },
     "execution_count": 5,
     "metadata": {
     },
     "output_type": "execute_result"
    }
   ],
   "source": [
    "data['target'] = data['ER_status'].map({'pos':1, 'neg': 0}) #one-hot encoding!\n",
    "\n",
    "data.head()"
   ]
  },
  {
   "cell_type": "code",
   "execution_count": 15,
   "metadata": {
    "collapsed": false
   },
   "outputs": [
    {
     "ename": "NameError",
     "evalue": "name 'x' is not defined",
     "output_type": "error",
     "traceback": [
      "\u001b[0;31m---------------------------------------------------------------------------\u001b[0m",
      "\u001b[0;31mNameError\u001b[0m                                 Traceback (most recent call last)",
      "\u001b[0;32m/tmp/ipykernel_301/1017916496.py\u001b[0m in \u001b[0;36m<cell line: 5>\u001b[0;34m()\u001b[0m\n\u001b[1;32m      3\u001b[0m \u001b[0mX\u001b[0m \u001b[0;34m=\u001b[0m \u001b[0mdata\u001b[0m\u001b[0;34m.\u001b[0m\u001b[0miloc\u001b[0m\u001b[0;34m[\u001b[0m\u001b[0;34m:\u001b[0m\u001b[0;34m,\u001b[0m\u001b[0;36m1\u001b[0m\u001b[0;34m:\u001b[0m\u001b[0;36m38\u001b[0m\u001b[0;34m]\u001b[0m\u001b[0;34m.\u001b[0m\u001b[0mto_numpy\u001b[0m\u001b[0;34m(\u001b[0m\u001b[0;34m)\u001b[0m \u001b[0;31m# convert to numpy array\u001b[0m\u001b[0;34m\u001b[0m\u001b[0;34m\u001b[0m\u001b[0m\n\u001b[1;32m      4\u001b[0m \u001b[0my\u001b[0m \u001b[0;34m=\u001b[0m \u001b[0mdata\u001b[0m\u001b[0;34m.\u001b[0m\u001b[0mtarget\u001b[0m\u001b[0;34m.\u001b[0m\u001b[0mto_numpy\u001b[0m\u001b[0;34m(\u001b[0m\u001b[0;34m)\u001b[0m\u001b[0;34m\u001b[0m\u001b[0;34m\u001b[0m\u001b[0m\n\u001b[0;32m----> 5\u001b[0;31m \u001b[0mx\u001b[0m\u001b[0;34m.\u001b[0m\u001b[0mshape\u001b[0m\u001b[0;34m\u001b[0m\u001b[0;34m\u001b[0m\u001b[0m\n\u001b[0m",
      "\u001b[0;31mNameError\u001b[0m: name 'x' is not defined"
     ]
    }
   ],
   "source": [
    "# Create our X and y\n",
    "\n",
    "X = data.iloc[:,1:38].to_numpy() # convert to numpy array\n",
    "y = data.target.to_numpy()"
   ]
  },
  {
   "cell_type": "code",
   "execution_count": 7,
   "metadata": {
    "collapsed": false
   },
   "outputs": [
   ],
   "source": [
    "train_X, test_X, train_y, test_y = train_test_split(X, y, test_size=0.25, random_state=42)"
   ]
  },
  {
   "cell_type": "code",
   "execution_count": 9,
   "metadata": {
    "collapsed": false
   },
   "outputs": [
   ],
   "source": [
    "scaled_train_X = StandardScaler().fit_transform(train_X)"
   ]
  },
  {
   "cell_type": "code",
   "execution_count": 10,
   "metadata": {
    "collapsed": false
   },
   "outputs": [
   ],
   "source": [
    "# Define the model\n",
    "model = Sequential()\n",
    "model.add(Dense(32, input_dim=X.shape[1], activation='relu'))  # Hidden layer with ReLU activation\n",
    "model.add(Dense(1, activation='sigmoid'))  # Output layer with sigmoid activation for binary classification\n",
    "\n",
    "# Compile the model\n",
    "model.compile(loss='binary_crossentropy', optimizer='adam', metrics=['accuracy'])"
   ]
  },
  {
   "cell_type": "markdown",
   "metadata": {
    "collapsed": false
   },
   "source": [
    "**Let's break down each line of code above**  \n",
    "\n",
    "```python\n",
    "# Define the model\n",
    "model = Sequential()\n",
    "model.add(Dense(32, input_dim=X.shape[1], activation='relu'))  # Hidden layer with ReLU activation\n",
    "model.add(Dense(1, activation='sigmoid'))  # Output layer with sigmoid activation for binary classification\n",
    "\n",
    "# Compile the model\n",
    "model.compile(loss='binary_crossentropy', optimizer='adam', metrics=['accuracy'])\n",
    "```\n",
    "\n",
    "1. **Sequential Model:**\n",
    "   - `model = Sequential()` creates a sequential model. A sequential model is appropriate for a plain stack of layers where each layer has exactly one input tensor and one output tensor.\n",
    "\n",
    "2. **Dense Layers:**\n",
    "   - `model.add(Dense(32, input_dim=seq_length, activation='relu'))` adds a dense (fully connected) layer to the model. The layer has 32 units, an input dimension of `seq_length`, and uses the ReLU (Rectified Linear Unit) activation function. This is the hidden layer.\n",
    "\n",
    "   - `model.add(Dense(1, activation='sigmoid'))` adds another dense layer with 1 unit and a sigmoid activation function. This is the output layer for binary classification. The sigmoid activation function squashes the output between 0 and 1, making it suitable for binary classification tasks.\n",
    "\n",
    "3. **Compilation:**\n",
    "   - `model.compile(loss='binary_crossentropy', optimizer='adam', metrics=['accuracy'])` configures the model for training. It specifies the loss function (`binary_crossentropy` for binary classification), the optimizer (`adam` is a popular optimization algorithm), and the metric to monitor during training (`accuracy`).\n",
    "\n",
    "   - The loss function measures how well the model is performing. Binary crossentropy is commonly used for binary classification tasks.\n",
    "\n",
    "   - The optimizer adjusts the model's weights during training to minimize the loss. Adam is an optimization algorithm known for its efficiency.\n",
    "\n",
    "   - The accuracy metric is used to evaluate the model's performance during training. This is the evaluation metric.\n"
   ]
  },
  {
   "cell_type": "code",
   "execution_count": 11,
   "metadata": {
    "collapsed": false
   },
   "outputs": [
    {
     "name": "stdout",
     "output_type": "stream",
     "text": [
      "Epoch 1/10\n"
     ]
    },
    {
     "name": "stdout",
     "output_type": "stream",
     "text": [
      "\r 1/12 [=>............................] - ETA: 8s - loss: 0.9346 - accuracy: 0.2000"
     ]
    },
    {
     "name": "stdout",
     "output_type": "stream",
     "text": [
      "\b\b\b\b\b\b\b\b\b\b\b\b\b\b\b\b\b\b\b\b\b\b\b\b\b\b\b\b\b\b\b\b\b\b\b\b\b\b\b\b\b\b\b\b\b\b\b\b\b\b\b\b\b\b\b\b\b\b\b\b\b\b\b\b\b\b\b\b\b\b\b\b\b\b\b\b\b\b\b\b\b\b\r12/12 [==============================] - 1s 15ms/step - loss: 0.7365 - accuracy: 0.5000 - val_loss: 0.7404 - val_accuracy: 0.4000\n"
     ]
    },
    {
     "name": "stdout",
     "output_type": "stream",
     "text": [
      "Epoch 2/10\n"
     ]
    },
    {
     "name": "stdout",
     "output_type": "stream",
     "text": [
      "\r 1/12 [=>............................] - ETA: 0s - loss: 0.6980 - accuracy: 0.6000"
     ]
    },
    {
     "name": "stdout",
     "output_type": "stream",
     "text": [
      "\b\b\b\b\b\b\b\b\b\b\b\b\b\b\b\b\b\b\b\b\b\b\b\b\b\b\b\b\b\b\b\b\b\b\b\b\b\b\b\b\b\b\b\b\b\b\b\b\b\b\b\b\b\b\b\b\b\b\b\b\b\b\b\b\b\b\b\b\b\b\b\b\b\b\b\b\b\b\b\b\b\b\r12/12 [==============================] - 0s 3ms/step - loss: 0.6841 - accuracy: 0.5833 - val_loss: 0.7268 - val_accuracy: 0.4667\n"
     ]
    },
    {
     "name": "stdout",
     "output_type": "stream",
     "text": [
      "Epoch 3/10\n"
     ]
    },
    {
     "name": "stdout",
     "output_type": "stream",
     "text": [
      "\r 1/12 [=>............................] - ETA: 0s - loss: 0.6611 - accuracy: 0.6000"
     ]
    },
    {
     "name": "stdout",
     "output_type": "stream",
     "text": [
      "\b\b\b\b\b\b\b\b\b\b\b\b\b\b\b\b\b\b\b\b\b\b\b\b\b\b\b\b\b\b\b\b\b\b\b\b\b\b\b\b\b\b\b\b\b\b\b\b\b\b\b\b\b\b\b\b\b\b\b\b\b\b\b\b\b\b\b\b\b\b\b\b\b\b\b\b\b\b\b\b\b\b\r12/12 [==============================] - 0s 3ms/step - loss: 0.6624 - accuracy: 0.6000 - val_loss: 0.7162 - val_accuracy: 0.4667\n"
     ]
    },
    {
     "name": "stdout",
     "output_type": "stream",
     "text": [
      "Epoch 4/10\n"
     ]
    },
    {
     "name": "stdout",
     "output_type": "stream",
     "text": [
      "\r 1/12 [=>............................] - ETA: 0s - loss: 0.6251 - accuracy: 1.0000"
     ]
    },
    {
     "name": "stdout",
     "output_type": "stream",
     "text": [
      "\b\b\b\b\b\b\b\b\b\b\b\b\b\b\b\b\b\b\b\b\b\b\b\b\b\b\b\b\b\b\b\b\b\b\b\b\b\b\b\b\b\b\b\b\b\b\b\b\b\b\b\b\b\b\b\b\b\b\b\b\b\b\b\b\b\b\b\b\b\b\b\b\b\b\b\b\b\b\b\b\b\b\r12/12 [==============================] - 0s 3ms/step - loss: 0.6446 - accuracy: 0.7000 - val_loss: 0.7314 - val_accuracy: 0.4000\n"
     ]
    },
    {
     "name": "stdout",
     "output_type": "stream",
     "text": [
      "Epoch 5/10\n"
     ]
    },
    {
     "name": "stdout",
     "output_type": "stream",
     "text": [
      "\r 1/12 [=>............................] - ETA: 0s - loss: 0.5327 - accuracy: 1.0000"
     ]
    },
    {
     "name": "stdout",
     "output_type": "stream",
     "text": [
      "\b\b\b\b\b\b\b\b\b\b\b\b\b\b\b\b\b\b\b\b\b\b\b\b\b\b\b\b\b\b\b\b\b\b\b\b\b\b\b\b\b\b\b\b\b\b\b\b\b\b\b\b\b\b\b\b\b\b\b\b\b\b\b\b\b\b\b\b\b\b\b\b\b\b\b\b\b\b\b\b\b\b\r12/12 [==============================] - 0s 3ms/step - loss: 0.6177 - accuracy: 0.7833 - val_loss: 0.7171 - val_accuracy: 0.5333\n"
     ]
    },
    {
     "name": "stdout",
     "output_type": "stream",
     "text": [
      "Epoch 6/10\n"
     ]
    },
    {
     "name": "stdout",
     "output_type": "stream",
     "text": [
      "\r 1/12 [=>............................] - ETA: 0s - loss: 0.6143 - accuracy: 1.0000"
     ]
    },
    {
     "name": "stdout",
     "output_type": "stream",
     "text": [
      "\b\b\b\b\b\b\b\b\b\b\b\b\b\b\b\b\b\b\b\b\b\b\b\b\b\b\b\b\b\b\b\b\b\b\b\b\b\b\b\b\b\b\b\b\b\b\b\b\b\b\b\b\b\b\b\b\b\b\b\b\b\b\b\b\b\b\b\b\b\b\b\b\b\b\b\b\b\b\b\b\b\b\r12/12 [==============================] - 0s 3ms/step - loss: 0.6070 - accuracy: 0.8500 - val_loss: 0.6913 - val_accuracy: 0.7333\n"
     ]
    },
    {
     "name": "stdout",
     "output_type": "stream",
     "text": [
      "Epoch 7/10\n"
     ]
    },
    {
     "name": "stdout",
     "output_type": "stream",
     "text": [
      "\r 1/12 [=>............................] - ETA: 0s - loss: 0.5707 - accuracy: 1.0000"
     ]
    },
    {
     "name": "stdout",
     "output_type": "stream",
     "text": [
      "\b\b\b\b\b\b\b\b\b\b\b\b\b\b\b\b\b\b\b\b\b\b\b\b\b\b\b\b\b\b\b\b\b\b\b\b\b\b\b\b\b\b\b\b\b\b\b\b\b\b\b\b\b\b\b\b\b\b\b\b\b\b\b\b\b\b\b\b\b\b\b\b\b\b\b\b\b\b\b\b\b\b\r12/12 [==============================] - 0s 2ms/step - loss: 0.5804 - accuracy: 0.8500 - val_loss: 0.7140 - val_accuracy: 0.5333\n"
     ]
    },
    {
     "name": "stdout",
     "output_type": "stream",
     "text": [
      "Epoch 8/10\n"
     ]
    },
    {
     "name": "stdout",
     "output_type": "stream",
     "text": [
      "\r 1/12 [=>............................] - ETA: 0s - loss: 0.5114 - accuracy: 1.0000"
     ]
    },
    {
     "name": "stdout",
     "output_type": "stream",
     "text": [
      "\b\b\b\b\b\b\b\b\b\b\b\b\b\b\b\b\b\b\b\b\b\b\b\b\b\b\b\b\b\b\b\b\b\b\b\b\b\b\b\b\b\b\b\b\b\b\b\b\b\b\b\b\b\b\b\b\b\b\b\b\b\b\b\b\b\b\b\b\b\b\b\b\b\b\b\b\b\b\b\b\b\b\r12/12 [==============================] - 0s 3ms/step - loss: 0.5594 - accuracy: 0.8667 - val_loss: 0.7079 - val_accuracy: 0.5333\n"
     ]
    },
    {
     "name": "stdout",
     "output_type": "stream",
     "text": [
      "Epoch 9/10\n"
     ]
    },
    {
     "name": "stdout",
     "output_type": "stream",
     "text": [
      "\r 1/12 [=>............................] - ETA: 0s - loss: 0.5375 - accuracy: 1.0000"
     ]
    },
    {
     "name": "stdout",
     "output_type": "stream",
     "text": [
      "\b\b\b\b\b\b\b\b\b\b\b\b\b\b\b\b\b\b\b\b\b\b\b\b\b\b\b\b\b\b\b\b\b\b\b\b\b\b\b\b\b\b\b\b\b\b\b\b\b\b\b\b\b\b\b\b\b\b\b\b\b\b\b\b\b\b\b\b\b\b\b\b\b\b\b\b\b\b\b\b\b\b\r12/12 [==============================] - 0s 3ms/step - loss: 0.5385 - accuracy: 0.9333 - val_loss: 0.7061 - val_accuracy: 0.6000\n"
     ]
    },
    {
     "name": "stdout",
     "output_type": "stream",
     "text": [
      "Epoch 10/10\n"
     ]
    },
    {
     "name": "stdout",
     "output_type": "stream",
     "text": [
      "\r 1/12 [=>............................] - ETA: 0s - loss: 0.5644 - accuracy: 1.0000"
     ]
    },
    {
     "name": "stdout",
     "output_type": "stream",
     "text": [
      "\b\b\b\b\b\b\b\b\b\b\b\b\b\b\b\b\b\b\b\b\b\b\b\b\b\b\b\b\b\b\b\b\b\b\b\b\b\b\b\b\b\b\b\b\b\b\b\b\b\b\b\b\b\b\b\b\b\b\b\b\b\b\b\b\b\b\b\b\b\b\b\b\b\b\b\b\b\b\b\b\b\b\r12/12 [==============================] - 0s 3ms/step - loss: 0.5191 - accuracy: 0.9333 - val_loss: 0.7044 - val_accuracy: 0.6667\n"
     ]
    }
   ],
   "source": [
    "# Train the model\n",
    "history = model.fit(train_X, train_y, epochs=10, batch_size=5, validation_split=0.2)"
   ]
  },
  {
   "cell_type": "markdown",
   "metadata": {
    "collapsed": false
   },
   "source": [
    "**Let's break down what happened here too**  \n",
    "\n",
    "```python\n",
    "# Train the model\n",
    "history = model.fit(train_X, train_y, epochs=10, batch_size=5, validation_split=0.2)\n",
    "```\n",
    "\n",
    "1. **Training the Model:**\n",
    "   - `model.fit(X, y, epochs=10, batch_size=32, validation_split=0.2)` trains the model on the provided training data (`X` and `y`). The training process involves adjusting the model's weights based on the input data to minimize the specified loss function.\n",
    "\n",
    "2. **Epochs:**\n",
    "   - `epochs=10` specifies the number of times the entire training dataset is processed by the model. One epoch is a complete pass through the entire training dataset.\n",
    "\n",
    "3. **Batch Size:**\n",
    "   - `batch_size=5` defines the number of samples used in each iteration for updating the model's weights. Using batches helps speed up the training process and manage memory resources.\n",
    "\n",
    "4. **Validation Split:**\n",
    "   - `validation_split=0.2` reserves 20% of the training data for validation. During training, the model's performance on this validation set is monitored. This helps assess how well the model generalizes to unseen data and prevents overfitting.\n",
    "\n",
    "5. **History Object:**\n",
    "   - `history` is an object that stores the training history. It contains information about the model's performance during training, such as loss and accuracy, at each epoch. You can use this information for visualization and analysis.\n",
    "\n",
    "After running this code, the model undergoes training for the specified number of epochs, updating its weights to improve its ability to predict the target variable (`y`). The training history is stored in the `history` object.\n",
    "\n",
    "This step is crucial for the model to learn patterns from the training data and improve its performance over time. The validation split allows you to monitor whether the model is overfitting or underfitting, and the training history provides insights into the training process."
   ]
  },
  {
   "cell_type": "code",
   "execution_count": 12,
   "metadata": {
    "collapsed": false
   },
   "outputs": [
    {
     "data": {
      "image/png": "[encoded data removed]",
      "text/plain": [
       "<Figure size 864x504 with 1 Axes>"
      ]
     },
     "execution_count": 12,
     "metadata": {
      "image/png": {
       "height": 424,
       "width": 720
      },
      "needs_background": "light"
     },
     "output_type": "execute_result"
    }
   ],
   "source": [
    "## since we have access to the progress, why not visualize it!\n",
    "\n",
    "plt.plot(history.history['accuracy'], label='Training Accuracy')\n",
    "plt.plot(history.history['val_accuracy'], label='Validation Accuracy')\n",
    "plt.xlabel('Epochs')\n",
    "plt.ylabel('Accuracy')\n",
    "plt.legend()\n",
    "plt.show()\n"
   ]
  },
  {
   "cell_type": "markdown",
   "metadata": {
    "collapsed": false
   },
   "source": [
    "Okay but we need to evaluate the model on some test data now!  "
   ]
  },
  {
   "cell_type": "code",
   "execution_count": 13,
   "metadata": {
    "collapsed": false
   },
   "outputs": [
    {
     "name": "stdout",
     "output_type": "stream",
     "text": [
      "\r1/1 [==============================] - ETA: 0s - loss: 0.5079 - accuracy: 0.8800"
     ]
    },
    {
     "name": "stdout",
     "output_type": "stream",
     "text": [
      "\b\b\b\b\b\b\b\b\b\b\b\b\b\b\b\b\b\b\b\b\b\b\b\b\b\b\b\b\b\b\b\b\b\b\b\b\b\b\b\b\b\b\b\b\b\b\b\b\b\b\b\b\b\b\b\b\b\b\b\b\b\b\b\b\b\b\b\b\b\b\b\b\b\b\b\b\b\b\b\b\r1/1 [==============================] - 0s 87ms/step - loss: 0.5079 - accuracy: 0.8800\n"
     ]
    },
    {
     "name": "stdout",
     "output_type": "stream",
     "text": [
      "Test Accuracy: 0.8799999952316284\n"
     ]
    }
   ],
   "source": [
    "# Evaluate the model on test data (data not seen during training)\n",
    "test_loss, test_acc = model.evaluate(test_X, test_y)\n",
    "print(f'Test Accuracy: {test_acc}')"
   ]
  },
  {
   "cell_type": "markdown",
   "metadata": {
    "collapsed": false
   },
   "source": [
    "### We're almost done, but not yet!  \n",
    "We've trained this wonderful model that gives good predictions - we don't want to have to retrain the model each time we want to make a new prediction. We should be able to save the weights and biases of our model so that we can come back to it with new data at a later time and not be worried about having to train it again (realistically speaking, training the model each time isn't usually feasible - you might have spent hours or even days training it, you might not have the same amount of time available next time). Luckily, Keras let's us do this too."
   ]
  },
  {
   "cell_type": "code",
   "execution_count": 14,
   "metadata": {
    "collapsed": false
   },
   "outputs": [
    {
     "name": "stderr",
     "output_type": "stream",
     "text": [
      "/usr/local/lib/python3.10/dist-packages/keras/src/engine/training.py:3000: UserWarning: You are saving your model as an HDF5 file via `model.save()`. This file format is considered legacy. We recommend using instead the native Keras format, e.g. `model.save('my_model.keras')`.\n",
      "  saving_api.save_model(\n"
     ]
    },
    {
     "data": {
      "image/png": "[encoded data removed]",
      "text/plain": [
       "<IPython.core.display.Image object>"
      ]
     },
     "execution_count": 14,
     "metadata": {
     },
     "output_type": "execute_result"
    }
   ],
   "source": [
    "# Save the model\n",
    "model.save('my_model.h5')\n",
    "\n",
    "# Visualize the model architecture\n",
    "plot_model(model, to_file='my_model.png', show_shapes=True)\n"
   ]
  },
  {
   "cell_type": "markdown",
   "metadata": {
    "collapsed": false
   },
   "source": [
    "This is great! Now we have our model saved in `my_model.h5` so we can load it into our script or jupyter notebook or wherever when we need it and also the plotting let's us actually see the architecture of our model (very useful for reports and presentations - doesn't this take the load off of you little bit of creating a visualization of your model?).  \n",
    "\n",
    "\n",
    "\n",
    "Now we're done! Keras has a lot of utility and one of the best things about it is that you don't need to be an advanced coder to get started with it. However, with its ease, come limitations. If you are an advanced coder and you want to do something really fancy - create some really niche layers or architecture, unfortunately Keras might not be able to help you there (as far as I know!). You would need to turn to either `tensorflow` or `PyTorch` to create those really cool and novel models but in order to make use of them, you need to become familiar with [Object Oriented Programming in Python](https://realpython.com/python3-object-oriented-programming/). Happy ML coding!"
   ]
  },
  {
   "cell_type": "code",
   "execution_count": 0,
   "metadata": {
    "collapsed": false
   },
   "outputs": [
   ],
   "source": [
   ]
  }
 ],
 "metadata": {
  "kernelspec": {
   "argv": [
    "/usr/bin/python3",
    "-m",
    "ipykernel",
    "--HistoryManager.enabled=False",
    "--matplotlib=inline",
    "-c",
    "%config InlineBackend.figure_formats = set(['retina'])\nimport matplotlib; matplotlib.rcParams['figure.figsize'] = (12, 7)",
    "-f",
    "{connection_file}"
   ],
   "display_name": "Python 3 (system-wide)",
   "env": {
   },
   "language": "python",
   "metadata": {
    "cocalc": {
     "description": "Python 3 programming language",
     "priority": 100,
     "url": "https://www.python.org/"
    }
   },
   "name": "python3",
   "resource_dir": "/ext/jupyter/kernels/python3"
  }
 },
 "nbformat": 4,
 "nbformat_minor": 4
}