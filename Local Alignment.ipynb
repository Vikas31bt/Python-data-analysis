{
 "cells": [
  {
   "cell_type": "markdown",
   "metadata": {
    "collapsed": false
   },
   "source": [
    "### Write your own Smith-Waterman alignment script\n",
    "- The script should take as input a tab delineated scoring matrix file, and two fasta formatted sequence text files.\n",
    "- The script should produce as output a text file containing an optimized fasta formatted alignment based on the algorithm and input scoring matrix.."
   ]
  },
  {
   "cell_type": "code",
   "execution_count": 2,
   "metadata": {
    "collapsed": false
   },
   "outputs": [
    {
     "name": "stdout",
     "output_type": "stream",
     "text": [
      "/home/user\n"
     ]
    }
   ],
   "source": [
    "## Let's import os\n",
    "import os\n",
    "print(os.getcwd()) # this will get the current working directory"
   ]
  },
  {
   "cell_type": "code",
   "execution_count": 3,
   "metadata": {
    "collapsed": false
   },
   "outputs": [
    {
     "name": "stdout",
     "output_type": "stream",
     "text": [
      ">gi|1790923|gb|U76697.1|ATU76697 Arabidopsis thaliana transposon-like element Limpet1, genomic sequence\n",
      "GGGAATGTTCCAATATAAGACACTTTAAACGTAAGTTTAGACAATATAGACACTTTCCAAGTTAGAGGCA\n",
      "CTTTTCCTTCTTTTTGAAGGAAAACTTGACTTTTATACCTCTTAACTAAACAATCGAAAACAATAACTAA\n",
      "ATATATATCTTAACCAAACAATTAAAAAAATAAAAGAATTTAGATACGTAGTTATTAATATAGACCATTA\n",
      "GATTGAAAAATAAAAATTAAGATCTATGGCTGAGATTAAAGACAATAAATGGATTAATTTTTTGATGTTA\n",
      "AAATCTGATTAGAAAAAGGTATTTCTCTTCGTCTCTAAAACTAAATCTCTCTCTCTAAAAAAACAATCGT\n",
      "TTCTCCCTTTCTCCTTCCTGAAGATCGTTTTTTCATAAATCCATAGTAGTTTAAAAACGAAGCAGAGAGA\n",
      "TGTTGAAAATCGTTTCTCATGAAATTAATCGATTATTCTCTGTGAAGTTCTTTAATCCACACAACTTTCC\n",
      "TCATGAACATGATAATAGTAGTAAATGGAGGTTTTTCCTATGGTTACTCTAGACGAAGGAGGATCTCCTT\n",
      "GTGTTGGACAGGTTTGTGATTTCTTTCCATGGATTAAAAAAATTTGATTGTTTGTTTATGATGAACGATT\n",
      "CTTTGGCTACGGAAGAGTGTCATGGAGTTCTGGCGAATTCTTTGGCTATGTTTGGTGATTTCGTTTTTAA\n",
      "TCAAGTTGGGAATCAATAGGAAACAACTAAGCATACAACATAGATTAGAAGAGATATCAAGATGGATCTA\n",
      "ATTTAAGTAAGATTTGGCGACTAATTCTAGATGATTAGGGTTATTTGTGATTTATTACAAGGCATTTGTG\n",
      "TTCTCATTGATTTGGCGAGTAATTCTGTATGACTAGGGTTATTTGTGTTTTCTTAAAAAGAATTTGTGTT\n",
      "CTTGTTGAAATCTTGTTCATTGGAATTATTTGTGTTTGGTAAATCTTCATTGGTGGCTAAGGATGTGTTT\n",
      "GTAGCTCTTACGGCGTTTGTTATTGGTGATGTCCATTATGGATGGCAAATTATGGATGGCACATTATGGA\n",
      "TGATGAATCATGGATGACATATTATGGATGACGCATCATGGATTGTATATTATGGATTGATATGGTGAGA\n",
      "TTTGTAAATCTTTTGGTCTTACATGTTAAGAGTAAAAGATGAAGAATTGGAGAAGCATGTCTAACATCCT\n",
      "AAAAACAAGCTATATGCGGTTGATTTGCTACAAATAATTTTTTGGTATCCATAATAACAAATCCATTTAA\n",
      "ATATATCCATTCAGAAACCTTTCTACTGATCCGTATCCATTCTATATACCATGTCAATAATAATAGGAGA\n",
      "TTCGATTAACCGTGTTTTGTAAAGAAACCAAAGTTCCATGTCCATAAGGTTTTGAAGGTGGAGGTCTCTG\n",
      "GCAAACTGAAAAAAAAATCAACAAACAATTTTTTGGTGTCCATAATAACGAATCCATTTAAATATATCCA\n",
      "TTCGGAAACCTTTTTACTGATCTATATCCATTTTATATAACATGTCCATGATAACAGGAGATTCGATTAA\n",
      "CTGAAATCTCGATGCTACGTAGATGAAACGAGTTTGACACATGAGAGAGAGCAAAAATCAAATCAAACCG\n",
      "CCATTGTTGAAGAAGAAGAAGTTTCTTCTCATTTTTTACAAAGATGAAGAGAGAGAGAGGTGAAGAGAGA\n",
      "GAGAGAGATGGAAGAGAGAGAGATAGAGAAAGAGAGATATGAAGAGAGAGAGAGAAAGAGAGAAAACGTG\n",
      "GGTTAAGATAATATTTTAGTTAAGAGGGTATTTTAGTAAAAAAACATAAAAAAGTGCCTAATCTTTTGAA\n",
      "AGTGCCTAAACACAGAAATAGTTTTAAAAAAGTGTTTAAGAGTGTAATATTCTC\n",
      "\n",
      "\n"
     ]
    }
   ],
   "source": [
    "# lets's  open the provided Fasta file ATU76697.fasta to have a look \n",
    "seq1 = open(\"ATU76697.fasta\", 'r')\n",
    "print(seq1.read())\n",
    "seq1.close()"
   ]
  },
  {
   "cell_type": "code",
   "execution_count": 4,
   "metadata": {
    "collapsed": false
   },
   "outputs": [
    {
     "name": "stdout",
     "output_type": "stream",
     "text": [
      "ATU76697 Sequence is: GGGAATGTTCCAATATAAGACACTTTAAACGTAAGTTTAGACAATATAGACACTTTCCAAGTTAGAGGCACTTTTCCTTCTTTTTGAAGGAAAACTTGACTTTTATACCTCTTAACTAAACAATCGAAAACAATAACTAAATATATATCTTAACCAAACAATTAAAAAAATAAAAGAATTTAGATACGTAGTTATTAATATAGACCATTAGATTGAAAAATAAAAATTAAGATCTATGGCTGAGATTAAAGACAATAAATGGATTAATTTTTTGATGTTAAAATCTGATTAGAAAAAGGTATTTCTCTTCGTCTCTAAAACTAAATCTCTCTCTCTAAAAAAACAATCGTTTCTCCCTTTCTCCTTCCTGAAGATCGTTTTTTCATAAATCCATAGTAGTTTAAAAACGAAGCAGAGAGATGTTGAAAATCGTTTCTCATGAAATTAATCGATTATTCTCTGTGAAGTTCTTTAATCCACACAACTTTCCTCATGAACATGATAATAGTAGTAAATGGAGGTTTTTCCTATGGTTACTCTAGACGAAGGAGGATCTCCTTGTGTTGGACAGGTTTGTGATTTCTTTCCATGGATTAAAAAAATTTGATTGTTTGTTTATGATGAACGATTCTTTGGCTACGGAAGAGTGTCATGGAGTTCTGGCGAATTCTTTGGCTATGTTTGGTGATTTCGTTTTTAATCAAGTTGGGAATCAATAGGAAACAACTAAGCATACAACATAGATTAGAAGAGATATCAAGATGGATCTAATTTAAGTAAGATTTGGCGACTAATTCTAGATGATTAGGGTTATTTGTGATTTATTACAAGGCATTTGTGTTCTCATTGATTTGGCGAGTAATTCTGTATGACTAGGGTTATTTGTGTTTTCTTAAAAAGAATTTGTGTTCTTGTTGAAATCTTGTTCATTGGAATTATTTGTGTTTGGTAAATCTTCATTGGTGGCTAAGGATGTGTTTGTAGCTCTTACGGCGTTTGTTATTGGTGATGTCCATTATGGATGGCAAATTATGGATGGCACATTATGGATGATGAATCATGGATGACATATTATGGATGACGCATCATGGATTGTATATTATGGATTGATATGGTGAGATTTGTAAATCTTTTGGTCTTACATGTTAAGAGTAAAAGATGAAGAATTGGAGAAGCATGTCTAACATCCTAAAAACAAGCTATATGCGGTTGATTTGCTACAAATAATTTTTTGGTATCCATAATAACAAATCCATTTAAATATATCCATTCAGAAACCTTTCTACTGATCCGTATCCATTCTATATACCATGTCAATAATAATAGGAGATTCGATTAACCGTGTTTTGTAAAGAAACCAAAGTTCCATGTCCATAAGGTTTTGAAGGTGGAGGTCTCTGGCAAACTGAAAAAAAAATCAACAAACAATTTTTTGGTGTCCATAATAACGAATCCATTTAAATATATCCATTCGGAAACCTTTTTACTGATCTATATCCATTTTATATAACATGTCCATGATAACAGGAGATTCGATTAACTGAAATCTCGATGCTACGTAGATGAAACGAGTTTGACACATGAGAGAGAGCAAAAATCAAATCAAACCGCCATTGTTGAAGAAGAAGAAGTTTCTTCTCATTTTTTACAAAGATGAAGAGAGAGAGAGGTGAAGAGAGAGAGAGAGATGGAAGAGAGAGAGATAGAGAAAGAGAGATATGAAGAGAGAGAGAGAAAGAGAGAAAACGTGGGTTAAGATAATATTTTAGTTAAGAGGGTATTTTAGTAAAAAAACATAAAAAAGTGCCTAATCTTTTGAAAGTGCCTAAACACAGAAATAGTTTTAAAAAAGTGTTTAAGAGTGTAATATTCTC\n",
      "The length of the ATU76697 Sequence is: 1874\n"
     ]
    }
   ],
   "source": [
    "# read the sequence from a FASTA file ATU76697.fasta\n",
    "def extract__transposonlikeelementsequence_from_fasta(file_path):\n",
    "    with open(file_path, 'r') as file:\n",
    "        lines = file.readlines()\n",
    "        sequence = ''.join(line.strip() for line in lines if not line.startswith('>'))\n",
    "    return sequence\n",
    "\n",
    "# Get the first sequence\n",
    "file_path = \"ATU76697.fasta\"\n",
    "seq1 = extract__transposonlikeelementsequence_from_fasta(file_path)\n",
    "print(\"ATU76697 Sequence is:\", seq1)\n",
    "print(\"The length of the ATU76697 Sequence is:\", len(seq1))"
   ]
  },
  {
   "cell_type": "code",
   "execution_count": 5,
   "metadata": {
    "collapsed": false
   },
   "outputs": [
    {
     "name": "stdout",
     "output_type": "stream",
     "text": [
      "LR782544 is Sequence: GAGAATATTACACTCTTAAACACTTTTTTAAAACTATTTCTGTGTTTAGGCACTTTCAAAAGATTAGGCACTTTTTTATGTTTTTTTACTAAAATACCCTCTTAACTAAAATATTATCTTAACCCACGTTTTCTCTCTTTCTCTCTCTCTCTTCATCTCTCTCTTTCTCTCTCTCTCTCTCTTCATCTCTCTCTCTCTCTTCACCTCTCTCTCTCTTCATCTTTGTAAAAAATGAGAAGAAACTTCTTCTTCTTCAACAATGGCGGTTTGATTTGATTTTTGCTCTCTCTCATGTGTCAAACTCGTTTCATCTACGTAGCATCGAGATTTCAGTTAATCGAATCTCCTGTTATCATGGACATGTTATATAAAATGGATATAGATCAGTAAAAAGGTTTCCGAATGGATATATTTAAATGGATTCGTTATTATGGACACCAAAAAATTGTTTGTTGATTTTTTTTTCAGTTTGCAGAGACCTCCACCTTCAAAACCTTATGGACATGGAACTTTGGTTTCTTTACAAAACACGGTTAATCGAATCTCCTATTATTATTGACATGGTATATAGAATGGATACGGATCAGTAGAAAGGTTTCTGAATGGATATATTTAAATGGATTTGTTATTATGGATACCAAAAAATTATTTGTAGCAAATCAACCGCATATAGCTTGTTTTTAGGATGTTAGACATGCTTCTCCAATTCTTCATCTTTTACTCTTAACATGTAAGACCAAAAGATTTACAAATCTCACCATATCAATCCATAATATACAATCCATGATGCGTCATCCATAATATGTCATCCATGATTCATCATCCATAATGTGCCATCCATAATTTGCCATCCATAATGGACATCACCAATAACAAACGCCGTAAGAGCTACAAACACATCCTTAGCCACCAATGAAGATTTACCAAACACAAATAATTCCAATGAACAAGATTTCAACAAGAACACAAATTCTTTTTAAGAAAACACAAATAACCCTAGTCATACAGAATTACTCGCCAAATCAATGAGAACACAAATGCCTTGTAATAAATCACAAATAACCCTAATCATCTAGAATTAGTCGCCAAATCTTACTTAAATTAGATCCATCTTGATATCTCTTCTAATCTATGTTGTATGCTTAGTTGTTTCCTATTGATTCCCAACTTGATTAAAAACGAAATCACCAAACATAGCCAAAGAATTCGCCAGAACTCCATGACACTCTTCCGTAGCCAAAGAATCGTTCATCATAAACAAACAATCAAATTTTTTTAATCCATGGAAAGAAATCACAAACCTGTCCAACACAAGGAGATCCTCCTTCGTCTAGAGTAACCATAGGAAAAACCTCCATTTACTACTATTATCATGTTCATGAGGAAAGTTGTGTGGATTAAAGAACTTCACAGAGAATAATCGATTAATTTCATGAGAAACGATTTTCAACATCTCTCTGCTTCGTTTTTAAACTACTATGGATTTATGAAAAAACGATCTTCAGGAAGGAGAAAGGGAGAAACGATTGTTTTTTTAGAGAGAGAGATTTAGTTCTAGAGACGAAGAGAAATACCTTTTTCTAATCAGATTTTAACATCAAAAAATTAATCCATTTATTGTCTTTAATCTCAGCCATAGATCTTAATTTTTATTTTTCAATCTAATGGTCTATATTAATAACTACGTATCTAAATTCTTTTATTTTTTTAATTGTTTGGTTAAGATATATATTTAGTTATTGTTTTCGATTGTTTAGTTAAGAGGTATAAAAGTCAAGTTTTCCTTCAAAAAGAAGGAAAAGTGCCTCTAACTTGGAAAGTGTCTATATTGTCTAAACTTACGTTTAAAGTGTCTTATATTGGAACATTCCC\n",
      "The length of the LR782544 Sequence is: 1872\n"
     ]
    }
   ],
   "source": [
    "# read the sequence from a FASTA file LR782544.fasta\n",
    "def extract_Arabidopsisthalianagenomeassemblysequence_from_fasta(file_path):\n",
    "    with open(file_path, 'r') as file:\n",
    "        lines = file.readlines()\n",
    "        sequence = ''.join(line.strip() for line in lines if not line.startswith('>'))\n",
    "    return sequence\n",
    "\n",
    "# Get the second sequence\n",
    "file_path = \"LR782544.fasta\"\n",
    "seq2 = extract_Arabidopsisthalianagenomeassemblysequence_from_fasta(file_path)\n",
    "print(\"LR782544 is Sequence:\", seq2)\n",
    "\n",
    "print(\"The length of the LR782544 Sequence is:\", len(seq2))"
   ]
  },
  {
   "cell_type": "code",
   "execution_count": 6,
   "metadata": {
    "collapsed": false
   },
   "outputs": [
   ],
   "source": [
    "matrix_values = open(\"blosum_example.txt\", 'r')\n",
    "substitution_matrix = {}\n",
    "\n",
    "# Split the values into lines\n",
    "lines = matrix_values.read().strip().split('\\n')\n",
    "\n",
    "# Iterate over lines to build the dictionary to store values in Key:Value format\n",
    "for i in range(1, len(lines)):\n",
    "    row_values = lines[i].split()\n",
    "    Nucleic_acid1 = row_values[0]\n",
    "    for j in range(1, len(row_values)):\n",
    "        Nucleic_acid2 = lines[j][0]  # This should be corrected to row_values[j][0]\n",
    "        score = int(row_values[j])\n",
    "        substitution_matrix[(Nucleic_acid1, Nucleic_acid2)] = score\n",
    "\n",
    "matrix_values.close()"
   ]
  },
  {
   "cell_type": "code",
   "execution_count": 7,
   "metadata": {
    "collapsed": false
   },
   "outputs": [
   ],
   "source": [
    "# Initialise the variables\n",
    "gap_penalty = -2\n",
    "len_seq1 = len(seq1)\n",
    "len_seq2 = len(seq2)\n",
    "score_matrix = []\n",
    "\n",
    "# Initialize the matrix with zeros\n",
    "for i in range(len_seq1 + 1):\n",
    "    row = [0] * (len_seq2 + 1)\n",
    "    score_matrix.append(row)\n",
    "\n",
    "# Fill first row and first column to be 0.\n",
    "for i in range(1, len_seq1 + 1):\n",
    "    score_matrix[i][0] = i * 0\n",
    "for j in range(1, len_seq2 + 1):\n",
    "    score_matrix[0][j] = j * 0"
   ]
  },
  {
   "cell_type": "code",
   "execution_count": 8,
   "metadata": {
    "collapsed": false
   },
   "outputs": [
    {
     "name": "stdout",
     "output_type": "stream",
     "text": [
      "Pair of Nucleotide AG doesn't have a corresponding entry in your substitution matrix.\n",
      "Pair of Nucleotide AG doesn't have a corresponding entry in your substitution matrix.\n"
     ]
    }
   ],
   "source": [
    "# Initialize a counter for printing the error message\n",
    "error_count = 0\n",
    "# Fill the matrix with scores based on match, mismatch, and gap penalties\n",
    "for i in range(1, len_seq1 + 1):\n",
    "    for j in range(1, len_seq2 + 1):\n",
    "        Nucleic_acid1 = seq1[i - 1]\n",
    "        Nucleic_acid2 = seq2[j - 1]\n",
    "        if (Nucleic_acid1, Nucleic_acid2) in substitution_matrix:\n",
    "            match = score_matrix[i-1][j-1] + substitution_matrix[(Nucleic_acid1, Nucleic_acid2)]\n",
    "            delete = score_matrix[i-1][j] + gap_penalty\n",
    "            insert = score_matrix[i][j-1] + gap_penalty\n",
    "            score_matrix[i][j] = max(0, match, delete, insert)\n",
    "        else:\n",
    "            # Print the error message up to 2 of times\n",
    "            if error_count < 2: \n",
    "                print(\"Pair of Nucleotide \" + Nucleic_acid1 + Nucleic_acid2 + \" doesn't have a corresponding entry in your substitution matrix.\")\n",
    "                error_count += 1"
   ]
  },
  {
   "cell_type": "code",
   "execution_count": 10,
   "metadata": {
    "collapsed": false
   },
   "outputs": [
    {
     "name": "stdout",
     "output_type": "stream",
     "text": [
      "Maximum Value in the Alignment matrix: 3067\n",
      "Row Index of Maximum Value: 1871\n",
      "Column Index of Maximum Value: 1733\n"
     ]
    }
   ],
   "source": [
    "# Find the row index and column index of the maximum value\n",
    "max_value = max(max(row) for row in score_matrix)\n",
    "\n",
    "# Initialize variables to store indices\n",
    "row_index = None\n",
    "col_index = None\n",
    "\n",
    "# Iterate over rows in reverse order\n",
    "for i in range(len(score_matrix) - 1, -1, -1):\n",
    "    # Iterate over columns in reverse order\n",
    "    for j in range(len(score_matrix[i]) - 1, -1, -1):\n",
    "        # Check if the current cell contains the maximum value\n",
    "        if score_matrix[i][j] == max_value:\n",
    "            row_index = i\n",
    "            col_index = j\n",
    "            # Break out of the inner loop as we found the first occurrence\n",
    "            break\n",
    "    # Break out of the outer loop if we found the first occurrence\n",
    "    if row_index is not None:\n",
    "        break\n",
    "\n",
    "# Output the results\n",
    "print(\"Maximum Value in the Alignment matrix:\", max_value)\n",
    "print(\"Row Index of Maximum Value:\", row_index)\n",
    "print(\"Column Index of Maximum Value:\", col_index)"
   ]
  },
  {
   "cell_type": "code",
   "execution_count": 11,
   "metadata": {
    "collapsed": false
   },
   "outputs": [
    {
     "name": "stdout",
     "output_type": "stream",
     "text": [
      "Aligned Sequence 1: AATA-TATA-TCTTA-ACCAAACA--ATTAAAAAAATAAAAG--AATTTAG-ATACG-T-A---G-TTATTAATATAG--ACCA---TTA-GATTGAAAAATAAAAATTAAGATCTATGGCTGAGATTAAAGACAATA-AATGGATTAATTTTTTG----ATGTTAAAATCTGATTAGAAAAAGGTATTTCTCTTCGTCTCTAAAACTAAATCTCTCTCTCTAAAAAAACAATCGTTTCTCCCTTTCTCCTTCCTGAAGATCGT-TTTTTCATAAATCCATAGTA------G-------------T-TT-AAAAACGAAG-CAG---AGA---GA-TGTTGAAAATCGTTTCTCATG--AAATTAATCG-ATTATTCTCTGTGAAGTTCTTTAATCCACACAACTTTCCTCATG----AACATG--ATAATAGT-AGTAAATGGAGGTTTTTCCTATGGTTA-CTCTA-G-ACG----------AA-GG--A-GGATCTCCTTG-TG------TTGGACAG----G-----TTTG--TG-ATTTCTTTCCATG--------GATTA--AAAAAATTTGATTGTTTG-TTTATGATGAACGATTCTTTG----GCTACGGAAGAGTGTCATGGAGTTCTGGCG-AATTCTTTG--G-CTATG----TTTGGTGATTTCGTTTTTA----ATCAAG-TTGGGAATCAATAGGAAACAACTA-----A--G-CATACAACATAG----ATTAGAAGAG-ATATCAAGATGGATCTAATTTAAGTAAG-----ATTTGGCGACTAATTCTAG-ATG-----A-TTA---GG----GTTATTTGTG-ATTTATTACAAGGCATTTGTGTTCTCA-----TTGATTTG--GCGAGT-AATTCTG--TATG-ACTAGGGTTATTTG---TG-----TTTTCTTAAAAAGAATTTGTGTTCTTGTTGAAATCTTGTTCATTGGAATTATTTGTGTTTGGTAAATCTTCATTGGTG-G-CTA-AGGATGTGTTTGTA-G-CTCTTACGGCGTTTGTTATTGGTGATGTCCATTA-TGGATGGCAAAT-TATGGATG-G-CA-CATTATGGATGATG-AAT-CATGGATGACAT-AT-TATGGATG--ACG-CATCATGGATTG-TAT--ATTA-TGG--ATTG---ATA-----TG--GTG--AGATTTGTA---A-ATCTTTTGGTCTTA-CA-TG-----TTA--AGA-GTA-A-AA----GATG---AAGAATT-G--GAGAA-GCA---------TG------TCTAACATCCTAAA-AA--CAAG-CTATATGCGG--TTGATTTGCTACAAAT-AATTTTTTG----------------G---TA--TCCATA-ATAACAAATCCATTTAAATATATCCATTCA-G-----------AAA-CCTTTCT-ACT-G------ATCCG------TATCCATTCT-ATA-TACCA-TG-------TCAATAATAATAGGAGATT-CG----ATTAACCGTG-TTTTG--TA--AA-G-AA--ACCA---A-AG--------TTCCATG-------TCCATAAG--G-T-TT-TGAAGGTGGAG-GTCTCTG-GCAAACTGAAAAAAAAATCA-ACAAACA-ATTTTTTGGTG-TCCATAATAACG--------AATCCATTTAAATATATCCATTCGG--AAACCTTTTTACTG-----ATCTATATCCATTTTATATAACATGTCCATG---ATAA-CA--GG--AGA-TTCGA-TTA--ACTGAAATCTCG-----ATG------------------------CTACGTAG---ATGAAACG---AGTTTGACACATGAGAGA-GA---GCAAAAATCAAATCAAACCG-CCATT-GTTGAAGAAGAAGAAGTTTCTTCTCATTTTTTACAAAG-A-TGAAGAGAGAGAGAG-GT-G--AAG-AGAGAG--AGAGA-GA-TG-----GAAGAGAGAGAGATAGAGAAAGAGAGATATGAAGAGAGAGA----GAG-AAAG-AGA-GAAAACGTGGGTTA--AGA-TAAT--ATTTTA--G---TTA-----AG--A-GGG---TA--TTTTAGTAAAAAAACATAAAAAAG-TGCCTA--------ATCTTTTGAAAGTG-CCTAAA--CACAGAAATAGTTTTAAAAAAG--TG-TTTAAGAGTGTAATATT\n",
      "Aligned Sequence 2: AATATTACACTCTTAAAC---ACTTTTTTAAAACTATTTCTGTGT--TTAGGC-ACTTTCAAAAGAT--------TAGGCAC-TTTTTTATGTTTTTTTACT-AAAAT--A-C-C-----CT---CTT--A-AC--TAAAAT--ATT-AT--CTTAACCCACGTT-TTCTCT-CTT---TCTC--TCTCTCTCTTCATCTCT----CTCTTTCTCTCTCTCTCTCTCTTC-ATC-TCTCTC--TCTCTC-TTC---AC-CTC-TCTCTCTC-TTCATC-TTTGTAAAAAATGAGAAGAAACTTCTTCTTCTTCAACAATGGC-GGTTTGATTTGATTTTTGC---TC-TCTCTCATGTGT-------CAAAC-----TC-GT----TTC----ATC-----TAC---------GTAGCATC--GAGAT--T--TCAGTTAATCGA-AT--CTCC--T-GTTATC---ATGGACATGTTATATAAAATGGATATAGATC-----AGTAAAAAGGTT--TCCGAATGGATATATTTAAATGGAT-TC-------GTTATTATGGAC-ACCAAAAAAT-TGTTTGT-TGATTTTT-TT-TTC--------AGTTTGC---AGA-GA-CCTCC---A-C-CT-TCAAAAC-C-TTATGGAC-ATGGAACTTTGGT---TTC---TTTACAAAAC-ACGGTT---AATC-----GAATCTCCTATTATTATTGAC-------AT-GGTATAT-AGAA-TGGATAC------GGATC-------AGT-AGAAAGGT-TT--C---------T-GAATGGATATATTTAAATGGATTTGTTAT-TATGGAT-----AC----------------CAAAAAATT-ATTTGTAGCAAATCAAC-C-GCATATAGC-TT--GTT-TTTAGGATGTTAGAC-------------AT--GC-TTC-T-CC-AATTC---TTCAT----C-T-TTTAC-TCT--TAAC-----AT--GTAAGACCAAAAGAT----TTACAAATCTC--AC--C----AT-AT---CAAT--CCAT-AAT--AT-AC-AATCCAT-GATGCGTCATCC--AT-AAT-ATGTCATCCAT-GAT-TCATCATCCAT-AATGTGCCATC--CATAATTTGCCATCCAT-AATGGACATCACCAATAACAAACGCCGTAAGAGC--TACAAACACATC-CTTAGCC--ACCAATGAAGATTTACCAAACACAAATAATTCCAATGAACAAGATTTCAACAAGAACACAAATTCTTTTTAAGAAAAC---AC-----AAATAACCCTAGTC---ATACAGAATT-ACTCGC--CAAATCAAT-----GAGAACACAAATGCCTTGTAATAAATC-ACAAATAAC----CC---T-AAT----C-AT-CTAGAATTAGTCGCCAAATC-----TTACTTAAATTAGATCCATCTTGATATC---TCTTCTAAT-C-TATGTTGTATGC------T--TAGTTGTTTCCTATTGATT-CCC--AAC-TTGATTAAAAACGAAATCACCAAACATAGCCAAAGAATTC---GCCAGAACTCCAT--GACACTCTTCCGTAGCCAAAGAATC---GTTC-ATC-----ATAAAC--AAACAATCAAATTTTTT--TAATC--------CATGGAAAGAAATC-AC--AAAC---------CTGTCCAAC------AC-AAGGAGATC---CTCC------T-T--C--GTC--TAGAGT-AACCATAGGAAAAACCTCCATTTACTACTATTATC--ATGTTCATGAGGAAAGTTGTGTGGATTAAAGAACTTCACAGAGAAT-AATCGATTAATTT--C--ATGAGAAACGATTTTC-AACATC---TC--TC-TGC--TTCGTT--T-TT-AA-AC----------------TACTATGGATTTATGAAAAAACGATCTTCAGGAAGGAGAAAGGGAGAAACGATTGTTTTTTTAGAGAGAGAGATTTAGTTCTAGAGAC--GAAGAGAAATACCTTTTTCTAATCAGATTTTAAC----ATCAAAAAATTAATCCAT-TTATTGTCTTTAATCTCAGCCATAGATCTTAATTTTTATTTTTCAATC-T---AATGGT-C-TATATTAATAAC----T--ACGTATC-TAAATTC----TTTTATTTTTTTAATTGTTTGGT-TAAGA-TAT-ATATT\n"
     ]
    }
   ],
   "source": [
    "# Initialize variables for traceback\n",
    "aligned_seq1 = []\n",
    "aligned_seq2 = []\n",
    "i, j = row_index, col_index  # Start from the maximum value's position\n",
    "\n",
    "while i > 0 and j > 0:\n",
    "    try:\n",
    "        if score_matrix[i][j] == score_matrix[i-1][j-1] + substitution_matrix[(seq1[i-1], seq2[j-1])]:\n",
    "            aligned_seq1.insert(0, seq1[i-1])\n",
    "            aligned_seq2.insert(0, seq2[j-1])\n",
    "            i -= 1\n",
    "            j -= 1\n",
    "        elif score_matrix[i][j] == score_matrix[i-1][j] + gap_penalty:\n",
    "            aligned_seq1.insert(0, seq1[i-1])\n",
    "            aligned_seq2.insert(0, '-')\n",
    "            i -= 1\n",
    "        else:\n",
    "            aligned_seq1.insert(0, '-')\n",
    "            aligned_seq2.insert(0, seq2[j-1])\n",
    "            j -= 1\n",
    "     \n",
    "    except KeyError:\n",
    "        # Handle KeyError, for example, by skipping the current iteration\n",
    "        i -= 1\n",
    "        j -= 1\n",
    "\n",
    "aligned_seq1 = ''.join(aligned_seq1)\n",
    "aligned_seq2 = ''.join(aligned_seq2)\n",
    "\n",
    "print(\"Aligned Sequence 1:\", aligned_seq1)\n",
    "print(\"Aligned Sequence 2:\", aligned_seq2)"
   ]
  },
  {
   "cell_type": "code",
   "execution_count": 15,
   "metadata": {
    "collapsed": false
   },
   "outputs": [
    {
     "name": "stdout",
     "output_type": "stream",
     "text": [
      "Local Alignment results written to Local_alignment_results.txt\n"
     ]
    }
   ],
   "source": [
    "# Write the Local alignment to a text file\n",
    "sw_file_path = \"Local_alignment_results.txt\"\n",
    "with open(sw_file_path, 'w') as sw_alignment:\n",
    "    sw_alignment.write(\"Sequence 1: \" + aligned_seq1 + \"\\n\")\n",
    "    sw_alignment.write(\"Sequence 2: \" + aligned_seq2 + \"\\n\")\n",
    "\n",
    "print(\"Local Alignment results written to\", sw_file_path)"
   ]
  },
  {
   "cell_type": "code",
   "execution_count": 14,
   "metadata": {
    "collapsed": false
   },
   "outputs": [
    {
     "name": "stdout",
     "output_type": "stream",
     "text": [
      "Score matrix for Local alignment has been saved to SW_score_matrix.txt\n"
     ]
    }
   ],
   "source": [
    "# Specify the file path to store the store matrix\n",
    "file_path = \"SW_score_matrix.txt\"\n",
    "\n",
    "# Save the matrix to a text file\n",
    "with open(file_path, \"w\") as file:\n",
    "    for row in score_matrix:\n",
    "        file.write(\" \".join(map(str, row)) + \"\\n\")\n",
    "\n",
    "print(f\"Score matrix for Local alignment has been saved to {file_path}\")"
   ]
  },
  {
   "cell_type": "code",
   "execution_count": 0,
   "metadata": {
    "collapsed": false
   },
   "outputs": [
   ],
   "source": [
   ]
  }
 ],
 "metadata": {
  "kernelspec": {
   "argv": [
    "/usr/bin/python3",
    "-m",
    "ipykernel",
    "--HistoryManager.enabled=False",
    "--matplotlib=inline",
    "-c",
    "%config InlineBackend.figure_formats = set(['retina'])\nimport matplotlib; matplotlib.rcParams['figure.figsize'] = (12, 7)",
    "-f",
    "{connection_file}"
   ],
   "display_name": "Python 3 (system-wide)",
   "env": {
   },
   "language": "python",
   "metadata": {
    "cocalc": {
     "description": "Python 3 programming language",
     "priority": 100,
     "url": "https://www.python.org/"
    }
   },
   "name": "python3",
   "resource_dir": "/ext/jupyter/kernels/python3"
  },
  "language_info": {
   "codemirror_mode": {
    "name": "ipython",
    "version": 3
   },
   "file_extension": ".py",
   "mimetype": "text/x-python",
   "name": "python",
   "nbconvert_exporter": "python",
   "pygments_lexer": "ipython3",
   "version": "3.10.12"
  }
 },
 "nbformat": 4,
 "nbformat_minor": 4
}