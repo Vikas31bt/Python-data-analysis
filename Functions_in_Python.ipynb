{
 "cells": [
  {
   "cell_type": "markdown",
   "metadata": {
    "collapsed": false
   },
   "source": [
    "# Creating Functions in Python  \n",
    "\n",
    "In this notebook, I will be showing you how we can create functions in Python. Recall the following from class:  \n",
    "1. Functions have a definition or name them using a `def` statement  \n",
    "2. The `def` statement ends with a colon (standard Python syntax)  \n",
    "3. The following lines of code are *indented* - which tells Python which code is a part of your function and which isn't  \n",
    "4. Functions have an input and an output  \n",
    "5. The output is denoted as the `return` value  \n",
    "\n",
    "\n",
    "Let's create some functions! Let's do the following tasks:  \n",
    "1. Create a function that takes in two points and returns the norm of the vector made by them  \n",
    "2. Create a function that takes in a string and tells us some information about it  "
   ]
  },
  {
   "cell_type": "code",
   "execution_count": 3,
   "metadata": {
    "collapsed": false
   },
   "outputs": [
   ],
   "source": [
    "import math # importing a relevant library"
   ]
  },
  {
   "cell_type": "code",
   "execution_count": 20,
   "metadata": {
    "collapsed": false
   },
   "outputs": [
   ],
   "source": [
    "## first function\n",
    "\n",
    "def get_norm(p1, p2): # name of the function and two arbitrary names for inputs p1 and p2\n",
    "    \"\"\"This function takes in two points and \n",
    "    returns the norm of the\n",
    "    vector made by them\n",
    "    p1: point one \n",
    "    p2: point two\n",
    "    \"\"\"\n",
    "    # ^^ this is called a doc string - use triple quotation marks, this lets us write a description for our function\n",
    "    assert len(p1) == len(p2) # this is an assert statement - it forces the condition to be true and if it isn't then throws an error\n",
    "    v = [] # create our vector as a list\n",
    "    \n",
    "    for i in range(len(p1)):\n",
    "        x = p2[i] - p1[i]\n",
    "        square_x = x**2 # we want to keep the square, this will make things easier later\n",
    "        v.append(square_x)\n",
    "        \n",
    "    norm_v = math.sqrt(sum(v)) # find the norm\n",
    "    \n",
    "    print(norm_v) # return value, this is our output!\n",
    "        "
   ]
  },
  {
   "cell_type": "code",
   "execution_count": 10,
   "metadata": {
    "collapsed": false
   },
   "outputs": [
    {
     "name": "stdout",
     "output_type": "stream",
     "text": [
      "4.242640687119285\n"
     ]
    }
   ],
   "source": [
    "## now we can call our function!\n",
    "\n",
    "p1 = (2,3)\n",
    "\n",
    "p2 = (5,6)\n",
    "\n",
    "print(get_norm(p1, p2))"
   ]
  },
  {
   "cell_type": "code",
   "execution_count": 11,
   "metadata": {
    "collapsed": false
   },
   "outputs": [
    {
     "name": "stdout",
     "output_type": "stream",
     "text": [
      "5.448853090330111\n"
     ]
    }
   ],
   "source": [
    "## we don't have to name our variables the same!\n",
    "\n",
    "l = (1,2,4)\n",
    "\n",
    "r = (3.5, 5, 7.8)\n",
    "\n",
    "print(get_norm(l,r)) # still works"
   ]
  },
  {
   "cell_type": "code",
   "execution_count": 12,
   "metadata": {
    "collapsed": false
   },
   "outputs": [
    {
     "ename": "AssertionError",
     "evalue": "",
     "output_type": "error",
     "traceback": [
      "\u001b[0;31m---------------------------------------------------------------------------\u001b[0m",
      "\u001b[0;31mAssertionError\u001b[0m                            Traceback (most recent call last)",
      "Cell \u001b[0;32mIn[12], line 7\u001b[0m\n\u001b[1;32m      3\u001b[0m k \u001b[38;5;241m=\u001b[39m (\u001b[38;5;241m2\u001b[39m,\u001b[38;5;241m3\u001b[39m)\n\u001b[1;32m      5\u001b[0m b \u001b[38;5;241m=\u001b[39m (\u001b[38;5;241m3\u001b[39m,\u001b[38;5;241m4\u001b[39m,\u001b[38;5;241m5\u001b[39m)\n\u001b[0;32m----> 7\u001b[0m \u001b[38;5;28mprint\u001b[39m(\u001b[43mget_norm\u001b[49m\u001b[43m(\u001b[49m\u001b[43mk\u001b[49m\u001b[43m,\u001b[49m\u001b[43mb\u001b[49m\u001b[43m)\u001b[49m)\n",
      "Cell \u001b[0;32mIn[9], line 11\u001b[0m, in \u001b[0;36mget_norm\u001b[0;34m(p1, p2)\u001b[0m\n\u001b[1;32m      4\u001b[0m \u001b[38;5;124;03m\"\"\"This function takes in two points and \u001b[39;00m\n\u001b[1;32m      5\u001b[0m \u001b[38;5;124;03mreturns the norm of the\u001b[39;00m\n\u001b[1;32m      6\u001b[0m \u001b[38;5;124;03mvector made by them\u001b[39;00m\n\u001b[1;32m      7\u001b[0m \u001b[38;5;124;03mp1: point one \u001b[39;00m\n\u001b[1;32m      8\u001b[0m \u001b[38;5;124;03mp2: point two\u001b[39;00m\n\u001b[1;32m      9\u001b[0m \u001b[38;5;124;03m\"\"\"\u001b[39;00m\n\u001b[1;32m     10\u001b[0m \u001b[38;5;66;03m# ^^ this is called a doc string - use triple quotation marks, this lets us write a description for our function\u001b[39;00m\n\u001b[0;32m---> 11\u001b[0m \u001b[38;5;28;01massert\u001b[39;00m \u001b[38;5;28mlen\u001b[39m(p1) \u001b[38;5;241m==\u001b[39m \u001b[38;5;28mlen\u001b[39m(p2) \u001b[38;5;66;03m# this is an assert statement - it forces the condition to be true and if it isn't then throws an error\u001b[39;00m\n\u001b[1;32m     12\u001b[0m v \u001b[38;5;241m=\u001b[39m [] \u001b[38;5;66;03m# create our vector as a list\u001b[39;00m\n\u001b[1;32m     14\u001b[0m \u001b[38;5;28;01mfor\u001b[39;00m i \u001b[38;5;129;01min\u001b[39;00m \u001b[38;5;28mrange\u001b[39m(\u001b[38;5;28mlen\u001b[39m(p1)):\n",
      "\u001b[0;31mAssertionError\u001b[0m: "
     ]
    }
   ],
   "source": [
    "## now let's check the effect of our assert statements\n",
    "\n",
    "k = (2,3)\n",
    "\n",
    "b = (3,4,5)\n",
    "\n",
    "print(get_norm(k,b))"
   ]
  },
  {
   "cell_type": "code",
   "execution_count": 21,
   "metadata": {
    "collapsed": false
   },
   "outputs": [
    {
     "name": "stdout",
     "output_type": "stream",
     "text": [
      "5.448853090330111\n"
     ]
    }
   ],
   "source": [
    "my_norm = get_norm(l, r)"
   ]
  },
  {
   "cell_type": "code",
   "execution_count": 22,
   "metadata": {
    "collapsed": false
   },
   "outputs": [
   ],
   "source": [
    "my_norm"
   ]
  },
  {
   "cell_type": "markdown",
   "metadata": {
    "collapsed": false
   },
   "source": [
    "Our assertion statement worked! Many times you know some issues that might occur, so you want to catch them before they happen or you want be able to stop the code from running if that issue is detected -- `assert` statements can help with this like it did above! We know that sometimes someone might try to run two points that don't have the same number of entries (not possible to calculate the norm!) and we wanted to catch that early on before we entered the `for loop`"
   ]
  },
  {
   "cell_type": "code",
   "execution_count": 23,
   "metadata": {
    "collapsed": false
   },
   "outputs": [
   ],
   "source": [
    "## let's make the second one now!\n",
    "\n",
    "def manipulate_string(x): # name and input\n",
    "    \"\"\"Takes in a string and gives us \n",
    "    some information about it\"\"\"  # doc string to describe the function\n",
    "    \n",
    "    if type(x) == str:\n",
    "        \n",
    "        upper_case = x.upper() # turn all letters to uppercase\n",
    "        lower_case = x.lower() # turn all letters to lowercase\n",
    "        n_characters = len(x) # number of characters in the string\n",
    "        n_words = len(x.split(' ')) # number of words in the string\n",
    "        #words = x.split(' ')\n",
    "        \n",
    "        if x.startswith('A'): # check the start of the string\n",
    "            print(x + ' starts with A')\n",
    "        if x.endswith('!'): # check the end of the string\n",
    "            print(x + ' ends with !')\n",
    "            \n",
    "        return upper_case, lower_case, n_characters, n_words # can have multiple outputs! This is returned as a tuple!\n",
    "    else:\n",
    "        return str(x) + ' is not a string, cannot manipulate' # can have different returns based on condition!\n",
    "    "
   ]
  },
  {
   "cell_type": "code",
   "execution_count": 24,
   "metadata": {
    "collapsed": false
   },
   "outputs": [
    {
     "data": {
      "text/plain": [
       "('DNA', 'dna', 3, 1)"
      ]
     },
     "execution_count": 24,
     "metadata": {
     },
     "output_type": "execute_result"
    }
   ],
   "source": [
    "# let's see some examples\n",
    "\n",
    "manipulate_string('DNA')\n",
    "\n",
    "# this one has only one word, 3 letters and it doesn't start with A or end with ! so nothing is printed"
   ]
  },
  {
   "cell_type": "code",
   "execution_count": 25,
   "metadata": {
    "collapsed": false
   },
   "outputs": [
    {
     "name": "stdout",
     "output_type": "stream",
     "text": [
      "A dog jumped over the lazy fox! starts with A\n",
      "A dog jumped over the lazy fox! ends with !\n"
     ]
    },
    {
     "data": {
      "text/plain": [
       "('A DOG JUMPED OVER THE LAZY FOX!', 'a dog jumped over the lazy fox!', 31, 7)"
      ]
     },
     "execution_count": 25,
     "metadata": {
     },
     "output_type": "execute_result"
    }
   ],
   "source": [
    "manipulate_string('A dog jumped over the lazy fox!')\n",
    "\n",
    "# it starts with A and ends with !"
   ]
  },
  {
   "cell_type": "code",
   "execution_count": 26,
   "metadata": {
    "collapsed": false
   },
   "outputs": [
    {
     "data": {
      "text/plain": [
       "'123 is not a string, cannot manipulate'"
      ]
     },
     "execution_count": 26,
     "metadata": {
     },
     "output_type": "execute_result"
    }
   ],
   "source": [
    "manipulate_string(123)\n",
    "\n",
    "# our function is able to handle the issue!"
   ]
  },
  {
   "cell_type": "code",
   "execution_count": 28,
   "metadata": {
    "collapsed": false
   },
   "outputs": [
    {
     "name": "stdout",
     "output_type": "stream",
     "text": [
      "15\n",
      "12\n"
     ]
    }
   ],
   "source": [
    "my_string = 'the sky is blue'\n",
    "\n",
    "my_split_string = my_string.split(' ')\n",
    "\n",
    "counter = 0\n",
    "\n",
    "for i in my_split_string:\n",
    "    counter += len(i)\n",
    "\n",
    "print(len(my_string))\n",
    "\n",
    "print(counter)"
   ]
  },
  {
   "cell_type": "code",
   "execution_count": 11,
   "metadata": {
    "collapsed": false
   },
   "outputs": [
    {
     "name": "stdout",
     "output_type": "stream",
     "text": [
      "Help on function get_norm in module __main__:\n",
      "\n",
      "get_norm(p1, p2)\n",
      "    This function takes in two points and \n",
      "    returns the norm of the\n",
      "    vector made by them\n",
      "\n"
     ]
    }
   ],
   "source": [
    "help(get_norm) # we can get information on any function using help() -- but see how what we added in the doc string is what gets printed!"
   ]
  },
  {
   "cell_type": "markdown",
   "metadata": {
    "collapsed": false
   },
   "source": [
    "So now you've seen two examples of making functions. I also took this opportunity to show you some other stuff:  \n",
    "1. `assert` statements  \n",
    "2. Having multiple outputs and inputs (these don't have to be of the same type!)  \n",
    "3. `doc strings` used for describing functions so if you wanted help on them, this is what gets printed (see cell above)  \n",
    "4. Having different `return statements` based on conditions  \n",
    "5. Some useful functions! You can see the use of the `math` library, and some more string manipulations in `x.upper()`, `x.lower()`, `x.startswith()` and `x.endswith()`  \n",
    "\n",
    "\n",
    "\n",
    "\n",
    "You can also create functions within functions! But that is something you can try doing another time :) "
   ]
  },
  {
   "cell_type": "markdown",
   "metadata": {
    "collapsed": false
   },
   "source": [
    "Now for you to try some functions! Make sure to give them some nice names!  \n",
    "1. Create a function that takes in a codon and returns the name of the amino acid it codes for (hint: you can use a dictionary!). Remember to deal with differences in lowercase vs uppercase and codons that don't exist -- how would you deal with these issues? (e.g. what if someone input 'ABC'? What if someone input 'aTg'?)  \n",
    "2. Create a function that takes in a list of numbers and returns the counts of integers and floats in the list. Are there any issues you can think of?"
   ]
  }
 ],
 "metadata": {
  "kernelspec": {
   "argv": [
    "/usr/bin/python3",
    "-m",
    "ipykernel",
    "--HistoryManager.enabled=False",
    "--matplotlib=inline",
    "-c",
    "%config InlineBackend.figure_formats = set(['retina'])\nimport matplotlib; matplotlib.rcParams['figure.figsize'] = (12, 7)",
    "-f",
    "{connection_file}"
   ],
   "display_name": "Python 3 (system-wide)",
   "env": {
   },
   "language": "python",
   "metadata": {
    "cocalc": {
     "description": "Python 3 programming language",
     "priority": 100,
     "url": "https://www.python.org/"
    }
   },
   "name": "python3",
   "resource_dir": "/ext/jupyter/kernels/python3"
  },
  "language_info": {
   "codemirror_mode": {
    "name": "ipython",
    "version": 3
   },
   "file_extension": ".py",
   "mimetype": "text/x-python",
   "name": "python",
   "nbconvert_exporter": "python",
   "pygments_lexer": "ipython3",
   "version": "3.10.12"
  }
 },
 "nbformat": 4,
 "nbformat_minor": 4
}