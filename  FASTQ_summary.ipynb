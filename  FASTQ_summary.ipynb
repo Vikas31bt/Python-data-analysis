{
 "cells": [
  {
   "cell_type": "markdown",
   "metadata": {
    "collapsed": false
   },
   "source": [
    "### Write your own FASTQ summary script \n",
    "The script should take as input a fastq formatted text file.\n",
    "The script should produce as output a text file summarizing the following metrics of the input file. \n",
    "For each sequence in the input file list the sequence identifier, \n",
    "the total counts and frequencies of each nucleotide, \n",
    "the complementary base ratios, and the mean quality score."
   ]
  },
  {
   "cell_type": "code",
   "execution_count": 10,
   "metadata": {
    "collapsed": false
   },
   "outputs": [
    {
     "name": "stdout",
     "output_type": "stream",
     "text": [
      "/home/user\n"
     ]
    }
   ],
   "source": [
    "# Importing the os module to interact with the operating system\n",
    "import os\n",
    "\n",
    "# Printing the current working directory using os.getcwd()\n",
    "print(os.getcwd())  # this will get the current working directory"
   ]
  },
  {
   "cell_type": "code",
   "execution_count": 4,
   "metadata": {
    "collapsed": false
   },
   "outputs": [
   ],
   "source": [
    "def calculate_complementary_ratios(sequence):\n",
    "    # Dictionary to store complementary bases\n",
    "    complement_dict = {'A': 'T', 'T': 'A', 'C': 'G', 'G': 'C'}\n",
    "\n",
    "    # Generating the complementary sequence using list comprehension\n",
    "    complementary_sequence = ''.join([complement_dict[base] for base in sequence])\n",
    "\n",
    "    # Returning the complementary sequence\n",
    "    return complementary_sequence"
   ]
  },
  {
   "cell_type": "code",
   "execution_count": 5,
   "metadata": {
    "collapsed": false
   },
   "outputs": [
   ],
   "source": [
    "def calculate_mean_quality(quality_scores):\n",
    "    # Calculating the total quality by summing up the ASCII values and adjusting for base quality offset\n",
    "    total_quality = sum([ord(char) - 33 for char in quality_scores])\n",
    "\n",
    "    # Calculating the mean quality by dividing the total quality by the number of quality scores\n",
    "    mean_quality = total_quality / len(quality_scores)\n",
    "\n",
    "    # Returning the calculated mean quality\n",
    "    return mean_quality"
   ]
  },
  {
   "cell_type": "code",
   "execution_count": 6,
   "metadata": {
    "collapsed": false
   },
   "outputs": [
   ],
   "source": [
    "def summarize_fastq(input_filename, output_filename):\n",
    "    # Initialize counters and dictionaries\n",
    "    seq_id = ''\n",
    "    counts = {'A': 0, 'T': 0, 'C': 0, 'G': 0}\n",
    "    total_sequences = 0\n",
    "    total_quality = 0\n",
    "\n",
    "    with open(input_filename, 'r') as input_file:\n",
    "        with open(output_filename, 'w') as output_file:\n",
    "            for line in input_file:\n",
    "                line = line.strip()\n",
    "                if line.startswith('@'):\n",
    "                    # This line is a sequence identifier\n",
    "                    seq_id = line[1:]\n",
    "                    sequence = input_file.readline().strip()  # Read the sequence line\n",
    "                    quality_scores = input_file.readline().strip()  # Read the quality scores line\n",
    "\n",
    "                    total_sequences += 1\n",
    "                    total_quality += calculate_mean_quality(quality_scores)\n",
    "\n",
    "                    # Update nucleotide counts\n",
    "                    for base in sequence:\n",
    "                        if base in counts:\n",
    "                            counts[base] += 1\n",
    "\n",
    "            # Calculate complementary base ratios (based on the last sequence)\n",
    "            complementary_sequence = calculate_complementary_ratios(sequence)\n",
    "\n",
    "            # Write the summary to the output file\n",
    "            output_file.write(f'Sequence Identifier: {seq_id}\\n')\n",
    "            output_file.write(f'Total Counts: {total_sequences}\\n')\n",
    "            output_file.write(f'Nucleotide Frequencies: {counts}\\n')\n",
    "            output_file.write(f'Complementary Base Ratios: {complementary_sequence}\\n')\n",
    "            output_file.write(f'Mean Quality Score: {total_quality / total_sequences:.2f}\\n')"
   ]
  },
  {
   "cell_type": "code",
   "execution_count": 8,
   "metadata": {
    "collapsed": false
   },
   "outputs": [
   ],
   "source": [
    "# Input and output filenames\n",
    "input_filename = \"SRR2584863.fastq\"\n",
    "output_filename = \"FASTQ_summary_results.txt\"\n",
    "\n",
    "# Calling the function to summarize the FASTQ file\n",
    "summarize_fastq(input_filename, output_filename)"
   ]
  },
  {
   "cell_type": "code",
   "execution_count": 9,
   "metadata": {
    "collapsed": false
   },
   "outputs": [
    {
     "name": "stdout",
     "output_type": "stream",
     "text": [
      "Sequence Identifier: SRR2584863.225649 HWI-ST957:244:H73TDADXX:1:2105:11885:63531/1\n",
      "Total Counts: 175000\n",
      "Nucleotide Frequencies: {'A': 3912435, 'T': 3985752, 'C': 3953291, 'G': 3942437}\n",
      "Complementary Base Ratios: CATGACTTGTCTACCTAGTCGCCCGACCACAGGACGTGGGCTAATTCGGCACGCTGTGCTCTTAGCGCTGGGACGCGGCAAAGTTATTAGGGCGCGGGCGCGTCGTGCCAGTCGGGAAGTGCGTCACGCCTCGCACTCTTCGGCTCGAAA\n",
      "Mean Quality Score: 20.31\n",
      "\n"
     ]
    }
   ],
   "source": [
    "# Opening the file \"FASTQ_summary_results.txt\" in read mode\n",
    "result = open(\"FASTQ_summary_results.txt\", 'r')\n",
    "\n",
    "# Reading and printing the contents of the file\n",
    "print(result.read())\n",
    "\n",
    "# Closing the file to free up system resources\n",
    "result.close()"
   ]
  },
  {
   "cell_type": "code",
   "execution_count": 0,
   "metadata": {
    "collapsed": false
   },
   "outputs": [
   ],
   "source": [
   ]
  }
 ],
 "metadata": {
  "kernelspec": {
   "argv": [
    "/usr/bin/python3",
    "-m",
    "ipykernel",
    "--HistoryManager.enabled=False",
    "--matplotlib=inline",
    "-c",
    "%config InlineBackend.figure_formats = set(['retina'])\nimport matplotlib; matplotlib.rcParams['figure.figsize'] = (12, 7)",
    "-f",
    "{connection_file}"
   ],
   "display_name": "Python 3 (system-wide)",
   "env": {
   },
   "language": "python",
   "metadata": {
    "cocalc": {
     "description": "Python 3 programming language",
     "priority": 100,
     "url": "https://www.python.org/"
    }
   },
   "name": "python3",
   "resource_dir": "/ext/jupyter/kernels/python3"
  },
  "language_info": {
   "codemirror_mode": {
    "name": "ipython",
    "version": 3
   },
   "file_extension": ".py",
   "mimetype": "text/x-python",
   "name": "python",
   "nbconvert_exporter": "python",
   "pygments_lexer": "ipython3",
   "version": "3.10.12"
  }
 },
 "nbformat": 4,
 "nbformat_minor": 4
}