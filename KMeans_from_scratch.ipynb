{
 "cells": [
  {
   "cell_type": "markdown",
   "metadata": {
    "collapsed": false
   },
   "source": [
    "# Coding KMeans from scratch  \n",
    "Now practically speaking, you should almost never code these things by yourself. There are functions and modules available to you through trusted sources with these models that have been tried, tested and improved by many many many people so it's better to use that code (also if something is wrong, you can rest assured that it wasn't your fault ;) )  \n",
    "\n",
    "\n",
    "Okay, then why are we coding this? Well, this will be a good way to summarize what we have learnt so far in the course. Coding a KMeans requires quite a bit of problem-solving, and thinking about how you can get your code to do what you want based on what you've learnt so far. Since we want to test our hand at everything, we are going to try and code *everything* ourselves - this of course, does mean that it won't be perfect, but it'll be something!  \n",
    "\n",
    "\n",
    "## So lets think about how a KMeans works and what components we need to code  \n",
    "KMeans needs data and centroids and the distance between the centroids and based on those distances it defines clusters. This is essentially how it works, so we see that there are 4 functions that we need to create:  \n",
    "1. A function that between every point and every centroid  \n",
    "2. A function that takes in the distances from 1 and finds the closest centroid for each point  \n",
    "3. A function that defines the clusters, gets the means for each and uses them to find new centroids  \n",
    "4. A function that puts everything together and gives us the final output  \n",
    "\n",
    "\n",
    "So let's get started - we are going to use one cell at a time and test our function with toy data before using actual data.  "
   ]
  },
  {
   "cell_type": "code",
   "execution_count": 14,
   "metadata": {
    "collapsed": false
   },
   "outputs": [
   ],
   "source": [
    "## import our libraries\n",
    "\n",
    "import numpy as np\n",
    "import pandas as pd\n",
    "import random\n",
    "import matplotlib.pyplot as plt\n",
    "import seaborn as sns\n",
    "from sklearn.preprocessing import StandardScaler"
   ]
  },
  {
   "cell_type": "code",
   "execution_count": 15,
   "metadata": {
    "collapsed": false
   },
   "outputs": [
    {
     "name": "stdout",
     "output_type": "stream",
     "text": [
      "(100, 3)\n"
     ]
    }
   ],
   "source": [
    "# let's get some data\n",
    "\n",
    "data = np.random.rand(100, 3)\n",
    "\n",
    "print(data.shape)"
   ]
  },
  {
   "cell_type": "code",
   "execution_count": 17,
   "metadata": {
    "collapsed": false
   },
   "outputs": [
    {
     "name": "stdout",
     "output_type": "stream",
     "text": [
      "[66 92]\n"
     ]
    },
    {
     "data": {
      "text/plain": [
       "(2, 3)"
      ]
     },
     "execution_count": 17,
     "metadata": {
     },
     "output_type": "execute_result"
    }
   ],
   "source": [
    "# initialize some centroids - say we want 2 clusters\n",
    "np.random.seed(123) # set the seed\n",
    "\n",
    "idx = np.random.choice(range(0, data.shape[0]), 2)\n",
    "\n",
    "print(idx)\n",
    "\n",
    "init_centroids = data[idx, :]\n",
    "\n",
    "init_centroids.shape"
   ]
  },
  {
   "cell_type": "code",
   "execution_count": 23,
   "metadata": {
    "collapsed": false
   },
   "outputs": [
   ],
   "source": [
    "# for the first point\n",
    "\n",
    "def point_to_centroid_distance(point,centroid):\n",
    "    \"\"\"Calculates the Euclidean distance between a data point\n",
    "    and a cluster centroid. Point and centroid are numpy arrays.\"\"\"\n",
    "    distance = np.sqrt((np.subtract(point, centroid)**2).sum())\n",
    "    \n",
    "    return distance\n"
   ]
  },
  {
   "cell_type": "code",
   "execution_count": 24,
   "metadata": {
    "collapsed": false
   },
   "outputs": [
    {
     "data": {
      "text/plain": [
       "0.47700133124012795"
      ]
     },
     "execution_count": 24,
     "metadata": {
     },
     "output_type": "execute_result"
    }
   ],
   "source": [
    "# test\n",
    "\n",
    "point_to_centroid_distance(data[1,:], init_centroids[1,:])"
   ]
  },
  {
   "cell_type": "code",
   "execution_count": 34,
   "metadata": {
    "collapsed": false
   },
   "outputs": [
   ],
   "source": [
    " # for the second point\n",
    "def find_closest_centroid(data, c, k):\n",
    "    \"\"\"Finds the closest centroid and returns a list ordered by which sample\n",
    "    got assigned to which cluster.\n",
    "    data: np.array of shape (n_samples, n_features)\n",
    "    \"\"\"\n",
    "    assigned_cluster = []\n",
    "    n_samples = data.shape[0]\n",
    "    for i in range(n_samples):\n",
    "        distance = []\n",
    "        for j in range(k):\n",
    "            dist_p_to_c = point_to_centroid_distance(data[i, :], c[j, :])\n",
    "            distance.append(dist_p_to_c)\n",
    "            \n",
    "        assigned_cluster.append(np.argmin(distance))\n",
    "            \n",
    "    return assigned_cluster\n",
    "\n",
    "    "
   ]
  },
  {
   "cell_type": "code",
   "execution_count": 36,
   "metadata": {
    "collapsed": false,
    "scrolled": true
   },
   "outputs": [
    {
     "data": {
      "text/plain": [
       "[1, 1, 1, 1, 0, 0, 1, 1, 1, 0]"
      ]
     },
     "execution_count": 36,
     "metadata": {
     },
     "output_type": "execute_result"
    }
   ],
   "source": [
    "# test\n",
    "\n",
    "lst = find_closest_centroid(data, init_centroids, 2)\n",
    "lst[0:10]"
   ]
  },
  {
   "cell_type": "code",
   "execution_count": 51,
   "metadata": {
    "collapsed": false
   },
   "outputs": [
   ],
   "source": [
    "# for the third point\n",
    "\n",
    "def get_new_centroids(clusters_lst, data, k):\n",
    "    \"\"\"Gets the new centroids by calculating the mean of the current clusters. This function assumes that data points follow the same order in data and clusters_lst.\n",
    "    \"\"\"\n",
    "    new_centroids = []\n",
    "    \n",
    "    new_df = pd.concat([pd.DataFrame(data), pd.DataFrame(clusters_lst, columns=['cluster'])], axis =1)\n",
    "    \n",
    "    for c in new_df['cluster'].unique():\n",
    "        \n",
    "        current_cluster = new_df[new_df['cluster'] == c].iloc[:, :-1]\n",
    "        cluster_mean = current_cluster.mean(axis=0)\n",
    "        \n",
    "        new_centroids.append(cluster_mean)\n",
    "    \n",
    "  \n",
    "    return np.array(new_centroids).reshape([k, -1])\n",
    "    "
   ]
  },
  {
   "cell_type": "code",
   "execution_count": 52,
   "metadata": {
    "collapsed": false
   },
   "outputs": [
    {
     "data": {
      "text/plain": [
       "(2, 3)"
      ]
     },
     "execution_count": 52,
     "metadata": {
     },
     "output_type": "execute_result"
    }
   ],
   "source": [
    "# test\n",
    "\n",
    "get_new_centroids(lst, data, 2).shape"
   ]
  },
  {
   "cell_type": "code",
   "execution_count": 53,
   "metadata": {
    "collapsed": false
   },
   "outputs": [
   ],
   "source": [
    "# putting it all together\n",
    "\n",
    "def kmeans(data, k, c, n_iter):\n",
    "    \"\"\"Runs the K means algorithm given the data, a number of clusters k,\n",
    "    an initialization for centroids, c (as a np.ndarray) and the number\n",
    "    of iterations, n_iter.\"\"\"\n",
    "    for i in range(n_iter):\n",
    "        cluster_ids = find_closest_centroid(data, c, k)\n",
    "        c = get_new_centroids(cluster_ids, data, k)\n",
    "        \n",
    "    return c\n",
    "        \n",
    "    "
   ]
  },
  {
   "cell_type": "code",
   "execution_count": 54,
   "metadata": {
    "collapsed": false
   },
   "outputs": [
   ],
   "source": [
    "# test\n",
    "\n",
    "final_centroids = kmeans(data, 2, init_centroids, 5)\n",
    "\n",
    "new_lst = find_closest_centroid(data, final_centroids, 2)"
   ]
  },
  {
   "cell_type": "code",
   "execution_count": 55,
   "metadata": {
    "collapsed": false
   },
   "outputs": [
    {
     "data": {
      "text/plain": [
       "False"
      ]
     },
     "execution_count": 55,
     "metadata": {
     },
     "output_type": "execute_result"
    }
   ],
   "source": [
    "new_lst == lst # test if the final cluster assignment is different from the first one"
   ]
  },
  {
   "cell_type": "markdown",
   "metadata": {
    "collapsed": false
   },
   "source": [
    "Now lets work with some real data, we're going to use `sample_data.tsv` that we used before"
   ]
  },
  {
   "cell_type": "code",
   "execution_count": 56,
   "metadata": {
    "collapsed": false
   },
   "outputs": [
    {
     "data": {
      "text/html": [
       "<div>\n",
       "<style scoped>\n",
       "    .dataframe tbody tr th:only-of-type {\n",
       "        vertical-align: middle;\n",
       "    }\n",
       "\n",
       "    .dataframe tbody tr th {\n",
       "        vertical-align: top;\n",
       "    }\n",
       "\n",
       "    .dataframe thead th {\n",
       "        text-align: right;\n",
       "    }\n",
       "</style>\n",
       "<table border=\"1\" class=\"dataframe\">\n",
       "  <thead>\n",
       "    <tr style=\"text-align: right;\">\n",
       "      <th></th>\n",
       "      <th>Sample_name</th>\n",
       "      <th>Betacatenin</th>\n",
       "      <th>CAIX</th>\n",
       "      <th>CD20</th>\n",
       "      <th>CD3</th>\n",
       "      <th>CD44</th>\n",
       "      <th>CD45</th>\n",
       "      <th>CD68</th>\n",
       "      <th>CK14</th>\n",
       "      <th>CK19</th>\n",
       "      <th>...</th>\n",
       "      <th>Vimentin</th>\n",
       "      <th>cPARPcCasp3</th>\n",
       "      <th>mTOR</th>\n",
       "      <th>p53</th>\n",
       "      <th>pERK12</th>\n",
       "      <th>pHH3</th>\n",
       "      <th>pS6</th>\n",
       "      <th>panCK</th>\n",
       "      <th>vWFCD31</th>\n",
       "      <th>ER_status</th>\n",
       "    </tr>\n",
       "  </thead>\n",
       "  <tbody>\n",
       "    <tr>\n",
       "      <th>0</th>\n",
       "      <td>MB0000_1_527</td>\n",
       "      <td>0.257119</td>\n",
       "      <td>0.099919</td>\n",
       "      <td>0.053080</td>\n",
       "      <td>0.068505</td>\n",
       "      <td>1.538144</td>\n",
       "      <td>0.237508</td>\n",
       "      <td>0.308845</td>\n",
       "      <td>0.041682</td>\n",
       "      <td>0.202937</td>\n",
       "      <td>...</td>\n",
       "      <td>0.236465</td>\n",
       "      <td>0.652936</td>\n",
       "      <td>0.127962</td>\n",
       "      <td>0.047303</td>\n",
       "      <td>0.147692</td>\n",
       "      <td>0.125508</td>\n",
       "      <td>0.079349</td>\n",
       "      <td>0.304568</td>\n",
       "      <td>0.328876</td>\n",
       "      <td>pos</td>\n",
       "    </tr>\n",
       "    <tr>\n",
       "      <th>1</th>\n",
       "      <td>MB0002_1_345</td>\n",
       "      <td>0.430766</td>\n",
       "      <td>0.165873</td>\n",
       "      <td>0.096097</td>\n",
       "      <td>0.044206</td>\n",
       "      <td>1.876108</td>\n",
       "      <td>0.116108</td>\n",
       "      <td>0.077916</td>\n",
       "      <td>0.051861</td>\n",
       "      <td>0.799009</td>\n",
       "      <td>...</td>\n",
       "      <td>0.083412</td>\n",
       "      <td>0.800771</td>\n",
       "      <td>0.219092</td>\n",
       "      <td>0.083990</td>\n",
       "      <td>0.154308</td>\n",
       "      <td>0.225958</td>\n",
       "      <td>0.339222</td>\n",
       "      <td>1.398314</td>\n",
       "      <td>0.324076</td>\n",
       "      <td>pos</td>\n",
       "    </tr>\n",
       "    <tr>\n",
       "      <th>2</th>\n",
       "      <td>MB0005_1_211</td>\n",
       "      <td>0.663028</td>\n",
       "      <td>0.366170</td>\n",
       "      <td>0.151895</td>\n",
       "      <td>0.094433</td>\n",
       "      <td>1.898584</td>\n",
       "      <td>0.255871</td>\n",
       "      <td>0.230951</td>\n",
       "      <td>0.072975</td>\n",
       "      <td>0.559487</td>\n",
       "      <td>...</td>\n",
       "      <td>0.151438</td>\n",
       "      <td>1.375195</td>\n",
       "      <td>0.351046</td>\n",
       "      <td>0.127931</td>\n",
       "      <td>0.578319</td>\n",
       "      <td>0.383990</td>\n",
       "      <td>0.268074</td>\n",
       "      <td>2.224326</td>\n",
       "      <td>0.754883</td>\n",
       "      <td>pos</td>\n",
       "    </tr>\n",
       "    <tr>\n",
       "      <th>3</th>\n",
       "      <td>MB0010_1_420</td>\n",
       "      <td>0.686098</td>\n",
       "      <td>0.345356</td>\n",
       "      <td>0.174362</td>\n",
       "      <td>0.115452</td>\n",
       "      <td>1.565233</td>\n",
       "      <td>0.219034</td>\n",
       "      <td>0.116244</td>\n",
       "      <td>0.094914</td>\n",
       "      <td>0.153581</td>\n",
       "      <td>...</td>\n",
       "      <td>0.158320</td>\n",
       "      <td>1.194323</td>\n",
       "      <td>0.320252</td>\n",
       "      <td>0.137204</td>\n",
       "      <td>0.128519</td>\n",
       "      <td>0.333312</td>\n",
       "      <td>0.282119</td>\n",
       "      <td>0.485657</td>\n",
       "      <td>0.518680</td>\n",
       "      <td>pos</td>\n",
       "    </tr>\n",
       "    <tr>\n",
       "      <th>4</th>\n",
       "      <td>MB0013_1_371</td>\n",
       "      <td>0.603125</td>\n",
       "      <td>0.483254</td>\n",
       "      <td>0.301242</td>\n",
       "      <td>0.132543</td>\n",
       "      <td>2.876632</td>\n",
       "      <td>0.315426</td>\n",
       "      <td>0.137286</td>\n",
       "      <td>0.118034</td>\n",
       "      <td>0.578791</td>\n",
       "      <td>...</td>\n",
       "      <td>0.061375</td>\n",
       "      <td>1.350407</td>\n",
       "      <td>0.390461</td>\n",
       "      <td>0.173882</td>\n",
       "      <td>0.189328</td>\n",
       "      <td>0.342457</td>\n",
       "      <td>0.248364</td>\n",
       "      <td>1.554852</td>\n",
       "      <td>0.627247</td>\n",
       "      <td>pos</td>\n",
       "    </tr>\n",
       "  </tbody>\n",
       "</table>\n",
       "<p>5 rows × 39 columns</p>\n",
       "</div>"
      ],
      "text/plain": [
       "    Sample_name  Betacatenin      CAIX      CD20       CD3      CD44  \\\n",
       "0  MB0000_1_527     0.257119  0.099919  0.053080  0.068505  1.538144   \n",
       "1  MB0002_1_345     0.430766  0.165873  0.096097  0.044206  1.876108   \n",
       "2  MB0005_1_211     0.663028  0.366170  0.151895  0.094433  1.898584   \n",
       "3  MB0010_1_420     0.686098  0.345356  0.174362  0.115452  1.565233   \n",
       "4  MB0013_1_371     0.603125  0.483254  0.301242  0.132543  2.876632   \n",
       "\n",
       "       CD45      CD68      CK14      CK19  ...  Vimentin  cPARPcCasp3  \\\n",
       "0  0.237508  0.308845  0.041682  0.202937  ...  0.236465     0.652936   \n",
       "1  0.116108  0.077916  0.051861  0.799009  ...  0.083412     0.800771   \n",
       "2  0.255871  0.230951  0.072975  0.559487  ...  0.151438     1.375195   \n",
       "3  0.219034  0.116244  0.094914  0.153581  ...  0.158320     1.194323   \n",
       "4  0.315426  0.137286  0.118034  0.578791  ...  0.061375     1.350407   \n",
       "\n",
       "       mTOR       p53    pERK12      pHH3       pS6     panCK   vWFCD31  \\\n",
       "0  0.127962  0.047303  0.147692  0.125508  0.079349  0.304568  0.328876   \n",
       "1  0.219092  0.083990  0.154308  0.225958  0.339222  1.398314  0.324076   \n",
       "2  0.351046  0.127931  0.578319  0.383990  0.268074  2.224326  0.754883   \n",
       "3  0.320252  0.137204  0.128519  0.333312  0.282119  0.485657  0.518680   \n",
       "4  0.390461  0.173882  0.189328  0.342457  0.248364  1.554852  0.627247   \n",
       "\n",
       "   ER_status  \n",
       "0        pos  \n",
       "1        pos  \n",
       "2        pos  \n",
       "3        pos  \n",
       "4        pos  \n",
       "\n",
       "[5 rows x 39 columns]"
      ]
     },
     "execution_count": 56,
     "metadata": {
     },
     "output_type": "execute_result"
    }
   ],
   "source": [
    "data_file = pd.read_csv(\"sample_data.tsv\", sep='\\t')\n",
    "\n",
    "data_file.head()"
   ]
  },
  {
   "cell_type": "code",
   "execution_count": 57,
   "metadata": {
    "collapsed": false
   },
   "outputs": [
    {
     "data": {
      "text/html": [
       "<div>\n",
       "<style scoped>\n",
       "    .dataframe tbody tr th:only-of-type {\n",
       "        vertical-align: middle;\n",
       "    }\n",
       "\n",
       "    .dataframe tbody tr th {\n",
       "        vertical-align: top;\n",
       "    }\n",
       "\n",
       "    .dataframe thead th {\n",
       "        text-align: right;\n",
       "    }\n",
       "</style>\n",
       "<table border=\"1\" class=\"dataframe\">\n",
       "  <thead>\n",
       "    <tr style=\"text-align: right;\">\n",
       "      <th></th>\n",
       "      <th>Betacatenin</th>\n",
       "      <th>CAIX</th>\n",
       "      <th>CD20</th>\n",
       "      <th>CD3</th>\n",
       "      <th>CD44</th>\n",
       "      <th>CD45</th>\n",
       "      <th>CD68</th>\n",
       "      <th>CK14</th>\n",
       "      <th>CK19</th>\n",
       "      <th>CK5</th>\n",
       "      <th>...</th>\n",
       "      <th>Twist</th>\n",
       "      <th>Vimentin</th>\n",
       "      <th>cPARPcCasp3</th>\n",
       "      <th>mTOR</th>\n",
       "      <th>p53</th>\n",
       "      <th>pERK12</th>\n",
       "      <th>pHH3</th>\n",
       "      <th>pS6</th>\n",
       "      <th>panCK</th>\n",
       "      <th>vWFCD31</th>\n",
       "    </tr>\n",
       "  </thead>\n",
       "  <tbody>\n",
       "    <tr>\n",
       "      <th>0</th>\n",
       "      <td>0.257119</td>\n",
       "      <td>0.099919</td>\n",
       "      <td>0.053080</td>\n",
       "      <td>0.068505</td>\n",
       "      <td>1.538144</td>\n",
       "      <td>0.237508</td>\n",
       "      <td>0.308845</td>\n",
       "      <td>0.041682</td>\n",
       "      <td>0.202937</td>\n",
       "      <td>0.258949</td>\n",
       "      <td>...</td>\n",
       "      <td>0.094359</td>\n",
       "      <td>0.236465</td>\n",
       "      <td>0.652936</td>\n",
       "      <td>0.127962</td>\n",
       "      <td>0.047303</td>\n",
       "      <td>0.147692</td>\n",
       "      <td>0.125508</td>\n",
       "      <td>0.079349</td>\n",
       "      <td>0.304568</td>\n",
       "      <td>0.328876</td>\n",
       "    </tr>\n",
       "    <tr>\n",
       "      <th>1</th>\n",
       "      <td>0.430766</td>\n",
       "      <td>0.165873</td>\n",
       "      <td>0.096097</td>\n",
       "      <td>0.044206</td>\n",
       "      <td>1.876108</td>\n",
       "      <td>0.116108</td>\n",
       "      <td>0.077916</td>\n",
       "      <td>0.051861</td>\n",
       "      <td>0.799009</td>\n",
       "      <td>0.311770</td>\n",
       "      <td>...</td>\n",
       "      <td>0.168792</td>\n",
       "      <td>0.083412</td>\n",
       "      <td>0.800771</td>\n",
       "      <td>0.219092</td>\n",
       "      <td>0.083990</td>\n",
       "      <td>0.154308</td>\n",
       "      <td>0.225958</td>\n",
       "      <td>0.339222</td>\n",
       "      <td>1.398314</td>\n",
       "      <td>0.324076</td>\n",
       "    </tr>\n",
       "    <tr>\n",
       "      <th>2</th>\n",
       "      <td>0.663028</td>\n",
       "      <td>0.366170</td>\n",
       "      <td>0.151895</td>\n",
       "      <td>0.094433</td>\n",
       "      <td>1.898584</td>\n",
       "      <td>0.255871</td>\n",
       "      <td>0.230951</td>\n",
       "      <td>0.072975</td>\n",
       "      <td>0.559487</td>\n",
       "      <td>0.439992</td>\n",
       "      <td>...</td>\n",
       "      <td>0.380864</td>\n",
       "      <td>0.151438</td>\n",
       "      <td>1.375195</td>\n",
       "      <td>0.351046</td>\n",
       "      <td>0.127931</td>\n",
       "      <td>0.578319</td>\n",
       "      <td>0.383990</td>\n",
       "      <td>0.268074</td>\n",
       "      <td>2.224326</td>\n",
       "      <td>0.754883</td>\n",
       "    </tr>\n",
       "    <tr>\n",
       "      <th>3</th>\n",
       "      <td>0.686098</td>\n",
       "      <td>0.345356</td>\n",
       "      <td>0.174362</td>\n",
       "      <td>0.115452</td>\n",
       "      <td>1.565233</td>\n",
       "      <td>0.219034</td>\n",
       "      <td>0.116244</td>\n",
       "      <td>0.094914</td>\n",
       "      <td>0.153581</td>\n",
       "      <td>0.368934</td>\n",
       "      <td>...</td>\n",
       "      <td>0.296349</td>\n",
       "      <td>0.158320</td>\n",
       "      <td>1.194323</td>\n",
       "      <td>0.320252</td>\n",
       "      <td>0.137204</td>\n",
       "      <td>0.128519</td>\n",
       "      <td>0.333312</td>\n",
       "      <td>0.282119</td>\n",
       "      <td>0.485657</td>\n",
       "      <td>0.518680</td>\n",
       "    </tr>\n",
       "    <tr>\n",
       "      <th>4</th>\n",
       "      <td>0.603125</td>\n",
       "      <td>0.483254</td>\n",
       "      <td>0.301242</td>\n",
       "      <td>0.132543</td>\n",
       "      <td>2.876632</td>\n",
       "      <td>0.315426</td>\n",
       "      <td>0.137286</td>\n",
       "      <td>0.118034</td>\n",
       "      <td>0.578791</td>\n",
       "      <td>0.354976</td>\n",
       "      <td>...</td>\n",
       "      <td>0.353776</td>\n",
       "      <td>0.061375</td>\n",
       "      <td>1.350407</td>\n",
       "      <td>0.390461</td>\n",
       "      <td>0.173882</td>\n",
       "      <td>0.189328</td>\n",
       "      <td>0.342457</td>\n",
       "      <td>0.248364</td>\n",
       "      <td>1.554852</td>\n",
       "      <td>0.627247</td>\n",
       "    </tr>\n",
       "  </tbody>\n",
       "</table>\n",
       "<p>5 rows × 37 columns</p>\n",
       "</div>"
      ],
      "text/plain": [
       "   Betacatenin      CAIX      CD20       CD3      CD44      CD45      CD68  \\\n",
       "0     0.257119  0.099919  0.053080  0.068505  1.538144  0.237508  0.308845   \n",
       "1     0.430766  0.165873  0.096097  0.044206  1.876108  0.116108  0.077916   \n",
       "2     0.663028  0.366170  0.151895  0.094433  1.898584  0.255871  0.230951   \n",
       "3     0.686098  0.345356  0.174362  0.115452  1.565233  0.219034  0.116244   \n",
       "4     0.603125  0.483254  0.301242  0.132543  2.876632  0.315426  0.137286   \n",
       "\n",
       "       CK14      CK19       CK5  ...     Twist  Vimentin  cPARPcCasp3  \\\n",
       "0  0.041682  0.202937  0.258949  ...  0.094359  0.236465     0.652936   \n",
       "1  0.051861  0.799009  0.311770  ...  0.168792  0.083412     0.800771   \n",
       "2  0.072975  0.559487  0.439992  ...  0.380864  0.151438     1.375195   \n",
       "3  0.094914  0.153581  0.368934  ...  0.296349  0.158320     1.194323   \n",
       "4  0.118034  0.578791  0.354976  ...  0.353776  0.061375     1.350407   \n",
       "\n",
       "       mTOR       p53    pERK12      pHH3       pS6     panCK   vWFCD31  \n",
       "0  0.127962  0.047303  0.147692  0.125508  0.079349  0.304568  0.328876  \n",
       "1  0.219092  0.083990  0.154308  0.225958  0.339222  1.398314  0.324076  \n",
       "2  0.351046  0.127931  0.578319  0.383990  0.268074  2.224326  0.754883  \n",
       "3  0.320252  0.137204  0.128519  0.333312  0.282119  0.485657  0.518680  \n",
       "4  0.390461  0.173882  0.189328  0.342457  0.248364  1.554852  0.627247  \n",
       "\n",
       "[5 rows x 37 columns]"
      ]
     },
     "execution_count": 57,
     "metadata": {
     },
     "output_type": "execute_result"
    }
   ],
   "source": [
    "## select the fields we care about and convert to numpy\n",
    "\n",
    "data = data_file.iloc[:, 1:-1]\n",
    "\n",
    "data.head() #check"
   ]
  },
  {
   "cell_type": "code",
   "execution_count": 58,
   "metadata": {
    "collapsed": false
   },
   "outputs": [
    {
     "data": {
      "text/plain": [
       "(100, 37)"
      ]
     },
     "execution_count": 58,
     "metadata": {
     },
     "output_type": "execute_result"
    }
   ],
   "source": [
    "data = data.to_numpy()\n",
    "\n",
    "data.shape"
   ]
  },
  {
   "cell_type": "code",
   "execution_count": 59,
   "metadata": {
    "collapsed": false
   },
   "outputs": [
   ],
   "source": [
    "scaled_data = StandardScaler().fit_transform(data) # standardize the features"
   ]
  },
  {
   "cell_type": "code",
   "execution_count": 60,
   "metadata": {
    "collapsed": false
   },
   "outputs": [
    {
     "name": "stdout",
     "output_type": "stream",
     "text": [
      "[66 92]\n"
     ]
    },
    {
     "data": {
      "text/plain": [
       "(2, 37)"
      ]
     },
     "execution_count": 60,
     "metadata": {
     },
     "output_type": "execute_result"
    }
   ],
   "source": [
    "## run the KMeans\n",
    "np.random.seed(123) # set the seed\n",
    "\n",
    "k=2 # two clusters\n",
    "\n",
    "idx = np.random.choice(range(0, scaled_data.shape[0]), k)\n",
    "\n",
    "print(idx)\n",
    "\n",
    "init_centroids = scaled_data[idx, :]\n",
    "\n",
    "init_centroids.shape"
   ]
  },
  {
   "cell_type": "code",
   "execution_count": 61,
   "metadata": {
    "collapsed": false
   },
   "outputs": [
   ],
   "source": [
    "final_centroids = kmeans(scaled_data, k, init_centroids, 10)\n",
    "\n",
    "new_lst = find_closest_centroid(scaled_data, final_centroids, k)"
   ]
  },
  {
   "cell_type": "code",
   "execution_count": 62,
   "metadata": {
    "collapsed": false
   },
   "outputs": [
    {
     "data": {
      "text/html": [
       "<div>\n",
       "<style scoped>\n",
       "    .dataframe tbody tr th:only-of-type {\n",
       "        vertical-align: middle;\n",
       "    }\n",
       "\n",
       "    .dataframe tbody tr th {\n",
       "        vertical-align: top;\n",
       "    }\n",
       "\n",
       "    .dataframe thead th {\n",
       "        text-align: right;\n",
       "    }\n",
       "</style>\n",
       "<table border=\"1\" class=\"dataframe\">\n",
       "  <thead>\n",
       "    <tr style=\"text-align: right;\">\n",
       "      <th></th>\n",
       "      <th>Betacatenin</th>\n",
       "      <th>CAIX</th>\n",
       "      <th>CD20</th>\n",
       "      <th>CD3</th>\n",
       "      <th>CD44</th>\n",
       "      <th>CD45</th>\n",
       "      <th>CD68</th>\n",
       "      <th>CK14</th>\n",
       "      <th>CK19</th>\n",
       "      <th>CK5</th>\n",
       "      <th>...</th>\n",
       "      <th>Vimentin</th>\n",
       "      <th>cPARPcCasp3</th>\n",
       "      <th>mTOR</th>\n",
       "      <th>p53</th>\n",
       "      <th>pERK12</th>\n",
       "      <th>pHH3</th>\n",
       "      <th>pS6</th>\n",
       "      <th>panCK</th>\n",
       "      <th>vWFCD31</th>\n",
       "      <th>cluster</th>\n",
       "    </tr>\n",
       "  </thead>\n",
       "  <tbody>\n",
       "    <tr>\n",
       "      <th>0</th>\n",
       "      <td>-2.003348</td>\n",
       "      <td>-0.994801</td>\n",
       "      <td>-1.523664</td>\n",
       "      <td>-0.878649</td>\n",
       "      <td>-1.439749</td>\n",
       "      <td>-0.261637</td>\n",
       "      <td>0.598788</td>\n",
       "      <td>-0.463465</td>\n",
       "      <td>-0.843580</td>\n",
       "      <td>-1.029058</td>\n",
       "      <td>...</td>\n",
       "      <td>-0.207388</td>\n",
       "      <td>-2.552512</td>\n",
       "      <td>-2.439835</td>\n",
       "      <td>-1.195129</td>\n",
       "      <td>-0.644800</td>\n",
       "      <td>-1.944951</td>\n",
       "      <td>-1.498670</td>\n",
       "      <td>-1.623853</td>\n",
       "      <td>-1.673807</td>\n",
       "      <td>0</td>\n",
       "    </tr>\n",
       "    <tr>\n",
       "      <th>1</th>\n",
       "      <td>-0.700250</td>\n",
       "      <td>-0.776510</td>\n",
       "      <td>-0.926366</td>\n",
       "      <td>-1.262557</td>\n",
       "      <td>-0.721069</td>\n",
       "      <td>-1.238664</td>\n",
       "      <td>-1.260134</td>\n",
       "      <td>-0.408238</td>\n",
       "      <td>1.166965</td>\n",
       "      <td>-0.715432</td>\n",
       "      <td>...</td>\n",
       "      <td>-1.254476</td>\n",
       "      <td>-1.742643</td>\n",
       "      <td>-1.117297</td>\n",
       "      <td>-0.724110</td>\n",
       "      <td>-0.575731</td>\n",
       "      <td>-0.622247</td>\n",
       "      <td>-0.077890</td>\n",
       "      <td>0.694143</td>\n",
       "      <td>-1.712515</td>\n",
       "      <td>0</td>\n",
       "    </tr>\n",
       "    <tr>\n",
       "      <th>2</th>\n",
       "      <td>1.042712</td>\n",
       "      <td>-0.113577</td>\n",
       "      <td>-0.151612</td>\n",
       "      <td>-0.469030</td>\n",
       "      <td>-0.673274</td>\n",
       "      <td>-0.113849</td>\n",
       "      <td>-0.028240</td>\n",
       "      <td>-0.293683</td>\n",
       "      <td>0.359060</td>\n",
       "      <td>0.045876</td>\n",
       "      <td>...</td>\n",
       "      <td>-0.789085</td>\n",
       "      <td>1.404150</td>\n",
       "      <td>0.797718</td>\n",
       "      <td>-0.159939</td>\n",
       "      <td>3.850790</td>\n",
       "      <td>1.458667</td>\n",
       "      <td>-0.466872</td>\n",
       "      <td>2.444725</td>\n",
       "      <td>1.761364</td>\n",
       "      <td>1</td>\n",
       "    </tr>\n",
       "    <tr>\n",
       "      <th>3</th>\n",
       "      <td>1.215837</td>\n",
       "      <td>-0.182464</td>\n",
       "      <td>0.160338</td>\n",
       "      <td>-0.136950</td>\n",
       "      <td>-1.382146</td>\n",
       "      <td>-0.410316</td>\n",
       "      <td>-0.951601</td>\n",
       "      <td>-0.174649</td>\n",
       "      <td>-1.010058</td>\n",
       "      <td>-0.376031</td>\n",
       "      <td>...</td>\n",
       "      <td>-0.742002</td>\n",
       "      <td>0.413305</td>\n",
       "      <td>0.350813</td>\n",
       "      <td>-0.040881</td>\n",
       "      <td>-0.844964</td>\n",
       "      <td>0.791362</td>\n",
       "      <td>-0.390084</td>\n",
       "      <td>-1.240067</td>\n",
       "      <td>-0.143292</td>\n",
       "      <td>1</td>\n",
       "    </tr>\n",
       "    <tr>\n",
       "      <th>4</th>\n",
       "      <td>0.593182</td>\n",
       "      <td>0.273943</td>\n",
       "      <td>1.922053</td>\n",
       "      <td>0.133071</td>\n",
       "      <td>1.406546</td>\n",
       "      <td>0.365448</td>\n",
       "      <td>-0.782217</td>\n",
       "      <td>-0.049204</td>\n",
       "      <td>0.424174</td>\n",
       "      <td>-0.458903</td>\n",
       "      <td>...</td>\n",
       "      <td>-1.405235</td>\n",
       "      <td>1.268361</td>\n",
       "      <td>1.369736</td>\n",
       "      <td>0.430029</td>\n",
       "      <td>-0.210137</td>\n",
       "      <td>0.911772</td>\n",
       "      <td>-0.574630</td>\n",
       "      <td>1.025896</td>\n",
       "      <td>0.732152</td>\n",
       "      <td>1</td>\n",
       "    </tr>\n",
       "  </tbody>\n",
       "</table>\n",
       "<p>5 rows × 38 columns</p>\n",
       "</div>"
      ],
      "text/plain": [
       "   Betacatenin      CAIX      CD20       CD3      CD44      CD45      CD68  \\\n",
       "0    -2.003348 -0.994801 -1.523664 -0.878649 -1.439749 -0.261637  0.598788   \n",
       "1    -0.700250 -0.776510 -0.926366 -1.262557 -0.721069 -1.238664 -1.260134   \n",
       "2     1.042712 -0.113577 -0.151612 -0.469030 -0.673274 -0.113849 -0.028240   \n",
       "3     1.215837 -0.182464  0.160338 -0.136950 -1.382146 -0.410316 -0.951601   \n",
       "4     0.593182  0.273943  1.922053  0.133071  1.406546  0.365448 -0.782217   \n",
       "\n",
       "       CK14      CK19       CK5  ...  Vimentin  cPARPcCasp3      mTOR  \\\n",
       "0 -0.463465 -0.843580 -1.029058  ... -0.207388    -2.552512 -2.439835   \n",
       "1 -0.408238  1.166965 -0.715432  ... -1.254476    -1.742643 -1.117297   \n",
       "2 -0.293683  0.359060  0.045876  ... -0.789085     1.404150  0.797718   \n",
       "3 -0.174649 -1.010058 -0.376031  ... -0.742002     0.413305  0.350813   \n",
       "4 -0.049204  0.424174 -0.458903  ... -1.405235     1.268361  1.369736   \n",
       "\n",
       "        p53    pERK12      pHH3       pS6     panCK   vWFCD31  cluster  \n",
       "0 -1.195129 -0.644800 -1.944951 -1.498670 -1.623853 -1.673807        0  \n",
       "1 -0.724110 -0.575731 -0.622247 -0.077890  0.694143 -1.712515        0  \n",
       "2 -0.159939  3.850790  1.458667 -0.466872  2.444725  1.761364        1  \n",
       "3 -0.040881 -0.844964  0.791362 -0.390084 -1.240067 -0.143292        1  \n",
       "4  0.430029 -0.210137  0.911772 -0.574630  1.025896  0.732152        1  \n",
       "\n",
       "[5 rows x 38 columns]"
      ]
     },
     "execution_count": 62,
     "metadata": {
     },
     "output_type": "execute_result"
    }
   ],
   "source": [
    "df = pd.DataFrame(scaled_data, columns=data_file.columns[1:-1])\n",
    "\n",
    "df['cluster'] = new_lst\n",
    "\n",
    "df.head()"
   ]
  },
  {
   "cell_type": "code",
   "execution_count": 63,
   "metadata": {
    "collapsed": false
   },
   "outputs": [
    {
     "data": {
      "image/png": "[encoded data removed]",
      "text/plain": [
       "<Figure size 864x504 with 1 Axes>"
      ]
     },
     "execution_count": 63,
     "metadata": {
      "image/png": {
       "height": 424,
       "width": 719
      },
      "needs_background": "light"
     },
     "output_type": "execute_result"
    }
   ],
   "source": [
    "# lets see what our clusters look like \n",
    "\n",
    "\n",
    "sns.scatterplot(df, x='CD3', y='CD20', hue='cluster');"
   ]
  },
  {
   "cell_type": "code",
   "execution_count": 0,
   "metadata": {
    "collapsed": false
   },
   "outputs": [
   ],
   "source": [
   ]
  },
  {
   "cell_type": "code",
   "execution_count": 0,
   "metadata": {
    "collapsed": false
   },
   "outputs": [
   ],
   "source": [
   ]
  }
 ],
 "metadata": {
  "kernelspec": {
   "argv": [
    "/usr/bin/python3",
    "-m",
    "ipykernel",
    "--HistoryManager.enabled=False",
    "--matplotlib=inline",
    "-c",
    "%config InlineBackend.figure_formats = set(['retina'])\nimport matplotlib; matplotlib.rcParams['figure.figsize'] = (12, 7)",
    "-f",
    "{connection_file}"
   ],
   "display_name": "Python 3 (system-wide)",
   "env": {
   },
   "language": "python",
   "metadata": {
    "cocalc": {
     "description": "Python 3 programming language",
     "priority": 100,
     "url": "https://www.python.org/"
    }
   },
   "name": "python3",
   "resource_dir": "/ext/jupyter/kernels/python3"
  }
 },
 "nbformat": 4,
 "nbformat_minor": 4
}