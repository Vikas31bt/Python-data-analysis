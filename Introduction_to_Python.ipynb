{
 "cells": [
  {
   "cell_type": "markdown",
   "metadata": {
    "collapsed": false
   },
   "source": [
    "# Python 101  \n",
    "Here I'll go through the basics of Python :)  \n",
    "Please go through after the class and try some more examples. [Real Python](https://realpython.com/) has some really great tutorials!  \n",
    "\n",
    "What makes Python so user-friendly is that you code it the way you read it, syntax is very straightforward and there's so much support for beginners!   "
   ]
  },
  {
   "cell_type": "code",
   "execution_count": 3,
   "metadata": {
    "collapsed": false
   },
   "outputs": [
    {
     "name": "stdout",
     "output_type": "stream",
     "text": [
      "Hello World!\n"
     ]
    }
   ],
   "source": [
    "## but first!\n",
    "\n",
    "print(\"Hello World!\")"
   ]
  },
  {
   "cell_type": "code",
   "execution_count": 4,
   "metadata": {
    "collapsed": false
   },
   "outputs": [
    {
     "name": "stdout",
     "output_type": "stream",
     "text": [
      "We are at step 2\n"
     ]
    }
   ],
   "source": [
    "print('We are at step 2')"
   ]
  },
  {
   "cell_type": "markdown",
   "metadata": {
    "collapsed": false
   },
   "source": [
    "### Key Python Data Types\n",
    "* Variables: You can denote these with letters, names but python doesn't like spaces so if you want a more descriptive name, you'll need underscores e.g. `my_variable` or `x`  \n",
    "* For numbers: integers and floats  \n",
    "* For characters:  strings  \n",
    "\n",
    "\n",
    "_Note: You can make numbers into strings, but we'll talk about that later_"
   ]
  },
  {
   "cell_type": "code",
   "execution_count": 5,
   "metadata": {
    "collapsed": false
   },
   "outputs": [
   ],
   "source": [
    "## Assign your values to your variables using '='\n",
    "\n",
    "x = 5 # x is an integer\n",
    "\n",
    "y = 3.5 # y is a float\n",
    "\n",
    "z = 'rob' # z is a string - strings are denoted by '' or \"\" (make sure to open and close using the same one!)\n",
    "\n",
    "## These are called data types"
   ]
  },
  {
   "cell_type": "code",
   "execution_count": 6,
   "metadata": {
    "collapsed": false
   },
   "outputs": [
    {
     "name": "stdout",
     "output_type": "stream",
     "text": [
      "ACTTTTACCGCGTT\n"
     ]
    }
   ],
   "source": [
    "print('ACTTTTACCGCGTT')"
   ]
  },
  {
   "cell_type": "code",
   "execution_count": 7,
   "metadata": {
    "collapsed": false
   },
   "outputs": [
   ],
   "source": [
    "gene1 = 'ACTTTTACCGCGTT'"
   ]
  },
  {
   "cell_type": "code",
   "execution_count": 8,
   "metadata": {
    "collapsed": false
   },
   "outputs": [
    {
     "name": "stdout",
     "output_type": "stream",
     "text": [
      "ACTTTTACCGCGTT\n"
     ]
    }
   ],
   "source": [
    "print(gene1)"
   ]
  },
  {
   "cell_type": "code",
   "execution_count": 9,
   "metadata": {
    "collapsed": false
   },
   "outputs": [
    {
     "name": "stdout",
     "output_type": "stream",
     "text": [
      "5\n",
      "3.5\n",
      "rob\n",
      "the data type of x is: <class 'int'>\n",
      "the data type of y is: <class 'float'>\n",
      "the data type of z is: <class 'str'>\n"
     ]
    }
   ],
   "source": [
    "# you can confirm the type of each variable using `type()`\n",
    "# we can also `print()`  the output of our code, like follows\n",
    "\n",
    "print(x)\n",
    "\n",
    "print(y)\n",
    "\n",
    "print(z)\n",
    "\n",
    "print('the data type of x is:', type(x)) # by adding commas into the parentheses, you can print multiple things from the same call\n",
    "\n",
    "print('the data type of y is:', type(y))\n",
    "\n",
    "print('the data type of z is:', type(z))"
   ]
  },
  {
   "cell_type": "markdown",
   "metadata": {
    "collapsed": false
   },
   "source": [
    "### More on Strings  \n",
    "Notice that strings are a _string_ of characters, just like words are made of individual letters, think of strings just like that! Once you think of them like that you'll realize there's lots more you can do with them! Some common things you'll do with them are in the following cell:"
   ]
  },
  {
   "cell_type": "code",
   "execution_count": 31,
   "metadata": {
    "collapsed": false,
    "scrolled": true
   },
   "outputs": [
    {
     "name": "stdout",
     "output_type": "stream",
     "text": [
      "joined_string: string1string2\n",
      "dog plays fetch\n",
      "n\n",
      "sub_string: tri\n",
      "string_list: ['s', 'ing1']\n",
      "['EG1000', '123']\n",
      "['new', 'string']\n",
      "['This', 'string', 'is', 'split']\n",
      "I love coding\n",
      "ACCCTTGG\n"
     ]
    }
   ],
   "source": [
    "string1 = 'string1'\n",
    "\n",
    "string2 = 'string2'\n",
    "\n",
    "joined_string = string1 + string2 # you can add two strings to join them together!\n",
    "\n",
    "print('joined_string:', joined_string)\n",
    "\n",
    "sentence1 = 'dog' + ' ' + 'plays' + ' ' + 'fetch'\n",
    "\n",
    "print(sentence1)\n",
    "\n",
    "sub_string = string1[1:4] #you can access different parts of a string using indexing (more on this below!)\n",
    "\n",
    "print(string1[4])\n",
    "print('sub_string:', sub_string)\n",
    "\n",
    "string_list = string1.split('tr') # you can split a string based on characters -- this will return a list containing elements before and after the splitting character\n",
    "\n",
    "print('string_list:', string_list)\n",
    "\n",
    "names = 'EG1000-123'\n",
    "\n",
    "print(names.split('-'))\n",
    "\n",
    "new_string = 'new0string'.split('0')\n",
    "\n",
    "print(new_string)\n",
    "\n",
    "split_string = 'This-string-is-split'.split('-') # you can specify '-', '_' and also spaces using ' '\n",
    "\n",
    "print(split_string)\n",
    "\n",
    "replace_string = 'I hate coding'.replace('hate', 'love') # you can replace elements in a list\n",
    "\n",
    "print(replace_string)\n",
    "\n",
    "gene2 = 'ACCCTTGG'\n",
    "\n",
    "gene3 = gene2.replace('TG', 'AA')\n",
    "\n",
    "print(gene2)\n",
    "\n",
    "remove_whitespace = ' wow '.strip() # you can use .strip() to remove characters at the beginning and at the end\n",
    "\n",
    "\n",
    "print(remove_whitespace)\n",
    "print(' wow ') # for comparison"
   ]
  },
  {
   "cell_type": "markdown",
   "metadata": {
    "collapsed": false
   },
   "source": [
    "### Main Python Collections  \n",
    "Now we most likely won't be dealing with only one item at a time, we would likely have lots of items! So how do we deal with them? Luckily, Python has a few built-in data types to deal with collections of data:  \n",
    "* `list`: Denoted by `[ ]`, can have duplicate entries  \n",
    "* `tuple`: Denoted by `( )`, can have duplicate entries   \n",
    "* `set`: Sets are collections with unique objects, no duplicates  \n",
    "* `dictionary`: Great way to store data! Have key-value pairs, denoted by `{ }`. Keys must be unique!  \n",
    "\n",
    "\n",
    "I won't be going into sets and tuples, but once you understand lists, these become straightforward, although you have to remember they are different and there might be things you can do with lists you can't do with sets and tuples and vice versa."
   ]
  },
  {
   "cell_type": "code",
   "execution_count": 39,
   "metadata": {
    "collapsed": false
   },
   "outputs": [
    {
     "name": "stdout",
     "output_type": "stream",
     "text": [
      "this is the first element in my_list: 1\n",
      "the second and third element in my_list: [2, 'cat']\n",
      "the last element in my_list is: 2\n",
      "the second last element is: dog\n",
      "['cat', 'dog', 'dog']\n",
      "I-am-having-a-great-time-0\n"
     ]
    }
   ],
   "source": [
    "# lists\n",
    "\n",
    "my_list = [1, 2, 'cat', 'dog', 'dog', 2] # lists can have both numbers and strings\n",
    "\n",
    "print(\"this is the first element in my_list:\", my_list[0]) # you can access the elements in a list through indexing - PYTHON IS 0-INDEXED! Meaning the first element is at index 0\n",
    "\n",
    "# you can also use 'splicing' to get a range of elements\n",
    "\n",
    "print(\"the second and third element in my_list:\", my_list[1:3]) # Python excludes the last index, meaning it will not select element at index 3 (the 4th element)\n",
    "\n",
    "# # you can also access elements through negative numbers, but this is considered indexing backwards! (-1 is the last element, -2 is the second last element etc.)\n",
    "\n",
    "print(\"the last element in my_list is:\", my_list[-1])\n",
    "\n",
    "print(\"the second last element is:\", my_list[-2])\n",
    "\n",
    "print(my_list[2:-1]) # can mix negative and positive indexing\n",
    "\n",
    "# # if all of the elements in your list are strings, you can also join all the elements in a list into a string\n",
    "\n",
    "str_list = ['I', 'am', 'having', 'a', 'great', 'time', '0']\n",
    "\n",
    "joined_list_str = '-'.join(str_list) # you can specify how you want to join the elements in the list\n",
    "\n",
    "print(joined_list_str)"
   ]
  },
  {
   "cell_type": "code",
   "execution_count": 47,
   "metadata": {
    "collapsed": false,
    "scrolled": true
   },
   "outputs": [
    {
     "name": "stdout",
     "output_type": "stream",
     "text": [
      "dict_keys(['key1', 'key2', 'key3', 1])\n",
      "dict_values([1.0, ['cat', 'dog', 1, 2], 'value3', ['1', '2']])\n",
      "dict_items([('key1', 1.0), ('key2', ['cat', 'dog', 1, 2]), ('key3', 'value3'), (1, ['1', '2'])])\n",
      "['cat', 'dog', 1, 2]\n",
      "new keys dict_keys(['key1', 'key2', 'key3', 1, 'new_key'])\n",
      "dict_items([('key1', 1.0), ('key2', ['cat', 'dog', 1, 2]), ('key3', 'dog'), (1, ['1', '2']), ('new_key', 'this is a new value')])\n"
     ]
    }
   ],
   "source": [
    "## dictionaries\n",
    "\n",
    "my_dict = {'key1': 1.0, 'key2': ['cat', 'dog', 1, 2], 'key3': 'value3', 1:['1', '2']}\n",
    "\n",
    "# dictionaries can store all kinds of data, you can even have dictionaries within dictionaries (called a nested dictionary). The key's must be unique, otherwise if you tried to create a key-value pair with an existing key, it will get rewritten, if this is not what you want (usually the case), be careful!\n",
    "\n",
    "print(my_dict.keys()) # you can see which keys are in your dictionary\n",
    "\n",
    "print(my_dict.values()) # you can see what values you have in your dictionary\n",
    "\n",
    "print(my_dict.items()) # you can get all your key-value pairs as a tuple (wink! wink!)\n",
    "\n",
    "print(my_dict['key2']) # you can access the value of a key \n",
    "\n",
    "my_dict['new_key'] = 'this is a new value' # you can add new keys like this\n",
    "\n",
    "print('new keys', my_dict.keys())\n",
    "\n",
    "## to remove key\n",
    "\n",
    "my_dict.pop('new_key')\n",
    "\n",
    "print(my_dict.keys())\n",
    "\n",
    "my_dict['key3'] = 'dog' # if you use the same name, you will rewrite the value of the key -- keep key names unique!\n",
    "\n",
    "print(my_dict.items())"
   ]
  },
  {
   "cell_type": "code",
   "execution_count": 48,
   "metadata": {
    "collapsed": false
   },
   "outputs": [
    {
     "data": {
      "text/plain": [
       "'this is a new value'"
      ]
     },
     "execution_count": 48,
     "metadata": {
     },
     "output_type": "execute_result"
    }
   ],
   "source": [
    "my_dict.pop('new_key')"
   ]
  },
  {
   "cell_type": "code",
   "execution_count": 49,
   "metadata": {
    "collapsed": false
   },
   "outputs": [
    {
     "name": "stdout",
     "output_type": "stream",
     "text": [
      "{'key1': 1.0, 'key2': ['cat', 'dog', 1, 2], 'key3': 'dog', 1: ['1', '2']}\n"
     ]
    }
   ],
   "source": [
    "print(my_dict)"
   ]
  },
  {
   "cell_type": "code",
   "execution_count": 51,
   "metadata": {
    "collapsed": false
   },
   "outputs": [
    {
     "ename": "KeyError",
     "evalue": "'new_key'",
     "output_type": "error",
     "traceback": [
      "\u001b[0;31m---------------------------------------------------------------------------\u001b[0m",
      "\u001b[0;31mKeyError\u001b[0m                                  Traceback (most recent call last)",
      "Cell \u001b[0;32mIn[51], line 1\u001b[0m\n\u001b[0;32m----> 1\u001b[0m \u001b[43mmy_dict\u001b[49m\u001b[43m[\u001b[49m\u001b[38;5;124;43m'\u001b[39;49m\u001b[38;5;124;43mnew_key\u001b[39;49m\u001b[38;5;124;43m'\u001b[39;49m\u001b[43m]\u001b[49m\n",
      "\u001b[0;31mKeyError\u001b[0m: 'new_key'"
     ]
    }
   ],
   "source": [
    "my_dict['new_key']\n",
    "\n",
    "## if you try to access a key that doesn't exist in your dictionary, Python will throw a KeyError"
   ]
  },
  {
   "cell_type": "code",
   "execution_count": 0,
   "metadata": {
    "collapsed": false
   },
   "outputs": [
   ],
   "source": [
   ]
  },
  {
   "cell_type": "markdown",
   "metadata": {
    "collapsed": false
   },
   "source": [
    "## Some useful functions  \n",
    "Here I will list some built-in python functions that you might make a lot of use of. I will also give examples of their use. We will continue our discussion about Python functions in the next handout!  \n",
    "Functions in python are usually \"callables\" -- meaning you *call* a function. This is denoted by `()`  at the end of the name of the function. These parentheses might require an entry, might not require any entries or if it has multiple entries, each one represents something else. Here I will show you uses of `len()`, `list()`, `range()`, `max()`, `min()`, and `sum()`.  We've already come across `type()`!"
   ]
  },
  {
   "cell_type": "code",
   "execution_count": 52,
   "metadata": {
    "collapsed": false
   },
   "outputs": [
    {
     "name": "stdout",
     "output_type": "stream",
     "text": [
      "6\n",
      "6\n",
      "4\n"
     ]
    }
   ],
   "source": [
    "## len() - very self-explanatory! It will return the length of an object, either list, tuple, or string. If it is a dictionary it will return the number of keys in the dictionary.\n",
    "\n",
    "print(len(my_list)) # number of elements in the list\n",
    "\n",
    "print(len('string')) # number of characters in the string\n",
    " \n",
    "print(len(my_dict)) # number of keys in a dictionary"
   ]
  },
  {
   "cell_type": "code",
   "execution_count": 53,
   "metadata": {
    "collapsed": false
   },
   "outputs": [
    {
     "name": "stdout",
     "output_type": "stream",
     "text": [
      "['key1', 'key2', 'key3', 1]\n",
      "['s', 't', 'r', 'i', 'n', 'g']\n",
      "[1, 2, 3]\n"
     ]
    }
   ],
   "source": [
    "## list() - yes! Python also has a built-in list function! (Also has a dict() function that works similarly) \n",
    "## this function will turn everything into a list, see below!\n",
    "\n",
    "print(list(my_dict))\n",
    "\n",
    "print(list('string')) # each character will become an element in the list\n",
    "\n",
    "print(list((1,2,3)))"
   ]
  },
  {
   "cell_type": "code",
   "execution_count": 55,
   "metadata": {
    "collapsed": false
   },
   "outputs": [
    {
     "name": "stdout",
     "output_type": "stream",
     "text": [
      "range(0, 10)\n",
      "[0, 1, 2, 3, 4, 5, 6, 7, 8, 9]\n",
      "[1, 2, 3, 4, 5, 6, 7, 8]\n",
      "[0, 2, 4, 6, 8]\n"
     ]
    },
    {
     "ename": "TypeError",
     "evalue": "'float' object cannot be interpreted as an integer",
     "output_type": "error",
     "traceback": [
      "\u001b[0;31m---------------------------------------------------------------------------\u001b[0m",
      "\u001b[0;31mTypeError\u001b[0m                                 Traceback (most recent call last)",
      "Cell \u001b[0;32mIn[55], line 15\u001b[0m\n\u001b[1;32m     11\u001b[0m \u001b[38;5;28mprint\u001b[39m(\u001b[38;5;28mlist\u001b[39m(\u001b[38;5;28mrange\u001b[39m(\u001b[38;5;241m0\u001b[39m, \u001b[38;5;241m10\u001b[39m, \u001b[38;5;241m2\u001b[39m))) \u001b[38;5;66;03m# print every other element!\u001b[39;00m\n\u001b[1;32m     13\u001b[0m \u001b[38;5;66;03m## one thing to note - range() only accepts integer values so if you try to enter something that isn't an integer, it will throw a TypeError\u001b[39;00m\n\u001b[0;32m---> 15\u001b[0m \u001b[38;5;28mprint\u001b[39m(\u001b[38;5;28mlist\u001b[39m(\u001b[38;5;28;43mrange\u001b[39;49m\u001b[43m(\u001b[49m\u001b[38;5;241;43m0\u001b[39;49m\u001b[43m,\u001b[49m\u001b[38;5;241;43m5.1\u001b[39;49m\u001b[43m)\u001b[49m))\n",
      "\u001b[0;31mTypeError\u001b[0m: 'float' object cannot be interpreted as an integer"
     ]
    }
   ],
   "source": [
    "## range() - Not to be confused with range in statistics! This is a function that returns all the values up to the specified number. It also had additional parameters: it takes in start, stop and step values. If you do not specify a step, it defaults to 1. See more in the examples below:\n",
    "\n",
    "print(range(10)) # gives you the interval\n",
    "\n",
    "print(list(range(10)))\n",
    "\n",
    "print(list(range(1,9))) # you can apply a function to another function (aka composition!) - check out the output now!\n",
    "\n",
    "## lets add a step!\n",
    "\n",
    "print(list(range(0, 10, 2))) # print every other element!\n",
    "\n",
    "## one thing to note - range() only accepts integer values so if you try to enter something that isn't an integer, it will throw a TypeError\n",
    "\n",
    "print(list(range(0,5.1)))"
   ]
  },
  {
   "cell_type": "code",
   "execution_count": 59,
   "metadata": {
    "collapsed": false
   },
   "outputs": [
    {
     "name": "stdout",
     "output_type": "stream",
     "text": [
      "3\n"
     ]
    }
   ],
   "source": [
    "print(int(3.4))"
   ]
  },
  {
   "cell_type": "markdown",
   "metadata": {
    "collapsed": false
   },
   "source": [
    "**NOTE: Python is 0-indexed, meaning the first element is the 0th element. Python also excludes the last element, so if you notice in example 2 above for `range()`, even though we have `range(1,9)`, it prints out `[1,2,3,4,5,6,7,8]`, it does not print out 9 and that is because it treats the interval as `[1,9)`**"
   ]
  },
  {
   "cell_type": "code",
   "execution_count": 60,
   "metadata": {
    "collapsed": false
   },
   "outputs": [
    {
     "name": "stdout",
     "output_type": "stream",
     "text": [
      "123\n",
      "10\n"
     ]
    }
   ],
   "source": [
    "## max() - returns the maximum value \n",
    "\n",
    "print(max([1,44,123,5,6]))\n",
    "\n",
    "print(max(6, 10))"
   ]
  },
  {
   "cell_type": "code",
   "execution_count": 61,
   "metadata": {
    "collapsed": false
   },
   "outputs": [
    {
     "name": "stdout",
     "output_type": "stream",
     "text": [
      "6\n",
      "1\n"
     ]
    }
   ],
   "source": [
    "## min() - returns the minimum value\n",
    "\n",
    "print(min(6,10))\n",
    "\n",
    "print(min([1,44,123,5,6]))"
   ]
  },
  {
   "cell_type": "code",
   "execution_count": 62,
   "metadata": {
    "collapsed": false
   },
   "outputs": [
    {
     "name": "stdout",
     "output_type": "stream",
     "text": [
      "16\n",
      "179\n"
     ]
    },
    {
     "ename": "TypeError",
     "evalue": "'int' object is not iterable",
     "output_type": "error",
     "traceback": [
      "\u001b[0;31m---------------------------------------------------------------------------\u001b[0m",
      "\u001b[0;31mTypeError\u001b[0m                                 Traceback (most recent call last)",
      "Cell \u001b[0;32mIn[62], line 7\u001b[0m\n\u001b[1;32m      3\u001b[0m \u001b[38;5;28mprint\u001b[39m(\u001b[38;5;28msum\u001b[39m([\u001b[38;5;241m6\u001b[39m,\u001b[38;5;241m10\u001b[39m]))\n\u001b[1;32m      5\u001b[0m \u001b[38;5;28mprint\u001b[39m(\u001b[38;5;28msum\u001b[39m([\u001b[38;5;241m1\u001b[39m,\u001b[38;5;241m44\u001b[39m,\u001b[38;5;241m123\u001b[39m,\u001b[38;5;241m5\u001b[39m,\u001b[38;5;241m6\u001b[39m]))\n\u001b[0;32m----> 7\u001b[0m \u001b[38;5;28mprint\u001b[39m(\u001b[38;5;28;43msum\u001b[39;49m\u001b[43m(\u001b[49m\u001b[38;5;241;43m6\u001b[39;49m\u001b[43m,\u001b[49m\u001b[38;5;241;43m7\u001b[39;49m\u001b[43m)\u001b[49m)\n",
      "\u001b[0;31mTypeError\u001b[0m: 'int' object is not iterable"
     ]
    }
   ],
   "source": [
    "## sum() - takes in an 'iterable' and returns the sum\n",
    "\n",
    "print(sum([6,10]))\n",
    "\n",
    "print(sum([1,44,123,5,6]))\n",
    "\n",
    "print(sum(6,7)) # this will throw a TypeError"
   ]
  },
  {
   "cell_type": "markdown",
   "metadata": {
    "collapsed": false
   },
   "source": [
    "**NOTE: Iterables are a type of python object we can _iterate_ over, like lists or dictionaries. Things like itegers, strings and floats are not iterable. We will see why they are important when we talk about loops!**"
   ]
  },
  {
   "cell_type": "markdown",
   "metadata": {
    "collapsed": false
   },
   "source": [
    "## Reading Python Errors  \n",
    "Python actually throws very informative error messages which allow us to see where our code went wrong. There are two parts to an error message in Python:  \n",
    "1. The error type or message: The error message tells you _what_ the error is and what kind of error. We've already seen `TypeError` and `KeyError` - notice that these were accompanied by an error message, telling you what the issue is.  \n",
    "2. The Traceback: The Traceback tells you which line of code caused the error. This is helpful because you can go back to place where the error originated and fix it, instead of trying to work it out yourself.  \n",
    "\n",
    "\n",
    "**NOTE:** This does not mean you'll be able to find all problems and bugs in your code like this! These are errors that Python is able to catch but there may be errors it doesn't catch and you have to figure out why something isn't behaving the way it should."
   ]
  },
  {
   "cell_type": "code",
   "execution_count": 0,
   "metadata": {
    "collapsed": false
   },
   "outputs": [
   ],
   "source": [
   ]
  }
 ],
 "metadata": {
  "kernelspec": {
   "argv": [
    "/usr/bin/python3",
    "-m",
    "ipykernel",
    "--HistoryManager.enabled=False",
    "--matplotlib=inline",
    "-c",
    "%config InlineBackend.figure_formats = set(['retina'])\nimport matplotlib; matplotlib.rcParams['figure.figsize'] = (12, 7)",
    "-f",
    "{connection_file}"
   ],
   "display_name": "Python 3 (system-wide)",
   "env": {
   },
   "language": "python",
   "metadata": {
    "cocalc": {
     "description": "Python 3 programming language",
     "priority": 100,
     "url": "https://www.python.org/"
    }
   },
   "name": "python3",
   "resource_dir": "/ext/jupyter/kernels/python3"
  },
  "language_info": {
   "codemirror_mode": {
    "name": "ipython",
    "version": 3
   },
   "file_extension": ".py",
   "mimetype": "text/x-python",
   "name": "python",
   "nbconvert_exporter": "python",
   "pygments_lexer": "ipython3",
   "version": "3.10.12"
  }
 },
 "nbformat": 4,
 "nbformat_minor": 4
}